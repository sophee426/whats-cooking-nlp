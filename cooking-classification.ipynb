{
 "cells": [
  {
   "cell_type": "markdown",
   "metadata": {},
   "source": [
    "# import libraries"
   ]
  },
  {
   "cell_type": "code",
   "execution_count": 1,
   "metadata": {
    "execution": {
     "iopub.execute_input": "2023-10-26T11:16:18.798912Z",
     "iopub.status.busy": "2023-10-26T11:16:18.797992Z",
     "iopub.status.idle": "2023-10-26T11:16:18.805838Z",
     "shell.execute_reply": "2023-10-26T11:16:18.804908Z",
     "shell.execute_reply.started": "2023-10-26T11:16:18.798865Z"
    }
   },
   "outputs": [
    {
     "name": "stderr",
     "output_type": "stream",
     "text": [
      "C:\\Users\\Gbanjubola\\AppData\\Local\\Programs\\Python\\Python311\\Lib\\site-packages\\tqdm\\auto.py:21: TqdmWarning: IProgress not found. Please update jupyter and ipywidgets. See https://ipywidgets.readthedocs.io/en/stable/user_install.html\n",
      "  from .autonotebook import tqdm as notebook_tqdm\n"
     ]
    }
   ],
   "source": [
    "import pandas as pd\n",
    "import numpy as np\n",
    "import seaborn as sn\n",
    "import matplotlib.pyplot as plt\n",
    "from sklearn.feature_extraction.text import TfidfVectorizer\n",
    "from sklearn.model_selection import train_test_split\n",
    "from sklearn.linear_model import LogisticRegression, LogisticRegressionCV\n",
    "from sklearn.metrics import accuracy_score\n",
    "from catboost import CatBoostClassifier\n",
    "from xgboost import XGBClassifier\n",
    "from sklearn.preprocessing import LabelEncoder\n",
    "from sklearn.svm import SVC\n",
    "from sklearn.ensemble import RandomForestClassifier\n",
    "\n",
    "import optuna"
   ]
  },
  {
   "cell_type": "markdown",
   "metadata": {},
   "source": [
    "# Read train and test data"
   ]
  },
  {
   "cell_type": "code",
   "execution_count": 3,
   "metadata": {
    "execution": {
     "iopub.execute_input": "2023-10-26T08:40:46.559194Z",
     "iopub.status.busy": "2023-10-26T08:40:46.558247Z",
     "iopub.status.idle": "2023-10-26T08:40:46.922856Z",
     "shell.execute_reply": "2023-10-26T08:40:46.921880Z",
     "shell.execute_reply.started": "2023-10-26T08:40:46.559154Z"
    }
   },
   "outputs": [
    {
     "data": {
      "text/html": [
       "<div>\n",
       "<style scoped>\n",
       "    .dataframe tbody tr th:only-of-type {\n",
       "        vertical-align: middle;\n",
       "    }\n",
       "\n",
       "    .dataframe tbody tr th {\n",
       "        vertical-align: top;\n",
       "    }\n",
       "\n",
       "    .dataframe thead th {\n",
       "        text-align: right;\n",
       "    }\n",
       "</style>\n",
       "<table border=\"1\" class=\"dataframe\">\n",
       "  <thead>\n",
       "    <tr style=\"text-align: right;\">\n",
       "      <th></th>\n",
       "      <th>id</th>\n",
       "      <th>cuisine</th>\n",
       "      <th>ingredients</th>\n",
       "    </tr>\n",
       "  </thead>\n",
       "  <tbody>\n",
       "    <tr>\n",
       "      <th>0</th>\n",
       "      <td>10259</td>\n",
       "      <td>greek</td>\n",
       "      <td>[romaine lettuce, black olives, grape tomatoes...</td>\n",
       "    </tr>\n",
       "    <tr>\n",
       "      <th>1</th>\n",
       "      <td>25693</td>\n",
       "      <td>southern_us</td>\n",
       "      <td>[plain flour, ground pepper, salt, tomatoes, g...</td>\n",
       "    </tr>\n",
       "    <tr>\n",
       "      <th>2</th>\n",
       "      <td>20130</td>\n",
       "      <td>filipino</td>\n",
       "      <td>[eggs, pepper, salt, mayonaise, cooking oil, g...</td>\n",
       "    </tr>\n",
       "    <tr>\n",
       "      <th>3</th>\n",
       "      <td>22213</td>\n",
       "      <td>indian</td>\n",
       "      <td>[water, vegetable oil, wheat, salt]</td>\n",
       "    </tr>\n",
       "    <tr>\n",
       "      <th>4</th>\n",
       "      <td>13162</td>\n",
       "      <td>indian</td>\n",
       "      <td>[black pepper, shallots, cornflour, cayenne pe...</td>\n",
       "    </tr>\n",
       "    <tr>\n",
       "      <th>...</th>\n",
       "      <td>...</td>\n",
       "      <td>...</td>\n",
       "      <td>...</td>\n",
       "    </tr>\n",
       "    <tr>\n",
       "      <th>39769</th>\n",
       "      <td>29109</td>\n",
       "      <td>irish</td>\n",
       "      <td>[light brown sugar, granulated sugar, butter, ...</td>\n",
       "    </tr>\n",
       "    <tr>\n",
       "      <th>39770</th>\n",
       "      <td>11462</td>\n",
       "      <td>italian</td>\n",
       "      <td>[KRAFT Zesty Italian Dressing, purple onion, b...</td>\n",
       "    </tr>\n",
       "    <tr>\n",
       "      <th>39771</th>\n",
       "      <td>2238</td>\n",
       "      <td>irish</td>\n",
       "      <td>[eggs, citrus fruit, raisins, sourdough starte...</td>\n",
       "    </tr>\n",
       "    <tr>\n",
       "      <th>39772</th>\n",
       "      <td>41882</td>\n",
       "      <td>chinese</td>\n",
       "      <td>[boneless chicken skinless thigh, minced garli...</td>\n",
       "    </tr>\n",
       "    <tr>\n",
       "      <th>39773</th>\n",
       "      <td>2362</td>\n",
       "      <td>mexican</td>\n",
       "      <td>[green chile, jalapeno chilies, onions, ground...</td>\n",
       "    </tr>\n",
       "  </tbody>\n",
       "</table>\n",
       "<p>39774 rows × 3 columns</p>\n",
       "</div>"
      ],
      "text/plain": [
       "          id      cuisine                                        ingredients\n",
       "0      10259        greek  [romaine lettuce, black olives, grape tomatoes...\n",
       "1      25693  southern_us  [plain flour, ground pepper, salt, tomatoes, g...\n",
       "2      20130     filipino  [eggs, pepper, salt, mayonaise, cooking oil, g...\n",
       "3      22213       indian                [water, vegetable oil, wheat, salt]\n",
       "4      13162       indian  [black pepper, shallots, cornflour, cayenne pe...\n",
       "...      ...          ...                                                ...\n",
       "39769  29109        irish  [light brown sugar, granulated sugar, butter, ...\n",
       "39770  11462      italian  [KRAFT Zesty Italian Dressing, purple onion, b...\n",
       "39771   2238        irish  [eggs, citrus fruit, raisins, sourdough starte...\n",
       "39772  41882      chinese  [boneless chicken skinless thigh, minced garli...\n",
       "39773   2362      mexican  [green chile, jalapeno chilies, onions, ground...\n",
       "\n",
       "[39774 rows x 3 columns]"
      ]
     },
     "execution_count": 3,
     "metadata": {},
     "output_type": "execute_result"
    }
   ],
   "source": [
    "data = pd.read_json('train.json')\n",
    "test =  pd.read_json('test.json')\n",
    "data"
   ]
  },
  {
   "cell_type": "markdown",
   "metadata": {},
   "source": [
    "# Data Analysis"
   ]
  },
  {
   "cell_type": "code",
   "execution_count": 4,
   "metadata": {
    "execution": {
     "iopub.execute_input": "2023-10-26T08:40:46.924767Z",
     "iopub.status.busy": "2023-10-26T08:40:46.924352Z",
     "iopub.status.idle": "2023-10-26T08:40:46.934423Z",
     "shell.execute_reply": "2023-10-26T08:40:46.933375Z",
     "shell.execute_reply.started": "2023-10-26T08:40:46.924730Z"
    }
   },
   "outputs": [],
   "source": [
    "data.drop('id', axis = 1, inplace = True)"
   ]
  },
  {
   "cell_type": "code",
   "execution_count": 5,
   "metadata": {
    "execution": {
     "iopub.execute_input": "2023-10-26T08:40:46.936268Z",
     "iopub.status.busy": "2023-10-26T08:40:46.935988Z",
     "iopub.status.idle": "2023-10-26T08:40:46.946149Z",
     "shell.execute_reply": "2023-10-26T08:40:46.945067Z",
     "shell.execute_reply.started": "2023-10-26T08:40:46.936243Z"
    }
   },
   "outputs": [
    {
     "name": "stdout",
     "output_type": "stream",
     "text": [
      "Index(['id', 'ingredients'], dtype='object')\n"
     ]
    }
   ],
   "source": [
    "test_id = test.id\n",
    "print(test.columns)"
   ]
  },
  {
   "cell_type": "code",
   "execution_count": 6,
   "metadata": {
    "execution": {
     "iopub.execute_input": "2023-10-26T11:55:28.420981Z",
     "iopub.status.busy": "2023-10-26T11:55:28.420593Z",
     "iopub.status.idle": "2023-10-26T11:55:28.744100Z",
     "shell.execute_reply": "2023-10-26T11:55:28.742626Z",
     "shell.execute_reply.started": "2023-10-26T11:55:28.420920Z"
    }
   },
   "outputs": [],
   "source": [
    "test.drop('id', axis = 1, inplace = True)"
   ]
  },
  {
   "cell_type": "code",
   "execution_count": 7,
   "metadata": {
    "execution": {
     "iopub.execute_input": "2023-10-26T08:40:46.947712Z",
     "iopub.status.busy": "2023-10-26T08:40:46.947425Z",
     "iopub.status.idle": "2023-10-26T08:40:46.967606Z",
     "shell.execute_reply": "2023-10-26T08:40:46.966704Z",
     "shell.execute_reply.started": "2023-10-26T08:40:46.947686Z"
    }
   },
   "outputs": [
    {
     "data": {
      "text/html": [
       "<div>\n",
       "<style scoped>\n",
       "    .dataframe tbody tr th:only-of-type {\n",
       "        vertical-align: middle;\n",
       "    }\n",
       "\n",
       "    .dataframe tbody tr th {\n",
       "        vertical-align: top;\n",
       "    }\n",
       "\n",
       "    .dataframe thead th {\n",
       "        text-align: right;\n",
       "    }\n",
       "</style>\n",
       "<table border=\"1\" class=\"dataframe\">\n",
       "  <thead>\n",
       "    <tr style=\"text-align: right;\">\n",
       "      <th></th>\n",
       "      <th>cuisine</th>\n",
       "      <th>ingredients</th>\n",
       "    </tr>\n",
       "  </thead>\n",
       "  <tbody>\n",
       "    <tr>\n",
       "      <th>0</th>\n",
       "      <td>greek</td>\n",
       "      <td>[romaine lettuce, black olives, grape tomatoes...</td>\n",
       "    </tr>\n",
       "    <tr>\n",
       "      <th>1</th>\n",
       "      <td>southern_us</td>\n",
       "      <td>[plain flour, ground pepper, salt, tomatoes, g...</td>\n",
       "    </tr>\n",
       "    <tr>\n",
       "      <th>2</th>\n",
       "      <td>filipino</td>\n",
       "      <td>[eggs, pepper, salt, mayonaise, cooking oil, g...</td>\n",
       "    </tr>\n",
       "    <tr>\n",
       "      <th>3</th>\n",
       "      <td>indian</td>\n",
       "      <td>[water, vegetable oil, wheat, salt]</td>\n",
       "    </tr>\n",
       "    <tr>\n",
       "      <th>4</th>\n",
       "      <td>indian</td>\n",
       "      <td>[black pepper, shallots, cornflour, cayenne pe...</td>\n",
       "    </tr>\n",
       "    <tr>\n",
       "      <th>...</th>\n",
       "      <td>...</td>\n",
       "      <td>...</td>\n",
       "    </tr>\n",
       "    <tr>\n",
       "      <th>39769</th>\n",
       "      <td>irish</td>\n",
       "      <td>[light brown sugar, granulated sugar, butter, ...</td>\n",
       "    </tr>\n",
       "    <tr>\n",
       "      <th>39770</th>\n",
       "      <td>italian</td>\n",
       "      <td>[KRAFT Zesty Italian Dressing, purple onion, b...</td>\n",
       "    </tr>\n",
       "    <tr>\n",
       "      <th>39771</th>\n",
       "      <td>irish</td>\n",
       "      <td>[eggs, citrus fruit, raisins, sourdough starte...</td>\n",
       "    </tr>\n",
       "    <tr>\n",
       "      <th>39772</th>\n",
       "      <td>chinese</td>\n",
       "      <td>[boneless chicken skinless thigh, minced garli...</td>\n",
       "    </tr>\n",
       "    <tr>\n",
       "      <th>39773</th>\n",
       "      <td>mexican</td>\n",
       "      <td>[green chile, jalapeno chilies, onions, ground...</td>\n",
       "    </tr>\n",
       "  </tbody>\n",
       "</table>\n",
       "<p>39774 rows × 2 columns</p>\n",
       "</div>"
      ],
      "text/plain": [
       "           cuisine                                        ingredients\n",
       "0            greek  [romaine lettuce, black olives, grape tomatoes...\n",
       "1      southern_us  [plain flour, ground pepper, salt, tomatoes, g...\n",
       "2         filipino  [eggs, pepper, salt, mayonaise, cooking oil, g...\n",
       "3           indian                [water, vegetable oil, wheat, salt]\n",
       "4           indian  [black pepper, shallots, cornflour, cayenne pe...\n",
       "...            ...                                                ...\n",
       "39769        irish  [light brown sugar, granulated sugar, butter, ...\n",
       "39770      italian  [KRAFT Zesty Italian Dressing, purple onion, b...\n",
       "39771        irish  [eggs, citrus fruit, raisins, sourdough starte...\n",
       "39772      chinese  [boneless chicken skinless thigh, minced garli...\n",
       "39773      mexican  [green chile, jalapeno chilies, onions, ground...\n",
       "\n",
       "[39774 rows x 2 columns]"
      ]
     },
     "execution_count": 7,
     "metadata": {},
     "output_type": "execute_result"
    }
   ],
   "source": [
    "data"
   ]
  },
  {
   "cell_type": "code",
   "execution_count": 13,
   "metadata": {},
   "outputs": [
    {
     "data": {
      "text/plain": [
       "<Axes: xlabel='count', ylabel='cuisine'>"
      ]
     },
     "execution_count": 13,
     "metadata": {},
     "output_type": "execute_result"
    },
    {
     "data": {
      "image/png": "[encoded data removed]",
      "text/plain": [
       "<Figure size 1500x800 with 1 Axes>"
      ]
     },
     "metadata": {},
     "output_type": "display_data"
    }
   ],
   "source": [
    "plt.figure(figsize=(15, 8))\n",
    "sn.countplot(data = data, y = 'cuisine')"
   ]
  },
  {
   "cell_type": "code",
   "execution_count": 8,
   "metadata": {
    "execution": {
     "iopub.execute_input": "2023-10-26T11:50:00.769162Z",
     "iopub.status.busy": "2023-10-26T11:50:00.768369Z",
     "iopub.status.idle": "2023-10-26T11:50:00.787393Z",
     "shell.execute_reply": "2023-10-26T11:50:00.786248Z",
     "shell.execute_reply.started": "2023-10-26T11:50:00.769125Z"
    }
   },
   "outputs": [
    {
     "data": {
      "text/html": [
       "<div>\n",
       "<style scoped>\n",
       "    .dataframe tbody tr th:only-of-type {\n",
       "        vertical-align: middle;\n",
       "    }\n",
       "\n",
       "    .dataframe tbody tr th {\n",
       "        vertical-align: top;\n",
       "    }\n",
       "\n",
       "    .dataframe thead th {\n",
       "        text-align: right;\n",
       "    }\n",
       "</style>\n",
       "<table border=\"1\" class=\"dataframe\">\n",
       "  <thead>\n",
       "    <tr style=\"text-align: right;\">\n",
       "      <th></th>\n",
       "      <th>ingredients</th>\n",
       "    </tr>\n",
       "  </thead>\n",
       "  <tbody>\n",
       "    <tr>\n",
       "      <th>0</th>\n",
       "      <td>[baking powder, eggs, all-purpose flour, raisi...</td>\n",
       "    </tr>\n",
       "    <tr>\n",
       "      <th>1</th>\n",
       "      <td>[sugar, egg yolks, corn starch, cream of tarta...</td>\n",
       "    </tr>\n",
       "    <tr>\n",
       "      <th>2</th>\n",
       "      <td>[sausage links, fennel bulb, fronds, olive oil...</td>\n",
       "    </tr>\n",
       "    <tr>\n",
       "      <th>3</th>\n",
       "      <td>[meat cuts, file powder, smoked sausage, okra,...</td>\n",
       "    </tr>\n",
       "    <tr>\n",
       "      <th>4</th>\n",
       "      <td>[ground black pepper, salt, sausage casings, l...</td>\n",
       "    </tr>\n",
       "    <tr>\n",
       "      <th>5</th>\n",
       "      <td>[baking powder, all-purpose flour, peach slice...</td>\n",
       "    </tr>\n",
       "    <tr>\n",
       "      <th>6</th>\n",
       "      <td>[grape juice, orange, white zinfandel]</td>\n",
       "    </tr>\n",
       "    <tr>\n",
       "      <th>7</th>\n",
       "      <td>[ground ginger, white pepper, green onions, or...</td>\n",
       "    </tr>\n",
       "    <tr>\n",
       "      <th>8</th>\n",
       "      <td>[diced onions, taco seasoning mix, all-purpose...</td>\n",
       "    </tr>\n",
       "    <tr>\n",
       "      <th>9</th>\n",
       "      <td>[eggs, cherries, dates, dark muscovado sugar, ...</td>\n",
       "    </tr>\n",
       "    <tr>\n",
       "      <th>10</th>\n",
       "      <td>[pasta, olive oil, crushed red pepper, cherry ...</td>\n",
       "    </tr>\n",
       "    <tr>\n",
       "      <th>11</th>\n",
       "      <td>[water, butter, ground sumac, ground lamb, gro...</td>\n",
       "    </tr>\n",
       "    <tr>\n",
       "      <th>12</th>\n",
       "      <td>[curry powder, ground cumin, chicken wings, ch...</td>\n",
       "    </tr>\n",
       "    <tr>\n",
       "      <th>13</th>\n",
       "      <td>[pasta, marinara sauce, dried basil, chicken f...</td>\n",
       "    </tr>\n",
       "    <tr>\n",
       "      <th>14</th>\n",
       "      <td>[salt, custard powder, white sugar, eggs, marg...</td>\n",
       "    </tr>\n",
       "    <tr>\n",
       "      <th>15</th>\n",
       "      <td>[vegetable oil cooking spray, egg whites, apri...</td>\n",
       "    </tr>\n",
       "    <tr>\n",
       "      <th>16</th>\n",
       "      <td>[vanilla ice cream, banana liqueur, bananas, p...</td>\n",
       "    </tr>\n",
       "    <tr>\n",
       "      <th>17</th>\n",
       "      <td>[molasses, hot sauce, baked beans, Grey Poupon...</td>\n",
       "    </tr>\n",
       "    <tr>\n",
       "      <th>18</th>\n",
       "      <td>[chopped green chilies, sour cream, cheddar ch...</td>\n",
       "    </tr>\n",
       "    <tr>\n",
       "      <th>19</th>\n",
       "      <td>[cold water, chicken drumsticks, chicken thigh...</td>\n",
       "    </tr>\n",
       "  </tbody>\n",
       "</table>\n",
       "</div>"
      ],
      "text/plain": [
       "                                          ingredients\n",
       "0   [baking powder, eggs, all-purpose flour, raisi...\n",
       "1   [sugar, egg yolks, corn starch, cream of tarta...\n",
       "2   [sausage links, fennel bulb, fronds, olive oil...\n",
       "3   [meat cuts, file powder, smoked sausage, okra,...\n",
       "4   [ground black pepper, salt, sausage casings, l...\n",
       "5   [baking powder, all-purpose flour, peach slice...\n",
       "6              [grape juice, orange, white zinfandel]\n",
       "7   [ground ginger, white pepper, green onions, or...\n",
       "8   [diced onions, taco seasoning mix, all-purpose...\n",
       "9   [eggs, cherries, dates, dark muscovado sugar, ...\n",
       "10  [pasta, olive oil, crushed red pepper, cherry ...\n",
       "11  [water, butter, ground sumac, ground lamb, gro...\n",
       "12  [curry powder, ground cumin, chicken wings, ch...\n",
       "13  [pasta, marinara sauce, dried basil, chicken f...\n",
       "14  [salt, custard powder, white sugar, eggs, marg...\n",
       "15  [vegetable oil cooking spray, egg whites, apri...\n",
       "16  [vanilla ice cream, banana liqueur, bananas, p...\n",
       "17  [molasses, hot sauce, baked beans, Grey Poupon...\n",
       "18  [chopped green chilies, sour cream, cheddar ch...\n",
       "19  [cold water, chicken drumsticks, chicken thigh..."
      ]
     },
     "execution_count": 8,
     "metadata": {},
     "output_type": "execute_result"
    }
   ],
   "source": [
    "test.head(20)"
   ]
  },
  {
   "cell_type": "code",
   "execution_count": 14,
   "metadata": {
    "execution": {
     "iopub.execute_input": "2023-10-26T08:40:46.969064Z",
     "iopub.status.busy": "2023-10-26T08:40:46.968794Z",
     "iopub.status.idle": "2023-10-26T08:40:46.992257Z",
     "shell.execute_reply": "2023-10-26T08:40:46.991396Z",
     "shell.execute_reply.started": "2023-10-26T08:40:46.969040Z"
    }
   },
   "outputs": [
    {
     "data": {
      "text/plain": [
       "cuisine\n",
       "italian         7838\n",
       "mexican         6438\n",
       "southern_us     4320\n",
       "indian          3003\n",
       "chinese         2673\n",
       "french          2646\n",
       "cajun_creole    1546\n",
       "thai            1539\n",
       "japanese        1423\n",
       "greek           1175\n",
       "spanish          989\n",
       "korean           830\n",
       "vietnamese       825\n",
       "moroccan         821\n",
       "british          804\n",
       "filipino         755\n",
       "irish            667\n",
       "jamaican         526\n",
       "russian          489\n",
       "brazilian        467\n",
       "Name: count, dtype: int64"
      ]
     },
     "execution_count": 14,
     "metadata": {},
     "output_type": "execute_result"
    }
   ],
   "source": [
    "data.cuisine.value_counts()"
   ]
  },
  {
   "cell_type": "code",
   "execution_count": 15,
   "metadata": {
    "execution": {
     "iopub.execute_input": "2023-10-26T08:40:46.993925Z",
     "iopub.status.busy": "2023-10-26T08:40:46.993571Z",
     "iopub.status.idle": "2023-10-26T08:40:47.018521Z",
     "shell.execute_reply": "2023-10-26T08:40:47.017591Z",
     "shell.execute_reply.started": "2023-10-26T08:40:46.993887Z"
    }
   },
   "outputs": [
    {
     "name": "stdout",
     "output_type": "stream",
     "text": [
      "<class 'pandas.core.frame.DataFrame'>\n",
      "RangeIndex: 39774 entries, 0 to 39773\n",
      "Data columns (total 2 columns):\n",
      " #   Column       Non-Null Count  Dtype \n",
      "---  ------       --------------  ----- \n",
      " 0   cuisine      39774 non-null  object\n",
      " 1   ingredients  39774 non-null  object\n",
      "dtypes: object(2)\n",
      "memory usage: 621.6+ KB\n"
     ]
    }
   ],
   "source": [
    "data.info()"
   ]
  },
  {
   "cell_type": "code",
   "execution_count": 16,
   "metadata": {
    "execution": {
     "iopub.execute_input": "2023-10-26T11:50:35.388949Z",
     "iopub.status.busy": "2023-10-26T11:50:35.388548Z",
     "iopub.status.idle": "2023-10-26T11:50:35.403970Z",
     "shell.execute_reply": "2023-10-26T11:50:35.401978Z",
     "shell.execute_reply.started": "2023-10-26T11:50:35.388896Z"
    }
   },
   "outputs": [
    {
     "name": "stdout",
     "output_type": "stream",
     "text": [
      "<class 'pandas.core.frame.DataFrame'>\n",
      "RangeIndex: 9944 entries, 0 to 9943\n",
      "Data columns (total 1 columns):\n",
      " #   Column       Non-Null Count  Dtype \n",
      "---  ------       --------------  ----- \n",
      " 0   ingredients  9944 non-null   object\n",
      "dtypes: object(1)\n",
      "memory usage: 77.8+ KB\n"
     ]
    }
   ],
   "source": [
    "test.info()"
   ]
  },
  {
   "cell_type": "markdown",
   "metadata": {
    "execution": {
     "iopub.status.busy": "2023-10-26T07:49:52.219646Z"
    }
   },
   "source": [
    "data.describe()"
   ]
  },
  {
   "cell_type": "markdown",
   "metadata": {},
   "source": [
    "# Data Preprocessing"
   ]
  },
  {
   "cell_type": "markdown",
   "metadata": {},
   "source": [
    "## text cleaning"
   ]
  },
  {
   "cell_type": "code",
   "execution_count": 18,
   "metadata": {
    "execution": {
     "iopub.execute_input": "2023-10-26T08:40:47.020354Z",
     "iopub.status.busy": "2023-10-26T08:40:47.020017Z",
     "iopub.status.idle": "2023-10-26T08:40:47.050808Z",
     "shell.execute_reply": "2023-10-26T08:40:47.049969Z",
     "shell.execute_reply.started": "2023-10-26T08:40:47.020320Z"
    }
   },
   "outputs": [],
   "source": [
    "# convertion of the ingredients text from lists to strings\n",
    "data['ingredients'] = data['ingredients'].apply(', '.join)"
   ]
  },
  {
   "cell_type": "code",
   "execution_count": 19,
   "metadata": {
    "execution": {
     "iopub.execute_input": "2023-10-26T11:52:09.787194Z",
     "iopub.status.busy": "2023-10-26T11:52:09.786256Z",
     "iopub.status.idle": "2023-10-26T11:52:09.863282Z",
     "shell.execute_reply": "2023-10-26T11:52:09.862051Z",
     "shell.execute_reply.started": "2023-10-26T11:52:09.787148Z"
    }
   },
   "outputs": [],
   "source": [
    "test['ingredients'] = test['ingredients'].apply(', '.join)"
   ]
  },
  {
   "cell_type": "code",
   "execution_count": 20,
   "metadata": {
    "execution": {
     "iopub.execute_input": "2023-10-26T11:51:37.416963Z",
     "iopub.status.busy": "2023-10-26T11:51:37.416566Z",
     "iopub.status.idle": "2023-10-26T11:51:37.449986Z",
     "shell.execute_reply": "2023-10-26T11:51:37.448978Z",
     "shell.execute_reply.started": "2023-10-26T11:51:37.416915Z"
    }
   },
   "outputs": [],
   "source": [
    "# convertion of all string characters to lower case\n",
    "data.ingredients = data.ingredients.str.lower()"
   ]
  },
  {
   "cell_type": "code",
   "execution_count": 21,
   "metadata": {
    "execution": {
     "iopub.execute_input": "2023-10-26T11:52:13.805844Z",
     "iopub.status.busy": "2023-10-26T11:52:13.805465Z",
     "iopub.status.idle": "2023-10-26T11:52:13.836529Z",
     "shell.execute_reply": "2023-10-26T11:52:13.835541Z",
     "shell.execute_reply.started": "2023-10-26T11:52:13.805813Z"
    }
   },
   "outputs": [],
   "source": [
    "test.ingredients = data.ingredients.str.lower()"
   ]
  },
  {
   "cell_type": "code",
   "execution_count": 22,
   "metadata": {
    "execution": {
     "iopub.execute_input": "2023-10-26T08:40:47.097404Z",
     "iopub.status.busy": "2023-10-26T08:40:47.096787Z",
     "iopub.status.idle": "2023-10-26T08:40:47.113897Z",
     "shell.execute_reply": "2023-10-26T08:40:47.112855Z",
     "shell.execute_reply.started": "2023-10-26T08:40:47.097369Z"
    }
   },
   "outputs": [
    {
     "data": {
      "text/html": [
       "<div>\n",
       "<style scoped>\n",
       "    .dataframe tbody tr th:only-of-type {\n",
       "        vertical-align: middle;\n",
       "    }\n",
       "\n",
       "    .dataframe tbody tr th {\n",
       "        vertical-align: top;\n",
       "    }\n",
       "\n",
       "    .dataframe thead th {\n",
       "        text-align: right;\n",
       "    }\n",
       "</style>\n",
       "<table border=\"1\" class=\"dataframe\">\n",
       "  <thead>\n",
       "    <tr style=\"text-align: right;\">\n",
       "      <th></th>\n",
       "      <th>cuisine</th>\n",
       "      <th>ingredients</th>\n",
       "    </tr>\n",
       "  </thead>\n",
       "  <tbody>\n",
       "    <tr>\n",
       "      <th>0</th>\n",
       "      <td>greek</td>\n",
       "      <td>romaine lettuce, black olives, grape tomatoes,...</td>\n",
       "    </tr>\n",
       "    <tr>\n",
       "      <th>1</th>\n",
       "      <td>southern_us</td>\n",
       "      <td>plain flour, ground pepper, salt, tomatoes, gr...</td>\n",
       "    </tr>\n",
       "    <tr>\n",
       "      <th>2</th>\n",
       "      <td>filipino</td>\n",
       "      <td>eggs, pepper, salt, mayonaise, cooking oil, gr...</td>\n",
       "    </tr>\n",
       "    <tr>\n",
       "      <th>3</th>\n",
       "      <td>indian</td>\n",
       "      <td>water, vegetable oil, wheat, salt</td>\n",
       "    </tr>\n",
       "    <tr>\n",
       "      <th>4</th>\n",
       "      <td>indian</td>\n",
       "      <td>black pepper, shallots, cornflour, cayenne pep...</td>\n",
       "    </tr>\n",
       "    <tr>\n",
       "      <th>...</th>\n",
       "      <td>...</td>\n",
       "      <td>...</td>\n",
       "    </tr>\n",
       "    <tr>\n",
       "      <th>39769</th>\n",
       "      <td>irish</td>\n",
       "      <td>light brown sugar, granulated sugar, butter, w...</td>\n",
       "    </tr>\n",
       "    <tr>\n",
       "      <th>39770</th>\n",
       "      <td>italian</td>\n",
       "      <td>kraft zesty italian dressing, purple onion, br...</td>\n",
       "    </tr>\n",
       "    <tr>\n",
       "      <th>39771</th>\n",
       "      <td>irish</td>\n",
       "      <td>eggs, citrus fruit, raisins, sourdough starter...</td>\n",
       "    </tr>\n",
       "    <tr>\n",
       "      <th>39772</th>\n",
       "      <td>chinese</td>\n",
       "      <td>boneless chicken skinless thigh, minced garlic...</td>\n",
       "    </tr>\n",
       "    <tr>\n",
       "      <th>39773</th>\n",
       "      <td>mexican</td>\n",
       "      <td>green chile, jalapeno chilies, onions, ground ...</td>\n",
       "    </tr>\n",
       "  </tbody>\n",
       "</table>\n",
       "<p>39774 rows × 2 columns</p>\n",
       "</div>"
      ],
      "text/plain": [
       "           cuisine                                        ingredients\n",
       "0            greek  romaine lettuce, black olives, grape tomatoes,...\n",
       "1      southern_us  plain flour, ground pepper, salt, tomatoes, gr...\n",
       "2         filipino  eggs, pepper, salt, mayonaise, cooking oil, gr...\n",
       "3           indian                  water, vegetable oil, wheat, salt\n",
       "4           indian  black pepper, shallots, cornflour, cayenne pep...\n",
       "...            ...                                                ...\n",
       "39769        irish  light brown sugar, granulated sugar, butter, w...\n",
       "39770      italian  kraft zesty italian dressing, purple onion, br...\n",
       "39771        irish  eggs, citrus fruit, raisins, sourdough starter...\n",
       "39772      chinese  boneless chicken skinless thigh, minced garlic...\n",
       "39773      mexican  green chile, jalapeno chilies, onions, ground ...\n",
       "\n",
       "[39774 rows x 2 columns]"
      ]
     },
     "execution_count": 22,
     "metadata": {},
     "output_type": "execute_result"
    }
   ],
   "source": [
    "data"
   ]
  },
  {
   "cell_type": "code",
   "execution_count": 23,
   "metadata": {
    "execution": {
     "iopub.execute_input": "2023-10-26T11:52:34.459621Z",
     "iopub.status.busy": "2023-10-26T11:52:34.459227Z",
     "iopub.status.idle": "2023-10-26T11:52:34.472543Z",
     "shell.execute_reply": "2023-10-26T11:52:34.471535Z",
     "shell.execute_reply.started": "2023-10-26T11:52:34.459586Z"
    }
   },
   "outputs": [
    {
     "data": {
      "text/html": [
       "<div>\n",
       "<style scoped>\n",
       "    .dataframe tbody tr th:only-of-type {\n",
       "        vertical-align: middle;\n",
       "    }\n",
       "\n",
       "    .dataframe tbody tr th {\n",
       "        vertical-align: top;\n",
       "    }\n",
       "\n",
       "    .dataframe thead th {\n",
       "        text-align: right;\n",
       "    }\n",
       "</style>\n",
       "<table border=\"1\" class=\"dataframe\">\n",
       "  <thead>\n",
       "    <tr style=\"text-align: right;\">\n",
       "      <th></th>\n",
       "      <th>ingredients</th>\n",
       "    </tr>\n",
       "  </thead>\n",
       "  <tbody>\n",
       "    <tr>\n",
       "      <th>0</th>\n",
       "      <td>romaine lettuce, black olives, grape tomatoes,...</td>\n",
       "    </tr>\n",
       "    <tr>\n",
       "      <th>1</th>\n",
       "      <td>plain flour, ground pepper, salt, tomatoes, gr...</td>\n",
       "    </tr>\n",
       "    <tr>\n",
       "      <th>2</th>\n",
       "      <td>eggs, pepper, salt, mayonaise, cooking oil, gr...</td>\n",
       "    </tr>\n",
       "    <tr>\n",
       "      <th>3</th>\n",
       "      <td>water, vegetable oil, wheat, salt</td>\n",
       "    </tr>\n",
       "    <tr>\n",
       "      <th>4</th>\n",
       "      <td>black pepper, shallots, cornflour, cayenne pep...</td>\n",
       "    </tr>\n",
       "    <tr>\n",
       "      <th>...</th>\n",
       "      <td>...</td>\n",
       "    </tr>\n",
       "    <tr>\n",
       "      <th>9939</th>\n",
       "      <td>daisy sour cream, cooked ham, chili powder, pi...</td>\n",
       "    </tr>\n",
       "    <tr>\n",
       "      <th>9940</th>\n",
       "      <td>dry white wine, fresh parsley, minced garlic, ...</td>\n",
       "    </tr>\n",
       "    <tr>\n",
       "      <th>9941</th>\n",
       "      <td>milk, vanilla, sugar, large egg yolks</td>\n",
       "    </tr>\n",
       "    <tr>\n",
       "      <th>9942</th>\n",
       "      <td>olive oil, tomato juice, garlic, fresh lemon j...</td>\n",
       "    </tr>\n",
       "    <tr>\n",
       "      <th>9943</th>\n",
       "      <td>water, coconut sugar, frozen strawberries, sim...</td>\n",
       "    </tr>\n",
       "  </tbody>\n",
       "</table>\n",
       "<p>9944 rows × 1 columns</p>\n",
       "</div>"
      ],
      "text/plain": [
       "                                            ingredients\n",
       "0     romaine lettuce, black olives, grape tomatoes,...\n",
       "1     plain flour, ground pepper, salt, tomatoes, gr...\n",
       "2     eggs, pepper, salt, mayonaise, cooking oil, gr...\n",
       "3                     water, vegetable oil, wheat, salt\n",
       "4     black pepper, shallots, cornflour, cayenne pep...\n",
       "...                                                 ...\n",
       "9939  daisy sour cream, cooked ham, chili powder, pi...\n",
       "9940  dry white wine, fresh parsley, minced garlic, ...\n",
       "9941              milk, vanilla, sugar, large egg yolks\n",
       "9942  olive oil, tomato juice, garlic, fresh lemon j...\n",
       "9943  water, coconut sugar, frozen strawberries, sim...\n",
       "\n",
       "[9944 rows x 1 columns]"
      ]
     },
     "execution_count": 23,
     "metadata": {},
     "output_type": "execute_result"
    }
   ],
   "source": [
    "test"
   ]
  },
  {
   "cell_type": "markdown",
   "metadata": {},
   "source": [
    "# use vectorizers\n",
    "The TF-IDF (Term Frequency-Inverse Document Frequency) vectorizer is a common technique used to convert text data into a numerical format that can be used for machine learning tasks. It is particularly useful for text classification, information retrieval, and natural language processing applications. TF-IDF vectorization assigns numerical values to words based on their importance within a document or a collection of documents.\n",
    "\n",
    "Here's what TF-IDF does and how it can transform your data:\n",
    "\n",
    "Term Frequency (TF)\n",
    "Inverse Document Frequency (IDF)\n",
    "TF-IDF Score\n"
   ]
  },
  {
   "cell_type": "markdown",
   "metadata": {
    "execution": {
     "iopub.execute_input": "2023-10-26T08:14:02.920818Z",
     "iopub.status.busy": "2023-10-26T08:14:02.920442Z",
     "iopub.status.idle": "2023-10-26T08:14:02.935326Z",
     "shell.execute_reply": "2023-10-26T08:14:02.934264Z",
     "shell.execute_reply.started": "2023-10-26T08:14:02.920788Z"
    }
   },
   "source": [
    "help(TfidfVectorizer)"
   ]
  },
  {
   "cell_type": "code",
   "execution_count": 24,
   "metadata": {
    "execution": {
     "iopub.execute_input": "2023-10-26T12:12:24.440535Z",
     "iopub.status.busy": "2023-10-26T12:12:24.439861Z",
     "iopub.status.idle": "2023-10-26T12:12:24.450806Z",
     "shell.execute_reply": "2023-10-26T12:12:24.449669Z",
     "shell.execute_reply.started": "2023-10-26T12:12:24.440498Z"
    }
   },
   "outputs": [
    {
     "data": {
      "text/plain": [
       "0       romaine lettuce, black olives, grape tomatoes,...\n",
       "1       plain flour, ground pepper, salt, tomatoes, gr...\n",
       "2       eggs, pepper, salt, mayonaise, cooking oil, gr...\n",
       "3                       water, vegetable oil, wheat, salt\n",
       "4       black pepper, shallots, cornflour, cayenne pep...\n",
       "                              ...                        \n",
       "9939    daisy sour cream, cooked ham, chili powder, pi...\n",
       "9940    dry white wine, fresh parsley, minced garlic, ...\n",
       "9941                milk, vanilla, sugar, large egg yolks\n",
       "9942    olive oil, tomato juice, garlic, fresh lemon j...\n",
       "9943    water, coconut sugar, frozen strawberries, sim...\n",
       "Name: ingredients, Length: 49718, dtype: object"
      ]
     },
     "execution_count": 24,
     "metadata": {},
     "output_type": "execute_result"
    }
   ],
   "source": [
    "# use this to encode individual items in the ingredients\n",
    "tfidf = TfidfVectorizer()\n",
    "combined_data = pd.concat([data.ingredients, test.ingredients], axis = 0)\n",
    "combined_data"
   ]
  },
  {
   "cell_type": "code",
   "execution_count": 25,
   "metadata": {
    "execution": {
     "iopub.execute_input": "2023-10-26T12:12:28.989241Z",
     "iopub.status.busy": "2023-10-26T12:12:28.988466Z",
     "iopub.status.idle": "2023-10-26T12:12:30.334604Z",
     "shell.execute_reply": "2023-10-26T12:12:30.333695Z",
     "shell.execute_reply.started": "2023-10-26T12:12:28.989202Z"
    }
   },
   "outputs": [
    {
     "data": {
      "text/html": [
       "<style>#sk-container-id-1 {color: black;}#sk-container-id-1 pre{padding: 0;}#sk-container-id-1 div.sk-toggleable {background-color: white;}#sk-container-id-1 label.sk-toggleable__label {cursor: pointer;display: block;width: 100%;margin-bottom: 0;padding: 0.3em;box-sizing: border-box;text-align: center;}#sk-container-id-1 label.sk-toggleable__label-arrow:before {content: \"▸\";float: left;margin-right: 0.25em;color: #696969;}#sk-container-id-1 label.sk-toggleable__label-arrow:hover:before {color: black;}#sk-container-id-1 div.sk-estimator:hover label.sk-toggleable__label-arrow:before {color: black;}#sk-container-id-1 div.sk-toggleable__content {max-height: 0;max-width: 0;overflow: hidden;text-align: left;background-color: #f0f8ff;}#sk-container-id-1 div.sk-toggleable__content pre {margin: 0.2em;color: black;border-radius: 0.25em;background-color: #f0f8ff;}#sk-container-id-1 input.sk-toggleable__control:checked~div.sk-toggleable__content {max-height: 200px;max-width: 100%;overflow: auto;}#sk-container-id-1 input.sk-toggleable__control:checked~label.sk-toggleable__label-arrow:before {content: \"▾\";}#sk-container-id-1 div.sk-estimator input.sk-toggleable__control:checked~label.sk-toggleable__label {background-color: #d4ebff;}#sk-container-id-1 div.sk-label input.sk-toggleable__control:checked~label.sk-toggleable__label {background-color: #d4ebff;}#sk-container-id-1 input.sk-hidden--visually {border: 0;clip: rect(1px 1px 1px 1px);clip: rect(1px, 1px, 1px, 1px);height: 1px;margin: -1px;overflow: hidden;padding: 0;position: absolute;width: 1px;}#sk-container-id-1 div.sk-estimator {font-family: monospace;background-color: #f0f8ff;border: 1px dotted black;border-radius: 0.25em;box-sizing: border-box;margin-bottom: 0.5em;}#sk-container-id-1 div.sk-estimator:hover {background-color: #d4ebff;}#sk-container-id-1 div.sk-parallel-item::after {content: \"\";width: 100%;border-bottom: 1px solid gray;flex-grow: 1;}#sk-container-id-1 div.sk-label:hover label.sk-toggleable__label {background-color: #d4ebff;}#sk-container-id-1 div.sk-serial::before {content: \"\";position: absolute;border-left: 1px solid gray;box-sizing: border-box;top: 0;bottom: 0;left: 50%;z-index: 0;}#sk-container-id-1 div.sk-serial {display: flex;flex-direction: column;align-items: center;background-color: white;padding-right: 0.2em;padding-left: 0.2em;position: relative;}#sk-container-id-1 div.sk-item {position: relative;z-index: 1;}#sk-container-id-1 div.sk-parallel {display: flex;align-items: stretch;justify-content: center;background-color: white;position: relative;}#sk-container-id-1 div.sk-item::before, #sk-container-id-1 div.sk-parallel-item::before {content: \"\";position: absolute;border-left: 1px solid gray;box-sizing: border-box;top: 0;bottom: 0;left: 50%;z-index: -1;}#sk-container-id-1 div.sk-parallel-item {display: flex;flex-direction: column;z-index: 1;position: relative;background-color: white;}#sk-container-id-1 div.sk-parallel-item:first-child::after {align-self: flex-end;width: 50%;}#sk-container-id-1 div.sk-parallel-item:last-child::after {align-self: flex-start;width: 50%;}#sk-container-id-1 div.sk-parallel-item:only-child::after {width: 0;}#sk-container-id-1 div.sk-dashed-wrapped {border: 1px dashed gray;margin: 0 0.4em 0.5em 0.4em;box-sizing: border-box;padding-bottom: 0.4em;background-color: white;}#sk-container-id-1 div.sk-label label {font-family: monospace;font-weight: bold;display: inline-block;line-height: 1.2em;}#sk-container-id-1 div.sk-label-container {text-align: center;}#sk-container-id-1 div.sk-container {/* jupyter's `normalize.less` sets `[hidden] { display: none; }` but bootstrap.min.css set `[hidden] { display: none !important; }` so we also need the `!important` here to be able to override the default hidden behavior on the sphinx rendered scikit-learn.org. See: https://github.com/scikit-learn/scikit-learn/issues/21755 */display: inline-block !important;position: relative;}#sk-container-id-1 div.sk-text-repr-fallback {display: none;}</style><div id=\"sk-container-id-1\" class=\"sk-top-container\"><div class=\"sk-text-repr-fallback\"><pre>TfidfVectorizer()</pre><b>In a Jupyter environment, please rerun this cell to show the HTML representation or trust the notebook. <br />On GitHub, the HTML representation is unable to render, please try loading this page with nbviewer.org.</b></div><div class=\"sk-container\" hidden><div class=\"sk-item\"><div class=\"sk-estimator sk-toggleable\"><input class=\"sk-toggleable__control sk-hidden--visually\" id=\"sk-estimator-id-1\" type=\"checkbox\" checked><label for=\"sk-estimator-id-1\" class=\"sk-toggleable__label sk-toggleable__label-arrow\">TfidfVectorizer</label><div class=\"sk-toggleable__content\"><pre>TfidfVectorizer()</pre></div></div></div></div></div>"
      ],
      "text/plain": [
       "TfidfVectorizer()"
      ]
     },
     "execution_count": 25,
     "metadata": {},
     "output_type": "execute_result"
    }
   ],
   "source": [
    "tfidf.fit(combined_data)"
   ]
  },
  {
   "cell_type": "code",
   "execution_count": 26,
   "metadata": {
    "execution": {
     "iopub.execute_input": "2023-10-26T12:12:38.466274Z",
     "iopub.status.busy": "2023-10-26T12:12:38.465520Z",
     "iopub.status.idle": "2023-10-26T12:12:39.537467Z",
     "shell.execute_reply": "2023-10-26T12:12:39.536484Z",
     "shell.execute_reply.started": "2023-10-26T12:12:38.466235Z"
    }
   },
   "outputs": [
    {
     "data": {
      "text/plain": [
       "<39774x3010 sparse matrix of type '<class 'numpy.float64'>'\n",
       "\twith 761951 stored elements in Compressed Sparse Row format>"
      ]
     },
     "execution_count": 26,
     "metadata": {},
     "output_type": "execute_result"
    }
   ],
   "source": [
    "ingredients_tfidf = tfidf.transform(data['ingredients'])\n",
    "ingredients_tfidf"
   ]
  },
  {
   "cell_type": "code",
   "execution_count": 27,
   "metadata": {
    "execution": {
     "iopub.execute_input": "2023-10-26T12:12:55.552847Z",
     "iopub.status.busy": "2023-10-26T12:12:55.552220Z",
     "iopub.status.idle": "2023-10-26T12:12:55.820759Z",
     "shell.execute_reply": "2023-10-26T12:12:55.819698Z",
     "shell.execute_reply.started": "2023-10-26T12:12:55.552810Z"
    }
   },
   "outputs": [
    {
     "data": {
      "text/plain": [
       "<9944x3010 sparse matrix of type '<class 'numpy.float64'>'\n",
       "\twith 190137 stored elements in Compressed Sparse Row format>"
      ]
     },
     "execution_count": 27,
     "metadata": {},
     "output_type": "execute_result"
    }
   ],
   "source": [
    "test_tfidf = tfidf.transform(test['ingredients'])\n",
    "test_tfidf"
   ]
  },
  {
   "cell_type": "markdown",
   "metadata": {},
   "source": [
    "# Data splitting"
   ]
  },
  {
   "cell_type": "code",
   "execution_count": 28,
   "metadata": {
    "execution": {
     "iopub.execute_input": "2023-10-26T08:40:48.188946Z",
     "iopub.status.busy": "2023-10-26T08:40:48.188622Z",
     "iopub.status.idle": "2023-10-26T08:40:48.203518Z",
     "shell.execute_reply": "2023-10-26T08:40:48.202713Z",
     "shell.execute_reply.started": "2023-10-26T08:40:48.188907Z"
    }
   },
   "outputs": [],
   "source": [
    "X_train, X_test, y_train, y_test = train_test_split(ingredients_tfidf, data['cuisine'], test_size=0.2, random_state=42)"
   ]
  },
  {
   "cell_type": "code",
   "execution_count": 29,
   "metadata": {
    "execution": {
     "iopub.execute_input": "2023-10-26T08:40:48.205196Z",
     "iopub.status.busy": "2023-10-26T08:40:48.204842Z",
     "iopub.status.idle": "2023-10-26T08:40:48.211802Z",
     "shell.execute_reply": "2023-10-26T08:40:48.210780Z",
     "shell.execute_reply.started": "2023-10-26T08:40:48.205164Z"
    }
   },
   "outputs": [
    {
     "data": {
      "text/plain": [
       "<31819x3010 sparse matrix of type '<class 'numpy.float64'>'\n",
       "\twith 609586 stored elements in Compressed Sparse Row format>"
      ]
     },
     "execution_count": 29,
     "metadata": {},
     "output_type": "execute_result"
    }
   ],
   "source": [
    "X_train"
   ]
  },
  {
   "cell_type": "code",
   "execution_count": 30,
   "metadata": {
    "execution": {
     "iopub.execute_input": "2023-10-26T08:40:48.213267Z",
     "iopub.status.busy": "2023-10-26T08:40:48.212968Z",
     "iopub.status.idle": "2023-10-26T08:40:48.224764Z",
     "shell.execute_reply": "2023-10-26T08:40:48.223831Z",
     "shell.execute_reply.started": "2023-10-26T08:40:48.213243Z"
    }
   },
   "outputs": [
    {
     "data": {
      "text/plain": [
       "23436        mexican\n",
       "7901          indian\n",
       "25718       filipino\n",
       "16909       moroccan\n",
       "34830        mexican\n",
       "            ...     \n",
       "6265         mexican\n",
       "11284        italian\n",
       "38158        chinese\n",
       "860      southern_us\n",
       "15795         french\n",
       "Name: cuisine, Length: 31819, dtype: object"
      ]
     },
     "execution_count": 30,
     "metadata": {},
     "output_type": "execute_result"
    }
   ],
   "source": [
    "y_train"
   ]
  },
  {
   "cell_type": "markdown",
   "metadata": {},
   "source": [
    "# Model building"
   ]
  },
  {
   "cell_type": "code",
   "execution_count": 31,
   "metadata": {
    "execution": {
     "iopub.execute_input": "2023-10-26T08:40:48.226206Z",
     "iopub.status.busy": "2023-10-26T08:40:48.225835Z",
     "iopub.status.idle": "2023-10-26T08:41:10.166580Z",
     "shell.execute_reply": "2023-10-26T08:41:10.165085Z",
     "shell.execute_reply.started": "2023-10-26T08:40:48.226169Z"
    }
   },
   "outputs": [
    {
     "data": {
      "text/html": [
       "<style>#sk-container-id-2 {color: black;}#sk-container-id-2 pre{padding: 0;}#sk-container-id-2 div.sk-toggleable {background-color: white;}#sk-container-id-2 label.sk-toggleable__label {cursor: pointer;display: block;width: 100%;margin-bottom: 0;padding: 0.3em;box-sizing: border-box;text-align: center;}#sk-container-id-2 label.sk-toggleable__label-arrow:before {content: \"▸\";float: left;margin-right: 0.25em;color: #696969;}#sk-container-id-2 label.sk-toggleable__label-arrow:hover:before {color: black;}#sk-container-id-2 div.sk-estimator:hover label.sk-toggleable__label-arrow:before {color: black;}#sk-container-id-2 div.sk-toggleable__content {max-height: 0;max-width: 0;overflow: hidden;text-align: left;background-color: #f0f8ff;}#sk-container-id-2 div.sk-toggleable__content pre {margin: 0.2em;color: black;border-radius: 0.25em;background-color: #f0f8ff;}#sk-container-id-2 input.sk-toggleable__control:checked~div.sk-toggleable__content {max-height: 200px;max-width: 100%;overflow: auto;}#sk-container-id-2 input.sk-toggleable__control:checked~label.sk-toggleable__label-arrow:before {content: \"▾\";}#sk-container-id-2 div.sk-estimator input.sk-toggleable__control:checked~label.sk-toggleable__label {background-color: #d4ebff;}#sk-container-id-2 div.sk-label input.sk-toggleable__control:checked~label.sk-toggleable__label {background-color: #d4ebff;}#sk-container-id-2 input.sk-hidden--visually {border: 0;clip: rect(1px 1px 1px 1px);clip: rect(1px, 1px, 1px, 1px);height: 1px;margin: -1px;overflow: hidden;padding: 0;position: absolute;width: 1px;}#sk-container-id-2 div.sk-estimator {font-family: monospace;background-color: #f0f8ff;border: 1px dotted black;border-radius: 0.25em;box-sizing: border-box;margin-bottom: 0.5em;}#sk-container-id-2 div.sk-estimator:hover {background-color: #d4ebff;}#sk-container-id-2 div.sk-parallel-item::after {content: \"\";width: 100%;border-bottom: 1px solid gray;flex-grow: 1;}#sk-container-id-2 div.sk-label:hover label.sk-toggleable__label {background-color: #d4ebff;}#sk-container-id-2 div.sk-serial::before {content: \"\";position: absolute;border-left: 1px solid gray;box-sizing: border-box;top: 0;bottom: 0;left: 50%;z-index: 0;}#sk-container-id-2 div.sk-serial {display: flex;flex-direction: column;align-items: center;background-color: white;padding-right: 0.2em;padding-left: 0.2em;position: relative;}#sk-container-id-2 div.sk-item {position: relative;z-index: 1;}#sk-container-id-2 div.sk-parallel {display: flex;align-items: stretch;justify-content: center;background-color: white;position: relative;}#sk-container-id-2 div.sk-item::before, #sk-container-id-2 div.sk-parallel-item::before {content: \"\";position: absolute;border-left: 1px solid gray;box-sizing: border-box;top: 0;bottom: 0;left: 50%;z-index: -1;}#sk-container-id-2 div.sk-parallel-item {display: flex;flex-direction: column;z-index: 1;position: relative;background-color: white;}#sk-container-id-2 div.sk-parallel-item:first-child::after {align-self: flex-end;width: 50%;}#sk-container-id-2 div.sk-parallel-item:last-child::after {align-self: flex-start;width: 50%;}#sk-container-id-2 div.sk-parallel-item:only-child::after {width: 0;}#sk-container-id-2 div.sk-dashed-wrapped {border: 1px dashed gray;margin: 0 0.4em 0.5em 0.4em;box-sizing: border-box;padding-bottom: 0.4em;background-color: white;}#sk-container-id-2 div.sk-label label {font-family: monospace;font-weight: bold;display: inline-block;line-height: 1.2em;}#sk-container-id-2 div.sk-label-container {text-align: center;}#sk-container-id-2 div.sk-container {/* jupyter's `normalize.less` sets `[hidden] { display: none; }` but bootstrap.min.css set `[hidden] { display: none !important; }` so we also need the `!important` here to be able to override the default hidden behavior on the sphinx rendered scikit-learn.org. See: https://github.com/scikit-learn/scikit-learn/issues/21755 */display: inline-block !important;position: relative;}#sk-container-id-2 div.sk-text-repr-fallback {display: none;}</style><div id=\"sk-container-id-2\" class=\"sk-top-container\"><div class=\"sk-text-repr-fallback\"><pre>LogisticRegression(max_iter=1000)</pre><b>In a Jupyter environment, please rerun this cell to show the HTML representation or trust the notebook. <br />On GitHub, the HTML representation is unable to render, please try loading this page with nbviewer.org.</b></div><div class=\"sk-container\" hidden><div class=\"sk-item\"><div class=\"sk-estimator sk-toggleable\"><input class=\"sk-toggleable__control sk-hidden--visually\" id=\"sk-estimator-id-2\" type=\"checkbox\" checked><label for=\"sk-estimator-id-2\" class=\"sk-toggleable__label sk-toggleable__label-arrow\">LogisticRegression</label><div class=\"sk-toggleable__content\"><pre>LogisticRegression(max_iter=1000)</pre></div></div></div></div></div>"
      ],
      "text/plain": [
       "LogisticRegression(max_iter=1000)"
      ]
     },
     "execution_count": 31,
     "metadata": {},
     "output_type": "execute_result"
    }
   ],
   "source": [
    "lr_model = LogisticRegression(max_iter=1000)\n",
    "lr_model.fit(X_train, y_train)"
   ]
  },
  {
   "cell_type": "code",
   "execution_count": 32,
   "metadata": {
    "execution": {
     "iopub.execute_input": "2023-10-26T08:41:10.169796Z",
     "iopub.status.busy": "2023-10-26T08:41:10.169413Z",
     "iopub.status.idle": "2023-10-26T08:41:10.245591Z",
     "shell.execute_reply": "2023-10-26T08:41:10.244537Z",
     "shell.execute_reply.started": "2023-10-26T08:41:10.169761Z"
    }
   },
   "outputs": [
    {
     "name": "stdout",
     "output_type": "stream",
     "text": [
      "Accuracy:  0.7810182275298554\n"
     ]
    }
   ],
   "source": [
    "predictions = lr_model.predict(X_test)\n",
    "print(\"Accuracy: \", accuracy_score(y_test, predictions))"
   ]
  },
  {
   "cell_type": "code",
   "execution_count": 34,
   "metadata": {
    "execution": {
     "iopub.execute_input": "2023-10-26T08:47:54.906279Z",
     "iopub.status.busy": "2023-10-26T08:47:54.905556Z",
     "iopub.status.idle": "2023-10-26T09:55:54.634457Z",
     "shell.execute_reply": "2023-10-26T09:55:54.633291Z",
     "shell.execute_reply.started": "2023-10-26T08:47:54.906243Z"
    }
   },
   "outputs": [
    {
     "data": {
      "text/html": [
       "<style>#sk-container-id-3 {color: black;}#sk-container-id-3 pre{padding: 0;}#sk-container-id-3 div.sk-toggleable {background-color: white;}#sk-container-id-3 label.sk-toggleable__label {cursor: pointer;display: block;width: 100%;margin-bottom: 0;padding: 0.3em;box-sizing: border-box;text-align: center;}#sk-container-id-3 label.sk-toggleable__label-arrow:before {content: \"▸\";float: left;margin-right: 0.25em;color: #696969;}#sk-container-id-3 label.sk-toggleable__label-arrow:hover:before {color: black;}#sk-container-id-3 div.sk-estimator:hover label.sk-toggleable__label-arrow:before {color: black;}#sk-container-id-3 div.sk-toggleable__content {max-height: 0;max-width: 0;overflow: hidden;text-align: left;background-color: #f0f8ff;}#sk-container-id-3 div.sk-toggleable__content pre {margin: 0.2em;color: black;border-radius: 0.25em;background-color: #f0f8ff;}#sk-container-id-3 input.sk-toggleable__control:checked~div.sk-toggleable__content {max-height: 200px;max-width: 100%;overflow: auto;}#sk-container-id-3 input.sk-toggleable__control:checked~label.sk-toggleable__label-arrow:before {content: \"▾\";}#sk-container-id-3 div.sk-estimator input.sk-toggleable__control:checked~label.sk-toggleable__label {background-color: #d4ebff;}#sk-container-id-3 div.sk-label input.sk-toggleable__control:checked~label.sk-toggleable__label {background-color: #d4ebff;}#sk-container-id-3 input.sk-hidden--visually {border: 0;clip: rect(1px 1px 1px 1px);clip: rect(1px, 1px, 1px, 1px);height: 1px;margin: -1px;overflow: hidden;padding: 0;position: absolute;width: 1px;}#sk-container-id-3 div.sk-estimator {font-family: monospace;background-color: #f0f8ff;border: 1px dotted black;border-radius: 0.25em;box-sizing: border-box;margin-bottom: 0.5em;}#sk-container-id-3 div.sk-estimator:hover {background-color: #d4ebff;}#sk-container-id-3 div.sk-parallel-item::after {content: \"\";width: 100%;border-bottom: 1px solid gray;flex-grow: 1;}#sk-container-id-3 div.sk-label:hover label.sk-toggleable__label {background-color: #d4ebff;}#sk-container-id-3 div.sk-serial::before {content: \"\";position: absolute;border-left: 1px solid gray;box-sizing: border-box;top: 0;bottom: 0;left: 50%;z-index: 0;}#sk-container-id-3 div.sk-serial {display: flex;flex-direction: column;align-items: center;background-color: white;padding-right: 0.2em;padding-left: 0.2em;position: relative;}#sk-container-id-3 div.sk-item {position: relative;z-index: 1;}#sk-container-id-3 div.sk-parallel {display: flex;align-items: stretch;justify-content: center;background-color: white;position: relative;}#sk-container-id-3 div.sk-item::before, #sk-container-id-3 div.sk-parallel-item::before {content: \"\";position: absolute;border-left: 1px solid gray;box-sizing: border-box;top: 0;bottom: 0;left: 50%;z-index: -1;}#sk-container-id-3 div.sk-parallel-item {display: flex;flex-direction: column;z-index: 1;position: relative;background-color: white;}#sk-container-id-3 div.sk-parallel-item:first-child::after {align-self: flex-end;width: 50%;}#sk-container-id-3 div.sk-parallel-item:last-child::after {align-self: flex-start;width: 50%;}#sk-container-id-3 div.sk-parallel-item:only-child::after {width: 0;}#sk-container-id-3 div.sk-dashed-wrapped {border: 1px dashed gray;margin: 0 0.4em 0.5em 0.4em;box-sizing: border-box;padding-bottom: 0.4em;background-color: white;}#sk-container-id-3 div.sk-label label {font-family: monospace;font-weight: bold;display: inline-block;line-height: 1.2em;}#sk-container-id-3 div.sk-label-container {text-align: center;}#sk-container-id-3 div.sk-container {/* jupyter's `normalize.less` sets `[hidden] { display: none; }` but bootstrap.min.css set `[hidden] { display: none !important; }` so we also need the `!important` here to be able to override the default hidden behavior on the sphinx rendered scikit-learn.org. See: https://github.com/scikit-learn/scikit-learn/issues/21755 */display: inline-block !important;position: relative;}#sk-container-id-3 div.sk-text-repr-fallback {display: none;}</style><div id=\"sk-container-id-3\" class=\"sk-top-container\"><div class=\"sk-text-repr-fallback\"><pre>LogisticRegressionCV(max_iter=6000)</pre><b>In a Jupyter environment, please rerun this cell to show the HTML representation or trust the notebook. <br />On GitHub, the HTML representation is unable to render, please try loading this page with nbviewer.org.</b></div><div class=\"sk-container\" hidden><div class=\"sk-item\"><div class=\"sk-estimator sk-toggleable\"><input class=\"sk-toggleable__control sk-hidden--visually\" id=\"sk-estimator-id-3\" type=\"checkbox\" checked><label for=\"sk-estimator-id-3\" class=\"sk-toggleable__label sk-toggleable__label-arrow\">LogisticRegressionCV</label><div class=\"sk-toggleable__content\"><pre>LogisticRegressionCV(max_iter=6000)</pre></div></div></div></div></div>"
      ],
      "text/plain": [
       "LogisticRegressionCV(max_iter=6000)"
      ]
     },
     "execution_count": 34,
     "metadata": {},
     "output_type": "execute_result"
    }
   ],
   "source": [
    "lr_cv_model = LogisticRegressionCV(max_iter=6000)\n",
    "lr_cv_model.fit(X_train, y_train)"
   ]
  },
  {
   "cell_type": "code",
   "execution_count": 35,
   "metadata": {
    "execution": {
     "iopub.execute_input": "2023-10-26T10:03:38.166578Z",
     "iopub.status.busy": "2023-10-26T10:03:38.165922Z",
     "iopub.status.idle": "2023-10-26T10:03:38.194754Z",
     "shell.execute_reply": "2023-10-26T10:03:38.193725Z",
     "shell.execute_reply.started": "2023-10-26T10:03:38.166546Z"
    }
   },
   "outputs": [
    {
     "name": "stdout",
     "output_type": "stream",
     "text": [
      "Accuracy:  0.7880578252671276\n"
     ]
    }
   ],
   "source": [
    "predictions = lr_cv_model.predict(X_test)\n",
    "print(\"Accuracy: \", accuracy_score(y_test, predictions))"
   ]
  },
  {
   "cell_type": "code",
   "execution_count": 36,
   "metadata": {
    "execution": {
     "iopub.execute_input": "2023-10-26T10:17:01.406621Z",
     "iopub.status.busy": "2023-10-26T10:17:01.405823Z",
     "iopub.status.idle": "2023-10-26T10:52:11.724290Z",
     "shell.execute_reply": "2023-10-26T10:52:11.723200Z",
     "shell.execute_reply.started": "2023-10-26T10:17:01.406584Z"
    }
   },
   "outputs": [
    {
     "name": "stdout",
     "output_type": "stream",
     "text": [
      "Learning rate set to 0.094397\n",
      "0:\tlearn: 2.6797928\ttotal: 12.4s\tremaining: 3h 26m 34s\n",
      "1:\tlearn: 2.5141405\ttotal: 24.4s\tremaining: 3h 23m 2s\n",
      "2:\tlearn: 2.4014790\ttotal: 36.3s\tremaining: 3h 20m 55s\n",
      "3:\tlearn: 2.3036086\ttotal: 47.8s\tremaining: 3h 18m 19s\n",
      "4:\tlearn: 2.2302779\ttotal: 59.1s\tremaining: 3h 15m 58s\n",
      "5:\tlearn: 2.1594286\ttotal: 1m 11s\tremaining: 3h 18m 12s\n",
      "6:\tlearn: 2.1129299\ttotal: 1m 23s\tremaining: 3h 17m 33s\n",
      "7:\tlearn: 2.0680676\ttotal: 1m 35s\tremaining: 3h 18m 21s\n",
      "8:\tlearn: 2.0210033\ttotal: 1m 47s\tremaining: 3h 17m 16s\n",
      "9:\tlearn: 1.9852589\ttotal: 1m 59s\tremaining: 3h 16m 57s\n",
      "10:\tlearn: 1.9510859\ttotal: 2m 11s\tremaining: 3h 16m 56s\n",
      "11:\tlearn: 1.9215222\ttotal: 2m 23s\tremaining: 3h 16m 24s\n",
      "12:\tlearn: 1.8954797\ttotal: 2m 34s\tremaining: 3h 15m 23s\n",
      "13:\tlearn: 1.8615356\ttotal: 2m 46s\tremaining: 3h 15m 11s\n",
      "14:\tlearn: 1.8391791\ttotal: 2m 57s\tremaining: 3h 14m 16s\n",
      "15:\tlearn: 1.8218805\ttotal: 3m 8s\tremaining: 3h 13m 37s\n",
      "16:\tlearn: 1.8028603\ttotal: 3m 21s\tremaining: 3h 13m 52s\n",
      "17:\tlearn: 1.7833592\ttotal: 3m 32s\tremaining: 3h 13m 7s\n",
      "18:\tlearn: 1.7663697\ttotal: 3m 43s\tremaining: 3h 12m 27s\n",
      "19:\tlearn: 1.7456993\ttotal: 3m 55s\tremaining: 3h 12m 28s\n",
      "20:\tlearn: 1.7310871\ttotal: 4m 7s\tremaining: 3h 12m 11s\n",
      "21:\tlearn: 1.7116184\ttotal: 4m 18s\tremaining: 3h 11m 36s\n",
      "22:\tlearn: 1.6998739\ttotal: 4m 30s\tremaining: 3h 11m 42s\n",
      "23:\tlearn: 1.6858662\ttotal: 4m 42s\tremaining: 3h 11m 11s\n",
      "24:\tlearn: 1.6690817\ttotal: 4m 53s\tremaining: 3h 10m 38s\n",
      "25:\tlearn: 1.6561882\ttotal: 5m 5s\tremaining: 3h 10m 40s\n",
      "26:\tlearn: 1.6459482\ttotal: 5m 16s\tremaining: 3h 10m 23s\n",
      "27:\tlearn: 1.6329729\ttotal: 5m 28s\tremaining: 3h 9m 53s\n",
      "28:\tlearn: 1.6221425\ttotal: 5m 40s\tremaining: 3h 9m 53s\n",
      "29:\tlearn: 1.6149420\ttotal: 5m 51s\tremaining: 3h 9m 26s\n",
      "30:\tlearn: 1.6063398\ttotal: 6m 3s\tremaining: 3h 9m 21s\n",
      "31:\tlearn: 1.5954299\ttotal: 6m 14s\tremaining: 3h 8m 57s\n",
      "32:\tlearn: 1.5823957\ttotal: 6m 26s\tremaining: 3h 8m 32s\n",
      "33:\tlearn: 1.5764059\ttotal: 6m 38s\tremaining: 3h 8m 37s\n",
      "34:\tlearn: 1.5680274\ttotal: 6m 49s\tremaining: 3h 8m 18s\n",
      "35:\tlearn: 1.5546502\ttotal: 7m 1s\tremaining: 3h 7m 56s\n",
      "36:\tlearn: 1.5436861\ttotal: 7m 12s\tremaining: 3h 7m 47s\n",
      "37:\tlearn: 1.5322610\ttotal: 7m 25s\tremaining: 3h 7m 47s\n",
      "38:\tlearn: 1.5267202\ttotal: 7m 36s\tremaining: 3h 7m 23s\n",
      "39:\tlearn: 1.5183378\ttotal: 7m 48s\tremaining: 3h 7m 21s\n",
      "40:\tlearn: 1.5112889\ttotal: 8m\tremaining: 3h 7m 15s\n",
      "41:\tlearn: 1.5057677\ttotal: 8m 11s\tremaining: 3h 6m 59s\n",
      "42:\tlearn: 1.5017462\ttotal: 8m 23s\tremaining: 3h 6m 42s\n",
      "43:\tlearn: 1.4922900\ttotal: 8m 34s\tremaining: 3h 6m 17s\n",
      "44:\tlearn: 1.4854995\ttotal: 8m 45s\tremaining: 3h 5m 52s\n",
      "45:\tlearn: 1.4770205\ttotal: 8m 56s\tremaining: 3h 5m 30s\n",
      "46:\tlearn: 1.4718783\ttotal: 9m 8s\tremaining: 3h 5m 20s\n",
      "47:\tlearn: 1.4663781\ttotal: 9m 19s\tremaining: 3h 5m\n",
      "48:\tlearn: 1.4578739\ttotal: 9m 30s\tremaining: 3h 4m 38s\n",
      "49:\tlearn: 1.4492092\ttotal: 9m 41s\tremaining: 3h 4m 17s\n",
      "50:\tlearn: 1.4405588\ttotal: 9m 53s\tremaining: 3h 3m 56s\n",
      "51:\tlearn: 1.4369802\ttotal: 10m 5s\tremaining: 3h 3m 49s\n",
      "52:\tlearn: 1.4312849\ttotal: 10m 16s\tremaining: 3h 3m 28s\n",
      "53:\tlearn: 1.4231447\ttotal: 10m 27s\tremaining: 3h 3m 7s\n",
      "54:\tlearn: 1.4194965\ttotal: 10m 38s\tremaining: 3h 2m 46s\n",
      "55:\tlearn: 1.4137875\ttotal: 10m 50s\tremaining: 3h 2m 37s\n",
      "56:\tlearn: 1.4095791\ttotal: 11m 1s\tremaining: 3h 2m 17s\n",
      "57:\tlearn: 1.4008087\ttotal: 11m 12s\tremaining: 3h 2m\n",
      "58:\tlearn: 1.3968479\ttotal: 11m 23s\tremaining: 3h 1m 43s\n",
      "59:\tlearn: 1.3883842\ttotal: 11m 35s\tremaining: 3h 1m 39s\n",
      "60:\tlearn: 1.3848040\ttotal: 11m 46s\tremaining: 3h 1m 21s\n",
      "61:\tlearn: 1.3805133\ttotal: 11m 58s\tremaining: 3h 1m 2s\n",
      "62:\tlearn: 1.3758217\ttotal: 12m 9s\tremaining: 3h 46s\n",
      "63:\tlearn: 1.3719316\ttotal: 12m 21s\tremaining: 3h 37s\n",
      "64:\tlearn: 1.3663500\ttotal: 12m 32s\tremaining: 3h 22s\n",
      "65:\tlearn: 1.3631847\ttotal: 12m 43s\tremaining: 3h 5s\n",
      "66:\tlearn: 1.3581243\ttotal: 12m 55s\tremaining: 2h 59m 55s\n",
      "67:\tlearn: 1.3530122\ttotal: 13m 7s\tremaining: 2h 59m 53s\n",
      "68:\tlearn: 1.3468243\ttotal: 13m 19s\tremaining: 2h 59m 41s\n",
      "69:\tlearn: 1.3442749\ttotal: 13m 31s\tremaining: 2h 59m 35s\n",
      "70:\tlearn: 1.3412618\ttotal: 13m 42s\tremaining: 2h 59m 20s\n",
      "71:\tlearn: 1.3375036\ttotal: 13m 53s\tremaining: 2h 59m 8s\n",
      "72:\tlearn: 1.3349150\ttotal: 14m 5s\tremaining: 2h 58m 58s\n",
      "73:\tlearn: 1.3314182\ttotal: 14m 16s\tremaining: 2h 58m 42s\n",
      "74:\tlearn: 1.3285718\ttotal: 14m 28s\tremaining: 2h 58m 35s\n",
      "75:\tlearn: 1.3252671\ttotal: 14m 40s\tremaining: 2h 58m 20s\n",
      "76:\tlearn: 1.3219780\ttotal: 14m 51s\tremaining: 2h 58m 8s\n",
      "77:\tlearn: 1.3182546\ttotal: 15m 3s\tremaining: 2h 57m 57s\n",
      "78:\tlearn: 1.3130996\ttotal: 15m 14s\tremaining: 2h 57m 45s\n",
      "79:\tlearn: 1.3078484\ttotal: 15m 26s\tremaining: 2h 57m 39s\n",
      "80:\tlearn: 1.3029481\ttotal: 15m 38s\tremaining: 2h 57m 24s\n",
      "81:\tlearn: 1.3010594\ttotal: 15m 49s\tremaining: 2h 57m 9s\n",
      "82:\tlearn: 1.2976596\ttotal: 16m 1s\tremaining: 2h 57m 3s\n",
      "83:\tlearn: 1.2930634\ttotal: 16m 12s\tremaining: 2h 56m 47s\n",
      "84:\tlearn: 1.2896088\ttotal: 16m 24s\tremaining: 2h 56m 33s\n",
      "85:\tlearn: 1.2861689\ttotal: 16m 36s\tremaining: 2h 56m 31s\n",
      "86:\tlearn: 1.2826412\ttotal: 16m 47s\tremaining: 2h 56m 17s\n",
      "87:\tlearn: 1.2796378\ttotal: 16m 59s\tremaining: 2h 56m 9s\n",
      "88:\tlearn: 1.2763749\ttotal: 17m 11s\tremaining: 2h 55m 59s\n",
      "89:\tlearn: 1.2741190\ttotal: 17m 22s\tremaining: 2h 55m 44s\n",
      "90:\tlearn: 1.2718475\ttotal: 17m 34s\tremaining: 2h 55m 36s\n",
      "91:\tlearn: 1.2685903\ttotal: 17m 46s\tremaining: 2h 55m 21s\n",
      "92:\tlearn: 1.2645197\ttotal: 17m 58s\tremaining: 2h 55m 14s\n",
      "93:\tlearn: 1.2622524\ttotal: 18m 9s\tremaining: 2h 55m\n",
      "94:\tlearn: 1.2584082\ttotal: 18m 21s\tremaining: 2h 54m 49s\n",
      "95:\tlearn: 1.2558652\ttotal: 18m 32s\tremaining: 2h 54m 38s\n",
      "96:\tlearn: 1.2537666\ttotal: 18m 43s\tremaining: 2h 54m 23s\n",
      "97:\tlearn: 1.2511030\ttotal: 18m 55s\tremaining: 2h 54m 10s\n",
      "98:\tlearn: 1.2481100\ttotal: 19m 7s\tremaining: 2h 54m 1s\n",
      "99:\tlearn: 1.2454703\ttotal: 19m 18s\tremaining: 2h 53m 48s\n",
      "100:\tlearn: 1.2425249\ttotal: 19m 30s\tremaining: 2h 53m 40s\n",
      "101:\tlearn: 1.2383772\ttotal: 19m 42s\tremaining: 2h 53m 26s\n",
      "102:\tlearn: 1.2361117\ttotal: 19m 53s\tremaining: 2h 53m 12s\n",
      "103:\tlearn: 1.2339451\ttotal: 20m 5s\tremaining: 2h 53m 4s\n",
      "104:\tlearn: 1.2315800\ttotal: 20m 16s\tremaining: 2h 52m 50s\n",
      "105:\tlearn: 1.2290139\ttotal: 20m 27s\tremaining: 2h 52m 35s\n",
      "106:\tlearn: 1.2262709\ttotal: 20m 39s\tremaining: 2h 52m 28s\n",
      "107:\tlearn: 1.2246018\ttotal: 20m 51s\tremaining: 2h 52m 14s\n",
      "108:\tlearn: 1.2203622\ttotal: 21m 2s\tremaining: 2h 51m 59s\n",
      "109:\tlearn: 1.2182108\ttotal: 21m 14s\tremaining: 2h 51m 54s\n",
      "110:\tlearn: 1.2146185\ttotal: 21m 26s\tremaining: 2h 51m 39s\n",
      "111:\tlearn: 1.2127658\ttotal: 21m 38s\tremaining: 2h 51m 35s\n",
      "112:\tlearn: 1.2099252\ttotal: 21m 49s\tremaining: 2h 51m 21s\n",
      "113:\tlearn: 1.2080245\ttotal: 22m 1s\tremaining: 2h 51m 9s\n",
      "114:\tlearn: 1.2061521\ttotal: 22m 13s\tremaining: 2h 50m 59s\n",
      "115:\tlearn: 1.2021533\ttotal: 22m 24s\tremaining: 2h 50m 45s\n",
      "116:\tlearn: 1.1991551\ttotal: 22m 36s\tremaining: 2h 50m 36s\n",
      "117:\tlearn: 1.1966767\ttotal: 22m 47s\tremaining: 2h 50m 22s\n",
      "118:\tlearn: 1.1920163\ttotal: 22m 59s\tremaining: 2h 50m 12s\n",
      "119:\tlearn: 1.1906813\ttotal: 23m 11s\tremaining: 2h 50m 1s\n",
      "120:\tlearn: 1.1883337\ttotal: 23m 22s\tremaining: 2h 49m 47s\n",
      "121:\tlearn: 1.1855776\ttotal: 23m 34s\tremaining: 2h 49m 36s\n",
      "122:\tlearn: 1.1835338\ttotal: 23m 46s\tremaining: 2h 49m 27s\n",
      "123:\tlearn: 1.1822477\ttotal: 23m 57s\tremaining: 2h 49m 13s\n",
      "124:\tlearn: 1.1793522\ttotal: 24m 8s\tremaining: 2h 49m\n",
      "125:\tlearn: 1.1776857\ttotal: 24m 20s\tremaining: 2h 48m 50s\n",
      "126:\tlearn: 1.1746653\ttotal: 24m 31s\tremaining: 2h 48m 36s\n",
      "127:\tlearn: 1.1733569\ttotal: 24m 42s\tremaining: 2h 48m 22s\n",
      "128:\tlearn: 1.1714797\ttotal: 24m 54s\tremaining: 2h 48m 13s\n",
      "129:\tlearn: 1.1691414\ttotal: 25m 6s\tremaining: 2h 47m 59s\n",
      "130:\tlearn: 1.1662221\ttotal: 25m 18s\tremaining: 2h 47m 52s\n",
      "131:\tlearn: 1.1649626\ttotal: 25m 29s\tremaining: 2h 47m 38s\n",
      "132:\tlearn: 1.1637917\ttotal: 25m 40s\tremaining: 2h 47m 24s\n",
      "133:\tlearn: 1.1615884\ttotal: 25m 52s\tremaining: 2h 47m 15s\n",
      "134:\tlearn: 1.1588025\ttotal: 26m 4s\tremaining: 2h 47m 1s\n",
      "135:\tlearn: 1.1573229\ttotal: 26m 15s\tremaining: 2h 46m 48s\n",
      "136:\tlearn: 1.1561252\ttotal: 26m 27s\tremaining: 2h 46m 39s\n",
      "137:\tlearn: 1.1550530\ttotal: 26m 39s\tremaining: 2h 46m 28s\n",
      "138:\tlearn: 1.1528872\ttotal: 26m 50s\tremaining: 2h 46m 14s\n",
      "139:\tlearn: 1.1513728\ttotal: 27m 2s\tremaining: 2h 46m 6s\n",
      "140:\tlearn: 1.1484245\ttotal: 27m 13s\tremaining: 2h 45m 54s\n",
      "141:\tlearn: 1.1469461\ttotal: 27m 25s\tremaining: 2h 45m 41s\n",
      "142:\tlearn: 1.1454976\ttotal: 27m 36s\tremaining: 2h 45m 29s\n",
      "143:\tlearn: 1.1428451\ttotal: 27m 48s\tremaining: 2h 45m 20s\n"
     ]
    },
    {
     "name": "stdout",
     "output_type": "stream",
     "text": [
      "144:\tlearn: 1.1405154\ttotal: 28m\tremaining: 2h 45m 6s\n",
      "145:\tlearn: 1.1368802\ttotal: 28m 11s\tremaining: 2h 44m 53s\n",
      "146:\tlearn: 1.1357549\ttotal: 28m 23s\tremaining: 2h 44m 43s\n",
      "147:\tlearn: 1.1331862\ttotal: 28m 34s\tremaining: 2h 44m 30s\n",
      "148:\tlearn: 1.1317839\ttotal: 28m 45s\tremaining: 2h 44m 16s\n",
      "149:\tlearn: 1.1306011\ttotal: 28m 57s\tremaining: 2h 44m 7s\n",
      "150:\tlearn: 1.1286557\ttotal: 29m 9s\tremaining: 2h 43m 53s\n",
      "151:\tlearn: 1.1266359\ttotal: 29m 20s\tremaining: 2h 43m 42s\n",
      "152:\tlearn: 1.1244476\ttotal: 29m 32s\tremaining: 2h 43m 30s\n",
      "153:\tlearn: 1.1232350\ttotal: 29m 45s\tremaining: 2h 43m 27s\n",
      "154:\tlearn: 1.1211978\ttotal: 29m 57s\tremaining: 2h 43m 19s\n",
      "155:\tlearn: 1.1184989\ttotal: 30m 8s\tremaining: 2h 43m 5s\n",
      "156:\tlearn: 1.1157039\ttotal: 30m 20s\tremaining: 2h 42m 56s\n",
      "157:\tlearn: 1.1142439\ttotal: 30m 31s\tremaining: 2h 42m 42s\n",
      "158:\tlearn: 1.1119526\ttotal: 30m 43s\tremaining: 2h 42m 33s\n",
      "159:\tlearn: 1.1111129\ttotal: 30m 55s\tremaining: 2h 42m 20s\n",
      "160:\tlearn: 1.1084865\ttotal: 31m 6s\tremaining: 2h 42m 7s\n",
      "161:\tlearn: 1.1072106\ttotal: 31m 18s\tremaining: 2h 41m 59s\n",
      "162:\tlearn: 1.1050576\ttotal: 31m 30s\tremaining: 2h 41m 48s\n",
      "163:\tlearn: 1.1035337\ttotal: 31m 42s\tremaining: 2h 41m 36s\n",
      "164:\tlearn: 1.1015456\ttotal: 31m 54s\tremaining: 2h 41m 26s\n",
      "165:\tlearn: 1.0995836\ttotal: 32m 5s\tremaining: 2h 41m 12s\n",
      "166:\tlearn: 1.0971335\ttotal: 32m 16s\tremaining: 2h 40m 59s\n",
      "167:\tlearn: 1.0945904\ttotal: 32m 28s\tremaining: 2h 40m 50s\n",
      "168:\tlearn: 1.0925553\ttotal: 32m 39s\tremaining: 2h 40m 36s\n",
      "169:\tlearn: 1.0911530\ttotal: 32m 51s\tremaining: 2h 40m 23s\n",
      "170:\tlearn: 1.0897954\ttotal: 33m 3s\tremaining: 2h 40m 13s\n",
      "171:\tlearn: 1.0889163\ttotal: 33m 14s\tremaining: 2h 40m 1s\n",
      "172:\tlearn: 1.0868284\ttotal: 33m 25s\tremaining: 2h 39m 48s\n",
      "173:\tlearn: 1.0856500\ttotal: 33m 37s\tremaining: 2h 39m 37s\n",
      "174:\tlearn: 1.0847663\ttotal: 33m 49s\tremaining: 2h 39m 25s\n",
      "175:\tlearn: 1.0837407\ttotal: 34m\tremaining: 2h 39m 12s\n",
      "176:\tlearn: 1.0826604\ttotal: 34m 12s\tremaining: 2h 39m 4s\n",
      "177:\tlearn: 1.0801942\ttotal: 34m 23s\tremaining: 2h 38m 50s\n",
      "178:\tlearn: 1.0790339\ttotal: 34m 35s\tremaining: 2h 38m 37s\n",
      "179:\tlearn: 1.0767178\ttotal: 34m 46s\tremaining: 2h 38m 24s\n",
      "180:\tlearn: 1.0745037\ttotal: 34m 58s\tremaining: 2h 38m 14s\n",
      "181:\tlearn: 1.0727885\ttotal: 35m 9s\tremaining: 2h 38m 1s\n",
      "182:\tlearn: 1.0715916\ttotal: 35m 21s\tremaining: 2h 37m 49s\n",
      "183:\tlearn: 1.0693820\ttotal: 35m 32s\tremaining: 2h 37m 38s\n",
      "184:\tlearn: 1.0684517\ttotal: 35m 44s\tremaining: 2h 37m 26s\n",
      "185:\tlearn: 1.0665331\ttotal: 35m 55s\tremaining: 2h 37m 13s\n",
      "186:\tlearn: 1.0649188\ttotal: 36m 6s\tremaining: 2h 36m 59s\n",
      "187:\tlearn: 1.0622269\ttotal: 36m 18s\tremaining: 2h 36m 47s\n",
      "188:\tlearn: 1.0614986\ttotal: 36m 29s\tremaining: 2h 36m 37s\n",
      "189:\tlearn: 1.0603969\ttotal: 36m 41s\tremaining: 2h 36m 25s\n",
      "190:\tlearn: 1.0582622\ttotal: 36m 53s\tremaining: 2h 36m 16s\n",
      "191:\tlearn: 1.0571900\ttotal: 37m 5s\tremaining: 2h 36m 3s\n",
      "192:\tlearn: 1.0563882\ttotal: 37m 17s\tremaining: 2h 35m 54s\n",
      "193:\tlearn: 1.0538060\ttotal: 37m 28s\tremaining: 2h 35m 42s\n",
      "194:\tlearn: 1.0528992\ttotal: 37m 40s\tremaining: 2h 35m 31s\n",
      "195:\tlearn: 1.0508116\ttotal: 37m 52s\tremaining: 2h 35m 20s\n",
      "196:\tlearn: 1.0485606\ttotal: 38m 3s\tremaining: 2h 35m 7s\n",
      "197:\tlearn: 1.0467100\ttotal: 38m 14s\tremaining: 2h 34m 55s\n",
      "198:\tlearn: 1.0453689\ttotal: 38m 26s\tremaining: 2h 34m 44s\n",
      "199:\tlearn: 1.0443931\ttotal: 38m 37s\tremaining: 2h 34m 31s\n",
      "200:\tlearn: 1.0436088\ttotal: 38m 49s\tremaining: 2h 34m 20s\n",
      "201:\tlearn: 1.0428515\ttotal: 39m 1s\tremaining: 2h 34m 8s\n",
      "202:\tlearn: 1.0420810\ttotal: 39m 12s\tremaining: 2h 33m 55s\n",
      "203:\tlearn: 1.0410547\ttotal: 39m 23s\tremaining: 2h 33m 42s\n",
      "204:\tlearn: 1.0401822\ttotal: 39m 34s\tremaining: 2h 33m 29s\n",
      "205:\tlearn: 1.0391352\ttotal: 39m 46s\tremaining: 2h 33m 19s\n",
      "206:\tlearn: 1.0366384\ttotal: 39m 58s\tremaining: 2h 33m 6s\n",
      "207:\tlearn: 1.0359608\ttotal: 40m 9s\tremaining: 2h 32m 55s\n",
      "208:\tlearn: 1.0348423\ttotal: 40m 21s\tremaining: 2h 32m 45s\n",
      "209:\tlearn: 1.0342518\ttotal: 40m 32s\tremaining: 2h 32m 32s\n",
      "210:\tlearn: 1.0329043\ttotal: 40m 44s\tremaining: 2h 32m 20s\n",
      "211:\tlearn: 1.0321796\ttotal: 40m 55s\tremaining: 2h 32m 8s\n",
      "212:\tlearn: 1.0311334\ttotal: 41m 7s\tremaining: 2h 31m 55s\n",
      "213:\tlearn: 1.0300632\ttotal: 41m 18s\tremaining: 2h 31m 43s\n",
      "214:\tlearn: 1.0284322\ttotal: 41m 30s\tremaining: 2h 31m 33s\n",
      "215:\tlearn: 1.0258588\ttotal: 41m 41s\tremaining: 2h 31m 21s\n",
      "216:\tlearn: 1.0248786\ttotal: 41m 53s\tremaining: 2h 31m 10s\n",
      "217:\tlearn: 1.0241609\ttotal: 42m 4s\tremaining: 2h 30m 57s\n",
      "218:\tlearn: 1.0229697\ttotal: 42m 16s\tremaining: 2h 30m 47s\n",
      "219:\tlearn: 1.0213456\ttotal: 42m 27s\tremaining: 2h 30m 33s\n",
      "220:\tlearn: 1.0208471\ttotal: 42m 39s\tremaining: 2h 30m 20s\n",
      "221:\tlearn: 1.0193631\ttotal: 42m 50s\tremaining: 2h 30m 9s\n",
      "222:\tlearn: 1.0189436\ttotal: 43m 2s\tremaining: 2h 29m 56s\n",
      "223:\tlearn: 1.0183147\ttotal: 43m 13s\tremaining: 2h 29m 43s\n",
      "224:\tlearn: 1.0175448\ttotal: 43m 25s\tremaining: 2h 29m 33s\n",
      "225:\tlearn: 1.0170480\ttotal: 43m 36s\tremaining: 2h 29m 20s\n",
      "226:\tlearn: 1.0157053\ttotal: 43m 47s\tremaining: 2h 29m 8s\n",
      "227:\tlearn: 1.0137488\ttotal: 43m 59s\tremaining: 2h 28m 56s\n",
      "228:\tlearn: 1.0121349\ttotal: 44m 10s\tremaining: 2h 28m 43s\n",
      "229:\tlearn: 1.0114903\ttotal: 44m 21s\tremaining: 2h 28m 30s\n",
      "230:\tlearn: 1.0105290\ttotal: 44m 33s\tremaining: 2h 28m 19s\n",
      "231:\tlearn: 1.0098863\ttotal: 44m 44s\tremaining: 2h 28m 6s\n",
      "232:\tlearn: 1.0093673\ttotal: 44m 56s\tremaining: 2h 27m 56s\n",
      "233:\tlearn: 1.0081557\ttotal: 45m 7s\tremaining: 2h 27m 43s\n",
      "234:\tlearn: 1.0071072\ttotal: 45m 19s\tremaining: 2h 27m 33s\n",
      "235:\tlearn: 1.0049755\ttotal: 45m 31s\tremaining: 2h 27m 23s\n",
      "236:\tlearn: 1.0040455\ttotal: 45m 43s\tremaining: 2h 27m 12s\n",
      "237:\tlearn: 1.0032776\ttotal: 45m 54s\tremaining: 2h 26m 59s\n",
      "238:\tlearn: 1.0018457\ttotal: 46m 6s\tremaining: 2h 26m 47s\n",
      "239:\tlearn: 1.0010925\ttotal: 46m 18s\tremaining: 2h 26m 37s\n",
      "240:\tlearn: 1.0003592\ttotal: 46m 29s\tremaining: 2h 26m 25s\n",
      "241:\tlearn: 0.9984307\ttotal: 46m 41s\tremaining: 2h 26m 15s\n",
      "242:\tlearn: 0.9970442\ttotal: 46m 53s\tremaining: 2h 26m 5s\n",
      "243:\tlearn: 0.9964185\ttotal: 47m 5s\tremaining: 2h 25m 53s\n",
      "244:\tlearn: 0.9955087\ttotal: 47m 17s\tremaining: 2h 25m 44s\n",
      "245:\tlearn: 0.9949245\ttotal: 47m 29s\tremaining: 2h 25m 33s\n",
      "246:\tlearn: 0.9937966\ttotal: 47m 40s\tremaining: 2h 25m 21s\n",
      "247:\tlearn: 0.9922268\ttotal: 47m 52s\tremaining: 2h 25m 8s\n",
      "248:\tlearn: 0.9904235\ttotal: 48m 4s\tremaining: 2h 24m 58s\n",
      "249:\tlearn: 0.9896647\ttotal: 48m 15s\tremaining: 2h 24m 46s\n",
      "250:\tlearn: 0.9886321\ttotal: 48m 26s\tremaining: 2h 24m 34s\n",
      "251:\tlearn: 0.9873358\ttotal: 48m 38s\tremaining: 2h 24m 24s\n",
      "252:\tlearn: 0.9868470\ttotal: 48m 50s\tremaining: 2h 24m 11s\n",
      "253:\tlearn: 0.9855671\ttotal: 49m 1s\tremaining: 2h 23m 59s\n",
      "254:\tlearn: 0.9846875\ttotal: 49m 13s\tremaining: 2h 23m 48s\n",
      "255:\tlearn: 0.9825559\ttotal: 49m 25s\tremaining: 2h 23m 38s\n",
      "256:\tlearn: 0.9818389\ttotal: 49m 36s\tremaining: 2h 23m 26s\n",
      "257:\tlearn: 0.9807973\ttotal: 49m 48s\tremaining: 2h 23m 14s\n",
      "258:\tlearn: 0.9800872\ttotal: 49m 59s\tremaining: 2h 23m 1s\n",
      "259:\tlearn: 0.9793928\ttotal: 50m 11s\tremaining: 2h 22m 51s\n",
      "260:\tlearn: 0.9784860\ttotal: 50m 22s\tremaining: 2h 22m 39s\n",
      "261:\tlearn: 0.9780902\ttotal: 50m 34s\tremaining: 2h 22m 27s\n",
      "262:\tlearn: 0.9763508\ttotal: 50m 46s\tremaining: 2h 22m 15s\n",
      "263:\tlearn: 0.9757736\ttotal: 50m 57s\tremaining: 2h 22m 5s\n",
      "264:\tlearn: 0.9745902\ttotal: 51m 9s\tremaining: 2h 21m 53s\n",
      "265:\tlearn: 0.9737745\ttotal: 51m 22s\tremaining: 2h 21m 45s\n",
      "266:\tlearn: 0.9726235\ttotal: 51m 33s\tremaining: 2h 21m 33s\n",
      "267:\tlearn: 0.9723857\ttotal: 51m 46s\tremaining: 2h 21m 23s\n",
      "268:\tlearn: 0.9716348\ttotal: 51m 57s\tremaining: 2h 21m 11s\n",
      "269:\tlearn: 0.9708663\ttotal: 52m 9s\tremaining: 2h 21m\n",
      "270:\tlearn: 0.9705521\ttotal: 52m 21s\tremaining: 2h 20m 50s\n",
      "271:\tlearn: 0.9699857\ttotal: 52m 32s\tremaining: 2h 20m 38s\n",
      "272:\tlearn: 0.9685525\ttotal: 52m 44s\tremaining: 2h 20m 25s\n",
      "273:\tlearn: 0.9681883\ttotal: 52m 56s\tremaining: 2h 20m 15s\n",
      "274:\tlearn: 0.9673185\ttotal: 53m 9s\tremaining: 2h 20m 8s\n",
      "275:\tlearn: 0.9660197\ttotal: 53m 21s\tremaining: 2h 19m 58s\n",
      "276:\tlearn: 0.9657265\ttotal: 53m 32s\tremaining: 2h 19m 46s\n",
      "277:\tlearn: 0.9643059\ttotal: 53m 44s\tremaining: 2h 19m 35s\n",
      "278:\tlearn: 0.9635818\ttotal: 53m 56s\tremaining: 2h 19m 23s\n",
      "279:\tlearn: 0.9621361\ttotal: 54m 7s\tremaining: 2h 19m 11s\n",
      "280:\tlearn: 0.9613879\ttotal: 54m 19s\tremaining: 2h 19m\n",
      "281:\tlearn: 0.9596564\ttotal: 54m 30s\tremaining: 2h 18m 47s\n",
      "282:\tlearn: 0.9587358\ttotal: 54m 42s\tremaining: 2h 18m 35s\n",
      "283:\tlearn: 0.9582421\ttotal: 54m 54s\tremaining: 2h 18m 24s\n"
     ]
    },
    {
     "name": "stdout",
     "output_type": "stream",
     "text": [
      "284:\tlearn: 0.9573183\ttotal: 55m 5s\tremaining: 2h 18m 12s\n",
      "285:\tlearn: 0.9569645\ttotal: 55m 17s\tremaining: 2h 18m 1s\n",
      "286:\tlearn: 0.9561844\ttotal: 55m 28s\tremaining: 2h 17m 49s\n",
      "287:\tlearn: 0.9548077\ttotal: 55m 40s\tremaining: 2h 17m 37s\n",
      "288:\tlearn: 0.9533740\ttotal: 55m 52s\tremaining: 2h 17m 26s\n",
      "289:\tlearn: 0.9527821\ttotal: 56m 3s\tremaining: 2h 17m 14s\n",
      "290:\tlearn: 0.9523781\ttotal: 56m 16s\tremaining: 2h 17m 7s\n",
      "291:\tlearn: 0.9514011\ttotal: 56m 28s\tremaining: 2h 16m 56s\n",
      "292:\tlearn: 0.9509204\ttotal: 56m 40s\tremaining: 2h 16m 45s\n",
      "293:\tlearn: 0.9503985\ttotal: 56m 51s\tremaining: 2h 16m 33s\n",
      "294:\tlearn: 0.9490051\ttotal: 57m 3s\tremaining: 2h 16m 22s\n",
      "295:\tlearn: 0.9480012\ttotal: 57m 15s\tremaining: 2h 16m 11s\n",
      "296:\tlearn: 0.9476854\ttotal: 57m 26s\tremaining: 2h 15m 58s\n",
      "297:\tlearn: 0.9466829\ttotal: 57m 38s\tremaining: 2h 15m 47s\n",
      "298:\tlearn: 0.9457605\ttotal: 57m 49s\tremaining: 2h 15m 35s\n",
      "299:\tlearn: 0.9443195\ttotal: 58m 1s\tremaining: 2h 15m 22s\n",
      "300:\tlearn: 0.9439867\ttotal: 58m 13s\tremaining: 2h 15m 12s\n",
      "301:\tlearn: 0.9428682\ttotal: 58m 24s\tremaining: 2h 14m 59s\n",
      "302:\tlearn: 0.9416228\ttotal: 58m 35s\tremaining: 2h 14m 47s\n",
      "303:\tlearn: 0.9404962\ttotal: 58m 47s\tremaining: 2h 14m 35s\n",
      "304:\tlearn: 0.9385611\ttotal: 58m 59s\tremaining: 2h 14m 24s\n",
      "305:\tlearn: 0.9377456\ttotal: 59m 10s\tremaining: 2h 14m 13s\n",
      "306:\tlearn: 0.9366572\ttotal: 59m 22s\tremaining: 2h 14m 2s\n",
      "307:\tlearn: 0.9355952\ttotal: 59m 34s\tremaining: 2h 13m 50s\n",
      "308:\tlearn: 0.9345558\ttotal: 59m 46s\tremaining: 2h 13m 39s\n",
      "309:\tlearn: 0.9338303\ttotal: 59m 57s\tremaining: 2h 13m 27s\n",
      "310:\tlearn: 0.9331264\ttotal: 1h 8s\tremaining: 2h 13m 14s\n",
      "311:\tlearn: 0.9322082\ttotal: 1h 20s\tremaining: 2h 13m 3s\n",
      "312:\tlearn: 0.9319940\ttotal: 1h 31s\tremaining: 2h 12m 51s\n",
      "313:\tlearn: 0.9317956\ttotal: 1h 43s\tremaining: 2h 12m 38s\n",
      "314:\tlearn: 0.9310756\ttotal: 1h 55s\tremaining: 2h 12m 28s\n",
      "315:\tlearn: 0.9297443\ttotal: 1h 1m 6s\tremaining: 2h 12m 16s\n",
      "316:\tlearn: 0.9292209\ttotal: 1h 1m 18s\tremaining: 2h 12m 4s\n",
      "317:\tlearn: 0.9283130\ttotal: 1h 1m 30s\tremaining: 2h 11m 54s\n",
      "318:\tlearn: 0.9275184\ttotal: 1h 1m 41s\tremaining: 2h 11m 42s\n",
      "319:\tlearn: 0.9262977\ttotal: 1h 1m 53s\tremaining: 2h 11m 32s\n",
      "320:\tlearn: 0.9257401\ttotal: 1h 2m 5s\tremaining: 2h 11m 20s\n",
      "321:\tlearn: 0.9250162\ttotal: 1h 2m 16s\tremaining: 2h 11m 8s\n",
      "322:\tlearn: 0.9245926\ttotal: 1h 2m 28s\tremaining: 2h 10m 57s\n",
      "323:\tlearn: 0.9242770\ttotal: 1h 2m 40s\tremaining: 2h 10m 44s\n",
      "324:\tlearn: 0.9240019\ttotal: 1h 2m 51s\tremaining: 2h 10m 32s\n",
      "325:\tlearn: 0.9233463\ttotal: 1h 3m 3s\tremaining: 2h 10m 21s\n",
      "326:\tlearn: 0.9223951\ttotal: 1h 3m 14s\tremaining: 2h 10m 10s\n",
      "327:\tlearn: 0.9213378\ttotal: 1h 3m 26s\tremaining: 2h 9m 58s\n",
      "328:\tlearn: 0.9204402\ttotal: 1h 3m 37s\tremaining: 2h 9m 46s\n",
      "329:\tlearn: 0.9194738\ttotal: 1h 3m 49s\tremaining: 2h 9m 34s\n",
      "330:\tlearn: 0.9190566\ttotal: 1h 4m 1s\tremaining: 2h 9m 24s\n",
      "331:\tlearn: 0.9182567\ttotal: 1h 4m 13s\tremaining: 2h 9m 12s\n",
      "332:\tlearn: 0.9179673\ttotal: 1h 4m 24s\tremaining: 2h 9m\n",
      "333:\tlearn: 0.9173451\ttotal: 1h 4m 36s\tremaining: 2h 8m 49s\n",
      "334:\tlearn: 0.9168892\ttotal: 1h 4m 47s\tremaining: 2h 8m 37s\n",
      "335:\tlearn: 0.9164273\ttotal: 1h 4m 59s\tremaining: 2h 8m 26s\n",
      "336:\tlearn: 0.9156824\ttotal: 1h 5m 11s\tremaining: 2h 8m 15s\n",
      "337:\tlearn: 0.9152077\ttotal: 1h 5m 22s\tremaining: 2h 8m 3s\n",
      "338:\tlearn: 0.9148373\ttotal: 1h 5m 34s\tremaining: 2h 7m 50s\n",
      "339:\tlearn: 0.9145838\ttotal: 1h 5m 45s\tremaining: 2h 7m 39s\n",
      "340:\tlearn: 0.9135014\ttotal: 1h 5m 57s\tremaining: 2h 7m 27s\n",
      "341:\tlearn: 0.9126359\ttotal: 1h 6m 8s\tremaining: 2h 7m 16s\n",
      "342:\tlearn: 0.9116572\ttotal: 1h 6m 20s\tremaining: 2h 7m 3s\n",
      "343:\tlearn: 0.9110255\ttotal: 1h 6m 31s\tremaining: 2h 6m 51s\n",
      "344:\tlearn: 0.9102822\ttotal: 1h 6m 43s\tremaining: 2h 6m 40s\n",
      "345:\tlearn: 0.9101243\ttotal: 1h 6m 54s\tremaining: 2h 6m 28s\n",
      "346:\tlearn: 0.9095379\ttotal: 1h 7m 5s\tremaining: 2h 6m 15s\n",
      "347:\tlearn: 0.9091270\ttotal: 1h 7m 16s\tremaining: 2h 6m 3s\n",
      "348:\tlearn: 0.9084262\ttotal: 1h 7m 28s\tremaining: 2h 5m 52s\n",
      "349:\tlearn: 0.9081697\ttotal: 1h 7m 39s\tremaining: 2h 5m 39s\n",
      "350:\tlearn: 0.9075844\ttotal: 1h 7m 51s\tremaining: 2h 5m 27s\n",
      "351:\tlearn: 0.9072789\ttotal: 1h 8m 2s\tremaining: 2h 5m 16s\n",
      "352:\tlearn: 0.9069171\ttotal: 1h 8m 13s\tremaining: 2h 5m 3s\n",
      "353:\tlearn: 0.9065511\ttotal: 1h 8m 25s\tremaining: 2h 4m 51s\n",
      "354:\tlearn: 0.9059167\ttotal: 1h 8m 37s\tremaining: 2h 4m 40s\n",
      "355:\tlearn: 0.9050662\ttotal: 1h 8m 48s\tremaining: 2h 4m 27s\n",
      "356:\tlearn: 0.9047928\ttotal: 1h 8m 59s\tremaining: 2h 4m 15s\n",
      "357:\tlearn: 0.9037343\ttotal: 1h 9m 10s\tremaining: 2h 4m 3s\n",
      "358:\tlearn: 0.9033706\ttotal: 1h 9m 22s\tremaining: 2h 3m 51s\n",
      "359:\tlearn: 0.9023576\ttotal: 1h 9m 33s\tremaining: 2h 3m 39s\n",
      "360:\tlearn: 0.9020949\ttotal: 1h 9m 44s\tremaining: 2h 3m 27s\n",
      "361:\tlearn: 0.9013897\ttotal: 1h 9m 56s\tremaining: 2h 3m 15s\n",
      "362:\tlearn: 0.9007918\ttotal: 1h 10m 7s\tremaining: 2h 3m 2s\n",
      "363:\tlearn: 0.9003681\ttotal: 1h 10m 18s\tremaining: 2h 2m 50s\n",
      "364:\tlearn: 0.8999370\ttotal: 1h 10m 30s\tremaining: 2h 2m 39s\n",
      "365:\tlearn: 0.8997692\ttotal: 1h 10m 41s\tremaining: 2h 2m 26s\n",
      "366:\tlearn: 0.8994944\ttotal: 1h 10m 52s\tremaining: 2h 2m 14s\n",
      "367:\tlearn: 0.8992091\ttotal: 1h 11m 3s\tremaining: 2h 2m 2s\n",
      "368:\tlearn: 0.8987285\ttotal: 1h 11m 15s\tremaining: 2h 1m 50s\n",
      "369:\tlearn: 0.8980747\ttotal: 1h 11m 26s\tremaining: 2h 1m 38s\n",
      "370:\tlearn: 0.8978504\ttotal: 1h 11m 38s\tremaining: 2h 1m 27s\n",
      "371:\tlearn: 0.8974880\ttotal: 1h 11m 50s\tremaining: 2h 1m 16s\n",
      "372:\tlearn: 0.8972913\ttotal: 1h 12m 1s\tremaining: 2h 1m 3s\n",
      "373:\tlearn: 0.8968273\ttotal: 1h 12m 13s\tremaining: 2h 52s\n",
      "374:\tlearn: 0.8964018\ttotal: 1h 12m 24s\tremaining: 2h 40s\n",
      "375:\tlearn: 0.8957724\ttotal: 1h 12m 35s\tremaining: 2h 27s\n",
      "376:\tlearn: 0.8946467\ttotal: 1h 12m 47s\tremaining: 2h 16s\n",
      "377:\tlearn: 0.8939618\ttotal: 1h 12m 58s\tremaining: 2h 4s\n",
      "378:\tlearn: 0.8936526\ttotal: 1h 13m 9s\tremaining: 1h 59m 52s\n",
      "379:\tlearn: 0.8931901\ttotal: 1h 13m 20s\tremaining: 1h 59m 40s\n",
      "380:\tlearn: 0.8928632\ttotal: 1h 13m 32s\tremaining: 1h 59m 28s\n",
      "381:\tlearn: 0.8926898\ttotal: 1h 13m 43s\tremaining: 1h 59m 16s\n",
      "382:\tlearn: 0.8920248\ttotal: 1h 13m 54s\tremaining: 1h 59m 4s\n",
      "383:\tlearn: 0.8917955\ttotal: 1h 14m 6s\tremaining: 1h 58m 52s\n",
      "384:\tlearn: 0.8912685\ttotal: 1h 14m 17s\tremaining: 1h 58m 40s\n",
      "385:\tlearn: 0.8907630\ttotal: 1h 14m 28s\tremaining: 1h 58m 27s\n",
      "386:\tlearn: 0.8905446\ttotal: 1h 14m 40s\tremaining: 1h 58m 16s\n",
      "387:\tlearn: 0.8901759\ttotal: 1h 14m 51s\tremaining: 1h 58m 4s\n",
      "388:\tlearn: 0.8896764\ttotal: 1h 15m 2s\tremaining: 1h 57m 52s\n",
      "389:\tlearn: 0.8889101\ttotal: 1h 15m 14s\tremaining: 1h 57m 41s\n",
      "390:\tlearn: 0.8885796\ttotal: 1h 15m 25s\tremaining: 1h 57m 28s\n",
      "391:\tlearn: 0.8880191\ttotal: 1h 15m 36s\tremaining: 1h 57m 16s\n",
      "392:\tlearn: 0.8878107\ttotal: 1h 15m 48s\tremaining: 1h 57m 4s\n",
      "393:\tlearn: 0.8871520\ttotal: 1h 15m 59s\tremaining: 1h 56m 52s\n",
      "394:\tlearn: 0.8858183\ttotal: 1h 16m 10s\tremaining: 1h 56m 40s\n",
      "395:\tlearn: 0.8853522\ttotal: 1h 16m 21s\tremaining: 1h 56m 28s\n",
      "396:\tlearn: 0.8850858\ttotal: 1h 16m 34s\tremaining: 1h 56m 17s\n",
      "397:\tlearn: 0.8846511\ttotal: 1h 16m 45s\tremaining: 1h 56m 5s\n",
      "398:\tlearn: 0.8839646\ttotal: 1h 16m 56s\tremaining: 1h 55m 53s\n",
      "399:\tlearn: 0.8836649\ttotal: 1h 17m 7s\tremaining: 1h 55m 41s\n",
      "400:\tlearn: 0.8833238\ttotal: 1h 17m 19s\tremaining: 1h 55m 30s\n",
      "401:\tlearn: 0.8826235\ttotal: 1h 17m 30s\tremaining: 1h 55m 18s\n",
      "402:\tlearn: 0.8821421\ttotal: 1h 17m 41s\tremaining: 1h 55m 6s\n",
      "403:\tlearn: 0.8817573\ttotal: 1h 17m 53s\tremaining: 1h 54m 54s\n",
      "404:\tlearn: 0.8813160\ttotal: 1h 18m 4s\tremaining: 1h 54m 42s\n",
      "405:\tlearn: 0.8808540\ttotal: 1h 18m 15s\tremaining: 1h 54m 30s\n",
      "406:\tlearn: 0.8803394\ttotal: 1h 18m 26s\tremaining: 1h 54m 17s\n",
      "407:\tlearn: 0.8799246\ttotal: 1h 18m 37s\tremaining: 1h 54m 5s\n",
      "408:\tlearn: 0.8794960\ttotal: 1h 18m 49s\tremaining: 1h 53m 54s\n",
      "409:\tlearn: 0.8787974\ttotal: 1h 19m\tremaining: 1h 53m 42s\n",
      "410:\tlearn: 0.8783458\ttotal: 1h 19m 11s\tremaining: 1h 53m 29s\n",
      "411:\tlearn: 0.8777942\ttotal: 1h 19m 23s\tremaining: 1h 53m 18s\n",
      "412:\tlearn: 0.8774809\ttotal: 1h 19m 34s\tremaining: 1h 53m 6s\n",
      "413:\tlearn: 0.8769811\ttotal: 1h 19m 45s\tremaining: 1h 52m 54s\n",
      "414:\tlearn: 0.8767575\ttotal: 1h 19m 57s\tremaining: 1h 52m 43s\n",
      "415:\tlearn: 0.8757201\ttotal: 1h 20m 8s\tremaining: 1h 52m 31s\n",
      "416:\tlearn: 0.8755060\ttotal: 1h 20m 20s\tremaining: 1h 52m 18s\n",
      "417:\tlearn: 0.8752639\ttotal: 1h 20m 31s\tremaining: 1h 52m 6s\n",
      "418:\tlearn: 0.8750549\ttotal: 1h 20m 43s\tremaining: 1h 51m 55s\n",
      "419:\tlearn: 0.8746424\ttotal: 1h 20m 54s\tremaining: 1h 51m 43s\n",
      "420:\tlearn: 0.8740783\ttotal: 1h 21m 5s\tremaining: 1h 51m 31s\n"
     ]
    },
    {
     "name": "stdout",
     "output_type": "stream",
     "text": [
      "421:\tlearn: 0.8738910\ttotal: 1h 21m 17s\tremaining: 1h 51m 20s\n",
      "422:\tlearn: 0.8733031\ttotal: 1h 21m 28s\tremaining: 1h 51m 8s\n",
      "423:\tlearn: 0.8730829\ttotal: 1h 21m 40s\tremaining: 1h 50m 57s\n",
      "424:\tlearn: 0.8723814\ttotal: 1h 21m 52s\tremaining: 1h 50m 46s\n",
      "425:\tlearn: 0.8720477\ttotal: 1h 22m 4s\tremaining: 1h 50m 34s\n",
      "426:\tlearn: 0.8715449\ttotal: 1h 22m 15s\tremaining: 1h 50m 22s\n",
      "427:\tlearn: 0.8712155\ttotal: 1h 22m 26s\tremaining: 1h 50m 11s\n",
      "428:\tlearn: 0.8708266\ttotal: 1h 22m 38s\tremaining: 1h 50m\n",
      "429:\tlearn: 0.8705005\ttotal: 1h 22m 50s\tremaining: 1h 49m 48s\n",
      "430:\tlearn: 0.8700787\ttotal: 1h 23m 1s\tremaining: 1h 49m 36s\n",
      "431:\tlearn: 0.8697043\ttotal: 1h 23m 13s\tremaining: 1h 49m 25s\n",
      "432:\tlearn: 0.8694837\ttotal: 1h 23m 24s\tremaining: 1h 49m 13s\n",
      "433:\tlearn: 0.8691179\ttotal: 1h 23m 36s\tremaining: 1h 49m 2s\n",
      "434:\tlearn: 0.8688697\ttotal: 1h 23m 47s\tremaining: 1h 48m 50s\n",
      "435:\tlearn: 0.8687962\ttotal: 1h 23m 59s\tremaining: 1h 48m 38s\n",
      "436:\tlearn: 0.8683768\ttotal: 1h 24m 11s\tremaining: 1h 48m 27s\n",
      "437:\tlearn: 0.8683040\ttotal: 1h 24m 22s\tremaining: 1h 48m 15s\n",
      "438:\tlearn: 0.8681498\ttotal: 1h 24m 34s\tremaining: 1h 48m 4s\n",
      "439:\tlearn: 0.8675319\ttotal: 1h 24m 45s\tremaining: 1h 47m 52s\n",
      "440:\tlearn: 0.8669695\ttotal: 1h 24m 56s\tremaining: 1h 47m 40s\n",
      "441:\tlearn: 0.8667201\ttotal: 1h 25m 8s\tremaining: 1h 47m 29s\n",
      "442:\tlearn: 0.8666016\ttotal: 1h 25m 20s\tremaining: 1h 47m 17s\n",
      "443:\tlearn: 0.8661479\ttotal: 1h 25m 32s\tremaining: 1h 47m 6s\n",
      "444:\tlearn: 0.8657162\ttotal: 1h 25m 43s\tremaining: 1h 46m 55s\n",
      "445:\tlearn: 0.8653324\ttotal: 1h 25m 55s\tremaining: 1h 46m 43s\n",
      "446:\tlearn: 0.8652312\ttotal: 1h 26m 6s\tremaining: 1h 46m 32s\n",
      "447:\tlearn: 0.8645349\ttotal: 1h 26m 18s\tremaining: 1h 46m 20s\n",
      "448:\tlearn: 0.8635027\ttotal: 1h 26m 29s\tremaining: 1h 46m 8s\n",
      "449:\tlearn: 0.8633777\ttotal: 1h 26m 41s\tremaining: 1h 45m 56s\n",
      "450:\tlearn: 0.8618566\ttotal: 1h 26m 53s\tremaining: 1h 45m 46s\n",
      "451:\tlearn: 0.8615648\ttotal: 1h 27m 4s\tremaining: 1h 45m 34s\n",
      "452:\tlearn: 0.8614141\ttotal: 1h 27m 16s\tremaining: 1h 45m 22s\n",
      "453:\tlearn: 0.8611388\ttotal: 1h 27m 28s\tremaining: 1h 45m 11s\n",
      "454:\tlearn: 0.8608410\ttotal: 1h 27m 39s\tremaining: 1h 44m 59s\n",
      "455:\tlearn: 0.8607076\ttotal: 1h 27m 50s\tremaining: 1h 44m 47s\n",
      "456:\tlearn: 0.8604684\ttotal: 1h 28m 2s\tremaining: 1h 44m 36s\n",
      "457:\tlearn: 0.8596660\ttotal: 1h 28m 13s\tremaining: 1h 44m 24s\n",
      "458:\tlearn: 0.8591107\ttotal: 1h 28m 25s\tremaining: 1h 44m 13s\n",
      "459:\tlearn: 0.8590696\ttotal: 1h 28m 37s\tremaining: 1h 44m 1s\n",
      "460:\tlearn: 0.8589672\ttotal: 1h 28m 48s\tremaining: 1h 43m 49s\n",
      "461:\tlearn: 0.8587898\ttotal: 1h 29m\tremaining: 1h 43m 38s\n",
      "462:\tlearn: 0.8584016\ttotal: 1h 29m 11s\tremaining: 1h 43m 27s\n",
      "463:\tlearn: 0.8576324\ttotal: 1h 29m 23s\tremaining: 1h 43m 15s\n",
      "464:\tlearn: 0.8571878\ttotal: 1h 29m 35s\tremaining: 1h 43m 4s\n",
      "465:\tlearn: 0.8568071\ttotal: 1h 29m 46s\tremaining: 1h 42m 52s\n",
      "466:\tlearn: 0.8567379\ttotal: 1h 29m 57s\tremaining: 1h 42m 40s\n",
      "467:\tlearn: 0.8564728\ttotal: 1h 30m 9s\tremaining: 1h 42m 29s\n",
      "468:\tlearn: 0.8563170\ttotal: 1h 30m 20s\tremaining: 1h 42m 17s\n",
      "469:\tlearn: 0.8558953\ttotal: 1h 30m 31s\tremaining: 1h 42m 5s\n",
      "470:\tlearn: 0.8554396\ttotal: 1h 30m 43s\tremaining: 1h 41m 54s\n",
      "471:\tlearn: 0.8551309\ttotal: 1h 30m 55s\tremaining: 1h 41m 42s\n",
      "472:\tlearn: 0.8550317\ttotal: 1h 31m 6s\tremaining: 1h 41m 30s\n",
      "473:\tlearn: 0.8546652\ttotal: 1h 31m 18s\tremaining: 1h 41m 18s\n",
      "474:\tlearn: 0.8535763\ttotal: 1h 31m 30s\tremaining: 1h 41m 8s\n",
      "475:\tlearn: 0.8533827\ttotal: 1h 31m 42s\tremaining: 1h 40m 57s\n",
      "476:\tlearn: 0.8533207\ttotal: 1h 31m 53s\tremaining: 1h 40m 45s\n",
      "477:\tlearn: 0.8532462\ttotal: 1h 32m 5s\tremaining: 1h 40m 33s\n",
      "478:\tlearn: 0.8530980\ttotal: 1h 32m 16s\tremaining: 1h 40m 21s\n",
      "479:\tlearn: 0.8525512\ttotal: 1h 32m 27s\tremaining: 1h 40m 9s\n",
      "480:\tlearn: 0.8521056\ttotal: 1h 32m 39s\tremaining: 1h 39m 58s\n",
      "481:\tlearn: 0.8519476\ttotal: 1h 32m 50s\tremaining: 1h 39m 46s\n",
      "482:\tlearn: 0.8517198\ttotal: 1h 33m 1s\tremaining: 1h 39m 34s\n",
      "483:\tlearn: 0.8507570\ttotal: 1h 33m 13s\tremaining: 1h 39m 23s\n",
      "484:\tlearn: 0.8505518\ttotal: 1h 33m 24s\tremaining: 1h 39m 11s\n",
      "485:\tlearn: 0.8504187\ttotal: 1h 33m 35s\tremaining: 1h 38m 59s\n",
      "486:\tlearn: 0.8502564\ttotal: 1h 33m 47s\tremaining: 1h 38m 47s\n",
      "487:\tlearn: 0.8501290\ttotal: 1h 33m 58s\tremaining: 1h 38m 36s\n",
      "488:\tlearn: 0.8498133\ttotal: 1h 34m 9s\tremaining: 1h 38m 23s\n",
      "489:\tlearn: 0.8495459\ttotal: 1h 34m 20s\tremaining: 1h 38m 11s\n",
      "490:\tlearn: 0.8494067\ttotal: 1h 34m 32s\tremaining: 1h 38m\n",
      "491:\tlearn: 0.8492733\ttotal: 1h 34m 43s\tremaining: 1h 37m 48s\n",
      "492:\tlearn: 0.8487763\ttotal: 1h 34m 55s\tremaining: 1h 37m 37s\n",
      "493:\tlearn: 0.8486891\ttotal: 1h 35m 6s\tremaining: 1h 37m 25s\n",
      "494:\tlearn: 0.8479825\ttotal: 1h 35m 18s\tremaining: 1h 37m 13s\n",
      "495:\tlearn: 0.8477443\ttotal: 1h 35m 29s\tremaining: 1h 37m 2s\n",
      "496:\tlearn: 0.8474722\ttotal: 1h 35m 41s\tremaining: 1h 36m 50s\n",
      "497:\tlearn: 0.8472919\ttotal: 1h 35m 52s\tremaining: 1h 36m 38s\n",
      "498:\tlearn: 0.8469281\ttotal: 1h 36m 3s\tremaining: 1h 36m 27s\n",
      "499:\tlearn: 0.8467988\ttotal: 1h 36m 15s\tremaining: 1h 36m 15s\n",
      "500:\tlearn: 0.8466722\ttotal: 1h 36m 26s\tremaining: 1h 36m 3s\n",
      "501:\tlearn: 0.8464988\ttotal: 1h 36m 38s\tremaining: 1h 35m 52s\n",
      "502:\tlearn: 0.8462500\ttotal: 1h 36m 49s\tremaining: 1h 35m 40s\n",
      "503:\tlearn: 0.8459303\ttotal: 1h 37m\tremaining: 1h 35m 28s\n",
      "504:\tlearn: 0.8452101\ttotal: 1h 37m 12s\tremaining: 1h 35m 16s\n",
      "505:\tlearn: 0.8448536\ttotal: 1h 37m 23s\tremaining: 1h 35m 5s\n",
      "506:\tlearn: 0.8446588\ttotal: 1h 37m 34s\tremaining: 1h 34m 53s\n",
      "507:\tlearn: 0.8443626\ttotal: 1h 37m 46s\tremaining: 1h 34m 41s\n",
      "508:\tlearn: 0.8442731\ttotal: 1h 37m 57s\tremaining: 1h 34m 29s\n",
      "509:\tlearn: 0.8438773\ttotal: 1h 38m 8s\tremaining: 1h 34m 17s\n",
      "510:\tlearn: 0.8435655\ttotal: 1h 38m 20s\tremaining: 1h 34m 6s\n",
      "511:\tlearn: 0.8433854\ttotal: 1h 38m 32s\tremaining: 1h 33m 54s\n",
      "512:\tlearn: 0.8428115\ttotal: 1h 38m 43s\tremaining: 1h 33m 43s\n",
      "513:\tlearn: 0.8422607\ttotal: 1h 38m 54s\tremaining: 1h 33m 31s\n",
      "514:\tlearn: 0.8421868\ttotal: 1h 39m 6s\tremaining: 1h 33m 19s\n",
      "515:\tlearn: 0.8417581\ttotal: 1h 39m 17s\tremaining: 1h 33m 8s\n",
      "516:\tlearn: 0.8407045\ttotal: 1h 39m 29s\tremaining: 1h 32m 56s\n",
      "517:\tlearn: 0.8406605\ttotal: 1h 39m 40s\tremaining: 1h 32m 44s\n",
      "518:\tlearn: 0.8400862\ttotal: 1h 39m 51s\tremaining: 1h 32m 32s\n",
      "519:\tlearn: 0.8392910\ttotal: 1h 40m 3s\tremaining: 1h 32m 21s\n",
      "520:\tlearn: 0.8392491\ttotal: 1h 40m 14s\tremaining: 1h 32m 9s\n",
      "521:\tlearn: 0.8389127\ttotal: 1h 40m 25s\tremaining: 1h 31m 57s\n",
      "522:\tlearn: 0.8388606\ttotal: 1h 40m 37s\tremaining: 1h 31m 46s\n",
      "523:\tlearn: 0.8384843\ttotal: 1h 40m 48s\tremaining: 1h 31m 34s\n",
      "524:\tlearn: 0.8381122\ttotal: 1h 40m 59s\tremaining: 1h 31m 22s\n",
      "525:\tlearn: 0.8376421\ttotal: 1h 41m 11s\tremaining: 1h 31m 11s\n",
      "526:\tlearn: 0.8373144\ttotal: 1h 41m 22s\tremaining: 1h 30m 59s\n",
      "527:\tlearn: 0.8367761\ttotal: 1h 41m 34s\tremaining: 1h 30m 47s\n",
      "528:\tlearn: 0.8366263\ttotal: 1h 41m 46s\tremaining: 1h 30m 36s\n",
      "529:\tlearn: 0.8362213\ttotal: 1h 41m 57s\tremaining: 1h 30m 24s\n",
      "530:\tlearn: 0.8359329\ttotal: 1h 42m 8s\tremaining: 1h 30m 12s\n",
      "531:\tlearn: 0.8353296\ttotal: 1h 42m 20s\tremaining: 1h 30m 1s\n",
      "532:\tlearn: 0.8351875\ttotal: 1h 42m 31s\tremaining: 1h 29m 49s\n",
      "533:\tlearn: 0.8348587\ttotal: 1h 42m 42s\tremaining: 1h 29m 37s\n",
      "534:\tlearn: 0.8347204\ttotal: 1h 42m 53s\tremaining: 1h 29m 25s\n",
      "535:\tlearn: 0.8340660\ttotal: 1h 43m 5s\tremaining: 1h 29m 14s\n",
      "536:\tlearn: 0.8335997\ttotal: 1h 43m 16s\tremaining: 1h 29m 2s\n",
      "537:\tlearn: 0.8332791\ttotal: 1h 43m 27s\tremaining: 1h 28m 50s\n",
      "538:\tlearn: 0.8329727\ttotal: 1h 43m 38s\tremaining: 1h 28m 38s\n",
      "539:\tlearn: 0.8326773\ttotal: 1h 43m 50s\tremaining: 1h 28m 27s\n",
      "540:\tlearn: 0.8322192\ttotal: 1h 44m 1s\tremaining: 1h 28m 15s\n",
      "541:\tlearn: 0.8318638\ttotal: 1h 44m 12s\tremaining: 1h 28m 3s\n",
      "542:\tlearn: 0.8314074\ttotal: 1h 44m 24s\tremaining: 1h 27m 52s\n",
      "543:\tlearn: 0.8312930\ttotal: 1h 44m 35s\tremaining: 1h 27m 40s\n",
      "544:\tlearn: 0.8305851\ttotal: 1h 44m 46s\tremaining: 1h 27m 28s\n",
      "545:\tlearn: 0.8301669\ttotal: 1h 44m 58s\tremaining: 1h 27m 17s\n",
      "546:\tlearn: 0.8299366\ttotal: 1h 45m 9s\tremaining: 1h 27m 5s\n",
      "547:\tlearn: 0.8298455\ttotal: 1h 45m 20s\tremaining: 1h 26m 53s\n",
      "548:\tlearn: 0.8294242\ttotal: 1h 45m 32s\tremaining: 1h 26m 41s\n",
      "549:\tlearn: 0.8292531\ttotal: 1h 45m 43s\tremaining: 1h 26m 30s\n",
      "550:\tlearn: 0.8289014\ttotal: 1h 45m 54s\tremaining: 1h 26m 18s\n",
      "551:\tlearn: 0.8286980\ttotal: 1h 46m 6s\tremaining: 1h 26m 6s\n",
      "552:\tlearn: 0.8282661\ttotal: 1h 46m 17s\tremaining: 1h 25m 54s\n",
      "553:\tlearn: 0.8279055\ttotal: 1h 46m 28s\tremaining: 1h 25m 43s\n",
      "554:\tlearn: 0.8270710\ttotal: 1h 46m 40s\tremaining: 1h 25m 31s\n"
     ]
    },
    {
     "name": "stdout",
     "output_type": "stream",
     "text": [
      "555:\tlearn: 0.8266149\ttotal: 1h 46m 51s\tremaining: 1h 25m 20s\n",
      "556:\tlearn: 0.8263126\ttotal: 1h 47m 3s\tremaining: 1h 25m 8s\n",
      "557:\tlearn: 0.8262600\ttotal: 1h 47m 14s\tremaining: 1h 24m 56s\n",
      "558:\tlearn: 0.8261067\ttotal: 1h 47m 25s\tremaining: 1h 24m 45s\n",
      "559:\tlearn: 0.8259900\ttotal: 1h 47m 37s\tremaining: 1h 24m 33s\n",
      "560:\tlearn: 0.8256569\ttotal: 1h 47m 48s\tremaining: 1h 24m 22s\n",
      "561:\tlearn: 0.8253777\ttotal: 1h 47m 59s\tremaining: 1h 24m 10s\n",
      "562:\tlearn: 0.8252547\ttotal: 1h 48m 11s\tremaining: 1h 23m 58s\n",
      "563:\tlearn: 0.8248463\ttotal: 1h 48m 22s\tremaining: 1h 23m 47s\n",
      "564:\tlearn: 0.8245727\ttotal: 1h 48m 33s\tremaining: 1h 23m 35s\n",
      "565:\tlearn: 0.8242663\ttotal: 1h 48m 45s\tremaining: 1h 23m 23s\n",
      "566:\tlearn: 0.8239589\ttotal: 1h 48m 56s\tremaining: 1h 23m 12s\n",
      "567:\tlearn: 0.8239040\ttotal: 1h 49m 8s\tremaining: 1h 23m\n",
      "568:\tlearn: 0.8237291\ttotal: 1h 49m 19s\tremaining: 1h 22m 48s\n",
      "569:\tlearn: 0.8232560\ttotal: 1h 49m 30s\tremaining: 1h 22m 36s\n",
      "570:\tlearn: 0.8229869\ttotal: 1h 49m 42s\tremaining: 1h 22m 25s\n",
      "571:\tlearn: 0.8228294\ttotal: 1h 49m 53s\tremaining: 1h 22m 13s\n",
      "572:\tlearn: 0.8227279\ttotal: 1h 50m 4s\tremaining: 1h 22m 2s\n",
      "573:\tlearn: 0.8220388\ttotal: 1h 50m 16s\tremaining: 1h 21m 50s\n",
      "574:\tlearn: 0.8216101\ttotal: 1h 50m 27s\tremaining: 1h 21m 38s\n",
      "575:\tlearn: 0.8213118\ttotal: 1h 50m 39s\tremaining: 1h 21m 27s\n",
      "576:\tlearn: 0.8212629\ttotal: 1h 50m 51s\tremaining: 1h 21m 15s\n",
      "577:\tlearn: 0.8211073\ttotal: 1h 51m 2s\tremaining: 1h 21m 4s\n",
      "578:\tlearn: 0.8209400\ttotal: 1h 51m 14s\tremaining: 1h 20m 53s\n",
      "579:\tlearn: 0.8207649\ttotal: 1h 51m 25s\tremaining: 1h 20m 41s\n",
      "580:\tlearn: 0.8204341\ttotal: 1h 51m 37s\tremaining: 1h 20m 29s\n",
      "581:\tlearn: 0.8203791\ttotal: 1h 51m 49s\tremaining: 1h 20m 18s\n",
      "582:\tlearn: 0.8195769\ttotal: 1h 52m 2s\tremaining: 1h 20m 8s\n",
      "583:\tlearn: 0.8194967\ttotal: 1h 52m 18s\tremaining: 1h 19m 59s\n",
      "584:\tlearn: 0.8181416\ttotal: 1h 52m 37s\tremaining: 1h 19m 53s\n",
      "585:\tlearn: 0.8179961\ttotal: 1h 52m 53s\tremaining: 1h 19m 45s\n",
      "586:\tlearn: 0.8175878\ttotal: 1h 53m 4s\tremaining: 1h 19m 33s\n",
      "587:\tlearn: 0.8174245\ttotal: 1h 53m 15s\tremaining: 1h 19m 21s\n",
      "588:\tlearn: 0.8171862\ttotal: 1h 53m 28s\tremaining: 1h 19m 10s\n",
      "589:\tlearn: 0.8168136\ttotal: 1h 53m 39s\tremaining: 1h 18m 59s\n",
      "590:\tlearn: 0.8166408\ttotal: 1h 53m 51s\tremaining: 1h 18m 47s\n",
      "591:\tlearn: 0.8163844\ttotal: 1h 54m 3s\tremaining: 1h 18m 36s\n",
      "592:\tlearn: 0.8160989\ttotal: 1h 54m 14s\tremaining: 1h 18m 24s\n",
      "593:\tlearn: 0.8157161\ttotal: 1h 54m 26s\tremaining: 1h 18m 13s\n",
      "594:\tlearn: 0.8156021\ttotal: 1h 54m 38s\tremaining: 1h 18m 1s\n",
      "595:\tlearn: 0.8154446\ttotal: 1h 54m 49s\tremaining: 1h 17m 50s\n",
      "596:\tlearn: 0.8153935\ttotal: 1h 55m\tremaining: 1h 17m 38s\n",
      "597:\tlearn: 0.8152528\ttotal: 1h 55m 12s\tremaining: 1h 17m 27s\n",
      "598:\tlearn: 0.8151206\ttotal: 1h 55m 24s\tremaining: 1h 17m 15s\n",
      "599:\tlearn: 0.8150446\ttotal: 1h 55m 35s\tremaining: 1h 17m 3s\n",
      "600:\tlearn: 0.8147330\ttotal: 1h 55m 47s\tremaining: 1h 16m 52s\n",
      "601:\tlearn: 0.8142070\ttotal: 1h 55m 58s\tremaining: 1h 16m 40s\n",
      "602:\tlearn: 0.8141714\ttotal: 1h 56m 10s\tremaining: 1h 16m 29s\n",
      "603:\tlearn: 0.8136539\ttotal: 1h 56m 21s\tremaining: 1h 16m 17s\n",
      "604:\tlearn: 0.8135976\ttotal: 1h 56m 33s\tremaining: 1h 16m 5s\n",
      "605:\tlearn: 0.8135278\ttotal: 1h 56m 44s\tremaining: 1h 15m 54s\n",
      "606:\tlearn: 0.8133373\ttotal: 1h 56m 56s\tremaining: 1h 15m 43s\n",
      "607:\tlearn: 0.8130848\ttotal: 1h 57m 8s\tremaining: 1h 15m 31s\n",
      "608:\tlearn: 0.8127399\ttotal: 1h 57m 21s\tremaining: 1h 15m 20s\n",
      "609:\tlearn: 0.8121278\ttotal: 1h 57m 33s\tremaining: 1h 15m 9s\n",
      "610:\tlearn: 0.8120158\ttotal: 1h 57m 45s\tremaining: 1h 14m 58s\n",
      "611:\tlearn: 0.8118966\ttotal: 1h 57m 57s\tremaining: 1h 14m 46s\n",
      "612:\tlearn: 0.8112085\ttotal: 1h 58m 8s\tremaining: 1h 14m 35s\n",
      "613:\tlearn: 0.8110311\ttotal: 1h 58m 20s\tremaining: 1h 14m 23s\n",
      "614:\tlearn: 0.8104985\ttotal: 1h 58m 31s\tremaining: 1h 14m 12s\n",
      "615:\tlearn: 0.8104123\ttotal: 1h 58m 43s\tremaining: 1h 14m\n",
      "616:\tlearn: 0.8103252\ttotal: 1h 58m 55s\tremaining: 1h 13m 49s\n",
      "617:\tlearn: 0.8101946\ttotal: 1h 59m 7s\tremaining: 1h 13m 38s\n",
      "618:\tlearn: 0.8099208\ttotal: 1h 59m 18s\tremaining: 1h 13m 26s\n",
      "619:\tlearn: 0.8097721\ttotal: 1h 59m 30s\tremaining: 1h 13m 14s\n",
      "620:\tlearn: 0.8096852\ttotal: 1h 59m 42s\tremaining: 1h 13m 3s\n",
      "621:\tlearn: 0.8093748\ttotal: 1h 59m 53s\tremaining: 1h 12m 51s\n",
      "622:\tlearn: 0.8092711\ttotal: 2h 5s\tremaining: 1h 12m 40s\n",
      "623:\tlearn: 0.8091895\ttotal: 2h 16s\tremaining: 1h 12m 28s\n",
      "624:\tlearn: 0.8089546\ttotal: 2h 27s\tremaining: 1h 12m 16s\n",
      "625:\tlearn: 0.8086980\ttotal: 2h 39s\tremaining: 1h 12m 4s\n",
      "626:\tlearn: 0.8085638\ttotal: 2h 51s\tremaining: 1h 11m 53s\n",
      "627:\tlearn: 0.8083810\ttotal: 2h 1m 2s\tremaining: 1h 11m 42s\n",
      "628:\tlearn: 0.8082502\ttotal: 2h 1m 13s\tremaining: 1h 11m 30s\n",
      "629:\tlearn: 0.8078893\ttotal: 2h 1m 25s\tremaining: 1h 11m 18s\n",
      "630:\tlearn: 0.8077714\ttotal: 2h 1m 37s\tremaining: 1h 11m 7s\n",
      "631:\tlearn: 0.8076428\ttotal: 2h 1m 48s\tremaining: 1h 10m 55s\n",
      "632:\tlearn: 0.8074190\ttotal: 2h 2m\tremaining: 1h 10m 44s\n",
      "633:\tlearn: 0.8062231\ttotal: 2h 2m 12s\tremaining: 1h 10m 33s\n",
      "634:\tlearn: 0.8058964\ttotal: 2h 2m 24s\tremaining: 1h 10m 21s\n",
      "635:\tlearn: 0.8056004\ttotal: 2h 2m 36s\tremaining: 1h 10m 10s\n",
      "636:\tlearn: 0.8054832\ttotal: 2h 2m 47s\tremaining: 1h 9m 58s\n",
      "637:\tlearn: 0.8054214\ttotal: 2h 2m 59s\tremaining: 1h 9m 46s\n",
      "638:\tlearn: 0.8051123\ttotal: 2h 3m 11s\tremaining: 1h 9m 35s\n",
      "639:\tlearn: 0.8050720\ttotal: 2h 3m 22s\tremaining: 1h 9m 23s\n",
      "640:\tlearn: 0.8045896\ttotal: 2h 3m 33s\tremaining: 1h 9m 12s\n",
      "641:\tlearn: 0.8044743\ttotal: 2h 3m 46s\tremaining: 1h 9m 1s\n",
      "642:\tlearn: 0.8044038\ttotal: 2h 3m 57s\tremaining: 1h 8m 49s\n",
      "643:\tlearn: 0.8039106\ttotal: 2h 4m 8s\tremaining: 1h 8m 37s\n",
      "644:\tlearn: 0.8034747\ttotal: 2h 4m 21s\tremaining: 1h 8m 26s\n",
      "645:\tlearn: 0.8032915\ttotal: 2h 4m 32s\tremaining: 1h 8m 14s\n",
      "646:\tlearn: 0.8030899\ttotal: 2h 4m 43s\tremaining: 1h 8m 3s\n",
      "647:\tlearn: 0.8030244\ttotal: 2h 4m 55s\tremaining: 1h 7m 51s\n",
      "648:\tlearn: 0.8029802\ttotal: 2h 5m 6s\tremaining: 1h 7m 39s\n",
      "649:\tlearn: 0.8028979\ttotal: 2h 5m 18s\tremaining: 1h 7m 28s\n",
      "650:\tlearn: 0.8028377\ttotal: 2h 5m 30s\tremaining: 1h 7m 16s\n",
      "651:\tlearn: 0.8028026\ttotal: 2h 5m 41s\tremaining: 1h 7m 5s\n",
      "652:\tlearn: 0.8025937\ttotal: 2h 5m 52s\tremaining: 1h 6m 53s\n",
      "653:\tlearn: 0.8025178\ttotal: 2h 6m 4s\tremaining: 1h 6m 41s\n",
      "654:\tlearn: 0.8024600\ttotal: 2h 6m 15s\tremaining: 1h 6m 30s\n",
      "655:\tlearn: 0.8023186\ttotal: 2h 6m 26s\tremaining: 1h 6m 18s\n",
      "656:\tlearn: 0.8021677\ttotal: 2h 6m 38s\tremaining: 1h 6m 6s\n",
      "657:\tlearn: 0.8018644\ttotal: 2h 6m 50s\tremaining: 1h 5m 55s\n",
      "658:\tlearn: 0.8016373\ttotal: 2h 7m 1s\tremaining: 1h 5m 43s\n",
      "659:\tlearn: 0.8014307\ttotal: 2h 7m 14s\tremaining: 1h 5m 32s\n",
      "660:\tlearn: 0.8013807\ttotal: 2h 7m 25s\tremaining: 1h 5m 21s\n",
      "661:\tlearn: 0.8012024\ttotal: 2h 7m 37s\tremaining: 1h 5m 9s\n",
      "662:\tlearn: 0.8011402\ttotal: 2h 7m 49s\tremaining: 1h 4m 58s\n",
      "663:\tlearn: 0.8007271\ttotal: 2h 8m\tremaining: 1h 4m 46s\n",
      "664:\tlearn: 0.8001321\ttotal: 2h 8m 11s\tremaining: 1h 4m 34s\n",
      "665:\tlearn: 0.8000872\ttotal: 2h 8m 24s\tremaining: 1h 4m 23s\n",
      "666:\tlearn: 0.7998430\ttotal: 2h 8m 35s\tremaining: 1h 4m 11s\n",
      "667:\tlearn: 0.7996870\ttotal: 2h 8m 47s\tremaining: 1h 4m\n",
      "668:\tlearn: 0.7996413\ttotal: 2h 8m 59s\tremaining: 1h 3m 49s\n",
      "669:\tlearn: 0.7994206\ttotal: 2h 9m 10s\tremaining: 1h 3m 37s\n",
      "670:\tlearn: 0.7987582\ttotal: 2h 9m 23s\tremaining: 1h 3m 26s\n",
      "671:\tlearn: 0.7986411\ttotal: 2h 9m 34s\tremaining: 1h 3m 14s\n",
      "672:\tlearn: 0.7985320\ttotal: 2h 9m 46s\tremaining: 1h 3m 3s\n",
      "673:\tlearn: 0.7978505\ttotal: 2h 9m 57s\tremaining: 1h 2m 51s\n",
      "674:\tlearn: 0.7976590\ttotal: 2h 10m 9s\tremaining: 1h 2m 39s\n",
      "675:\tlearn: 0.7972630\ttotal: 2h 10m 21s\tremaining: 1h 2m 28s\n",
      "676:\tlearn: 0.7971930\ttotal: 2h 10m 32s\tremaining: 1h 2m 16s\n",
      "677:\tlearn: 0.7969631\ttotal: 2h 10m 44s\tremaining: 1h 2m 5s\n",
      "678:\tlearn: 0.7967235\ttotal: 2h 10m 56s\tremaining: 1h 1m 53s\n",
      "679:\tlearn: 0.7966918\ttotal: 2h 11m 7s\tremaining: 1h 1m 42s\n",
      "680:\tlearn: 0.7963336\ttotal: 2h 11m 19s\tremaining: 1h 1m 30s\n",
      "681:\tlearn: 0.7961131\ttotal: 2h 11m 30s\tremaining: 1h 1m 19s\n",
      "682:\tlearn: 0.7960437\ttotal: 2h 11m 42s\tremaining: 1h 1m 7s\n",
      "683:\tlearn: 0.7960022\ttotal: 2h 11m 54s\tremaining: 1h 56s\n",
      "684:\tlearn: 0.7958693\ttotal: 2h 12m 5s\tremaining: 1h 44s\n",
      "685:\tlearn: 0.7956716\ttotal: 2h 12m 17s\tremaining: 1h 33s\n",
      "686:\tlearn: 0.7956205\ttotal: 2h 12m 29s\tremaining: 1h 21s\n",
      "687:\tlearn: 0.7954004\ttotal: 2h 12m 40s\tremaining: 1h 10s\n",
      "688:\tlearn: 0.7952432\ttotal: 2h 12m 52s\tremaining: 59m 58s\n",
      "689:\tlearn: 0.7950861\ttotal: 2h 13m 4s\tremaining: 59m 47s\n",
      "690:\tlearn: 0.7948516\ttotal: 2h 13m 15s\tremaining: 59m 35s\n"
     ]
    },
    {
     "name": "stdout",
     "output_type": "stream",
     "text": [
      "691:\tlearn: 0.7947508\ttotal: 2h 13m 27s\tremaining: 59m 23s\n",
      "692:\tlearn: 0.7943775\ttotal: 2h 13m 39s\tremaining: 59m 12s\n",
      "693:\tlearn: 0.7942469\ttotal: 2h 13m 50s\tremaining: 59m 1s\n",
      "694:\tlearn: 0.7942006\ttotal: 2h 14m 2s\tremaining: 58m 49s\n",
      "695:\tlearn: 0.7939276\ttotal: 2h 14m 14s\tremaining: 58m 37s\n",
      "696:\tlearn: 0.7938661\ttotal: 2h 14m 25s\tremaining: 58m 26s\n",
      "697:\tlearn: 0.7936002\ttotal: 2h 14m 37s\tremaining: 58m 14s\n",
      "698:\tlearn: 0.7931636\ttotal: 2h 14m 49s\tremaining: 58m 3s\n",
      "699:\tlearn: 0.7931383\ttotal: 2h 15m\tremaining: 57m 51s\n",
      "700:\tlearn: 0.7926936\ttotal: 2h 15m 12s\tremaining: 57m 40s\n",
      "701:\tlearn: 0.7926033\ttotal: 2h 15m 24s\tremaining: 57m 28s\n",
      "702:\tlearn: 0.7925428\ttotal: 2h 15m 36s\tremaining: 57m 17s\n",
      "703:\tlearn: 0.7924648\ttotal: 2h 15m 47s\tremaining: 57m 5s\n",
      "704:\tlearn: 0.7922892\ttotal: 2h 15m 59s\tremaining: 56m 54s\n",
      "705:\tlearn: 0.7922548\ttotal: 2h 16m 10s\tremaining: 56m 42s\n",
      "706:\tlearn: 0.7919192\ttotal: 2h 16m 22s\tremaining: 56m 31s\n",
      "707:\tlearn: 0.7918785\ttotal: 2h 16m 33s\tremaining: 56m 19s\n",
      "708:\tlearn: 0.7916985\ttotal: 2h 16m 45s\tremaining: 56m 7s\n",
      "709:\tlearn: 0.7912752\ttotal: 2h 16m 56s\tremaining: 55m 56s\n",
      "710:\tlearn: 0.7912518\ttotal: 2h 17m 8s\tremaining: 55m 44s\n",
      "711:\tlearn: 0.7908275\ttotal: 2h 17m 20s\tremaining: 55m 33s\n",
      "712:\tlearn: 0.7906236\ttotal: 2h 17m 32s\tremaining: 55m 21s\n",
      "713:\tlearn: 0.7905634\ttotal: 2h 17m 43s\tremaining: 55m 10s\n",
      "714:\tlearn: 0.7901791\ttotal: 2h 17m 54s\tremaining: 54m 58s\n",
      "715:\tlearn: 0.7900077\ttotal: 2h 18m 6s\tremaining: 54m 46s\n",
      "716:\tlearn: 0.7897017\ttotal: 2h 18m 18s\tremaining: 54m 35s\n",
      "717:\tlearn: 0.7896217\ttotal: 2h 18m 29s\tremaining: 54m 23s\n",
      "718:\tlearn: 0.7894738\ttotal: 2h 18m 41s\tremaining: 54m 12s\n",
      "719:\tlearn: 0.7894087\ttotal: 2h 18m 52s\tremaining: 54m\n",
      "720:\tlearn: 0.7893557\ttotal: 2h 19m 4s\tremaining: 53m 48s\n",
      "721:\tlearn: 0.7892948\ttotal: 2h 19m 16s\tremaining: 53m 37s\n",
      "722:\tlearn: 0.7892544\ttotal: 2h 19m 27s\tremaining: 53m 25s\n",
      "723:\tlearn: 0.7887460\ttotal: 2h 19m 39s\tremaining: 53m 14s\n",
      "724:\tlearn: 0.7884122\ttotal: 2h 19m 50s\tremaining: 53m 2s\n",
      "725:\tlearn: 0.7882359\ttotal: 2h 20m 1s\tremaining: 52m 50s\n",
      "726:\tlearn: 0.7880830\ttotal: 2h 20m 13s\tremaining: 52m 39s\n",
      "727:\tlearn: 0.7879519\ttotal: 2h 20m 24s\tremaining: 52m 27s\n",
      "728:\tlearn: 0.7876287\ttotal: 2h 20m 36s\tremaining: 52m 16s\n",
      "729:\tlearn: 0.7874015\ttotal: 2h 20m 47s\tremaining: 52m 4s\n",
      "730:\tlearn: 0.7873730\ttotal: 2h 20m 58s\tremaining: 51m 52s\n",
      "731:\tlearn: 0.7873233\ttotal: 2h 21m 10s\tremaining: 51m 41s\n",
      "732:\tlearn: 0.7872797\ttotal: 2h 21m 22s\tremaining: 51m 29s\n",
      "733:\tlearn: 0.7871945\ttotal: 2h 21m 34s\tremaining: 51m 18s\n",
      "734:\tlearn: 0.7865506\ttotal: 2h 21m 45s\tremaining: 51m 6s\n",
      "735:\tlearn: 0.7863820\ttotal: 2h 21m 56s\tremaining: 50m 54s\n",
      "736:\tlearn: 0.7861586\ttotal: 2h 22m 7s\tremaining: 50m 43s\n",
      "737:\tlearn: 0.7858694\ttotal: 2h 22m 19s\tremaining: 50m 31s\n",
      "738:\tlearn: 0.7858329\ttotal: 2h 22m 31s\tremaining: 50m 20s\n",
      "739:\tlearn: 0.7857309\ttotal: 2h 22m 42s\tremaining: 50m 8s\n",
      "740:\tlearn: 0.7854727\ttotal: 2h 22m 54s\tremaining: 49m 57s\n",
      "741:\tlearn: 0.7854431\ttotal: 2h 23m 5s\tremaining: 49m 45s\n",
      "742:\tlearn: 0.7853883\ttotal: 2h 23m 17s\tremaining: 49m 33s\n",
      "743:\tlearn: 0.7853051\ttotal: 2h 23m 29s\tremaining: 49m 22s\n",
      "744:\tlearn: 0.7852587\ttotal: 2h 23m 41s\tremaining: 49m 10s\n",
      "745:\tlearn: 0.7851590\ttotal: 2h 23m 53s\tremaining: 48m 59s\n",
      "746:\tlearn: 0.7851068\ttotal: 2h 24m 4s\tremaining: 48m 47s\n",
      "747:\tlearn: 0.7848742\ttotal: 2h 24m 16s\tremaining: 48m 36s\n",
      "748:\tlearn: 0.7847405\ttotal: 2h 24m 28s\tremaining: 48m 24s\n",
      "749:\tlearn: 0.7846811\ttotal: 2h 24m 39s\tremaining: 48m 13s\n",
      "750:\tlearn: 0.7846203\ttotal: 2h 24m 50s\tremaining: 48m 1s\n",
      "751:\tlearn: 0.7845487\ttotal: 2h 25m 2s\tremaining: 47m 50s\n",
      "752:\tlearn: 0.7844726\ttotal: 2h 25m 13s\tremaining: 47m 38s\n",
      "753:\tlearn: 0.7841433\ttotal: 2h 25m 25s\tremaining: 47m 26s\n",
      "754:\tlearn: 0.7841221\ttotal: 2h 25m 37s\tremaining: 47m 15s\n",
      "755:\tlearn: 0.7840696\ttotal: 2h 25m 48s\tremaining: 47m 3s\n",
      "756:\tlearn: 0.7838592\ttotal: 2h 25m 59s\tremaining: 46m 51s\n",
      "757:\tlearn: 0.7833584\ttotal: 2h 26m 11s\tremaining: 46m 40s\n",
      "758:\tlearn: 0.7833358\ttotal: 2h 26m 23s\tremaining: 46m 28s\n",
      "759:\tlearn: 0.7828276\ttotal: 2h 26m 35s\tremaining: 46m 17s\n",
      "760:\tlearn: 0.7826469\ttotal: 2h 26m 46s\tremaining: 46m 5s\n",
      "761:\tlearn: 0.7821568\ttotal: 2h 26m 57s\tremaining: 45m 54s\n",
      "762:\tlearn: 0.7820313\ttotal: 2h 27m 9s\tremaining: 45m 42s\n",
      "763:\tlearn: 0.7817529\ttotal: 2h 27m 21s\tremaining: 45m 31s\n",
      "764:\tlearn: 0.7815399\ttotal: 2h 27m 32s\tremaining: 45m 19s\n",
      "765:\tlearn: 0.7813992\ttotal: 2h 27m 44s\tremaining: 45m 8s\n",
      "766:\tlearn: 0.7813837\ttotal: 2h 27m 56s\tremaining: 44m 56s\n",
      "767:\tlearn: 0.7810741\ttotal: 2h 28m 7s\tremaining: 44m 44s\n",
      "768:\tlearn: 0.7808073\ttotal: 2h 28m 19s\tremaining: 44m 33s\n",
      "769:\tlearn: 0.7805963\ttotal: 2h 28m 30s\tremaining: 44m 21s\n",
      "770:\tlearn: 0.7804254\ttotal: 2h 28m 42s\tremaining: 44m 10s\n",
      "771:\tlearn: 0.7804033\ttotal: 2h 28m 54s\tremaining: 43m 58s\n",
      "772:\tlearn: 0.7803061\ttotal: 2h 29m 5s\tremaining: 43m 46s\n",
      "773:\tlearn: 0.7799620\ttotal: 2h 29m 17s\tremaining: 43m 35s\n",
      "774:\tlearn: 0.7799392\ttotal: 2h 29m 29s\tremaining: 43m 23s\n",
      "775:\tlearn: 0.7796565\ttotal: 2h 29m 40s\tremaining: 43m 12s\n",
      "776:\tlearn: 0.7796338\ttotal: 2h 29m 52s\tremaining: 43m\n",
      "777:\tlearn: 0.7788642\ttotal: 2h 30m 3s\tremaining: 42m 49s\n",
      "778:\tlearn: 0.7783943\ttotal: 2h 30m 14s\tremaining: 42m 37s\n",
      "779:\tlearn: 0.7781953\ttotal: 2h 30m 26s\tremaining: 42m 26s\n",
      "780:\tlearn: 0.7781583\ttotal: 2h 30m 38s\tremaining: 42m 14s\n",
      "781:\tlearn: 0.7780020\ttotal: 2h 30m 49s\tremaining: 42m 2s\n",
      "782:\tlearn: 0.7778069\ttotal: 2h 31m 1s\tremaining: 41m 51s\n",
      "783:\tlearn: 0.7773483\ttotal: 2h 31m 12s\tremaining: 41m 39s\n",
      "784:\tlearn: 0.7772822\ttotal: 2h 31m 23s\tremaining: 41m 27s\n",
      "785:\tlearn: 0.7770089\ttotal: 2h 31m 35s\tremaining: 41m 16s\n",
      "786:\tlearn: 0.7763385\ttotal: 2h 31m 46s\tremaining: 41m 4s\n",
      "787:\tlearn: 0.7762893\ttotal: 2h 31m 57s\tremaining: 40m 53s\n",
      "788:\tlearn: 0.7762455\ttotal: 2h 32m 10s\tremaining: 40m 41s\n",
      "789:\tlearn: 0.7759232\ttotal: 2h 32m 21s\tremaining: 40m 29s\n",
      "790:\tlearn: 0.7758686\ttotal: 2h 32m 32s\tremaining: 40m 18s\n",
      "791:\tlearn: 0.7758079\ttotal: 2h 32m 44s\tremaining: 40m 6s\n",
      "792:\tlearn: 0.7756659\ttotal: 2h 32m 55s\tremaining: 39m 55s\n",
      "793:\tlearn: 0.7755198\ttotal: 2h 33m 7s\tremaining: 39m 43s\n",
      "794:\tlearn: 0.7750252\ttotal: 2h 33m 18s\tremaining: 39m 32s\n",
      "795:\tlearn: 0.7748977\ttotal: 2h 33m 30s\tremaining: 39m 20s\n",
      "796:\tlearn: 0.7746064\ttotal: 2h 33m 42s\tremaining: 39m 8s\n",
      "797:\tlearn: 0.7744480\ttotal: 2h 33m 53s\tremaining: 38m 57s\n",
      "798:\tlearn: 0.7742511\ttotal: 2h 34m 5s\tremaining: 38m 45s\n",
      "799:\tlearn: 0.7742134\ttotal: 2h 34m 17s\tremaining: 38m 34s\n",
      "800:\tlearn: 0.7741489\ttotal: 2h 34m 28s\tremaining: 38m 22s\n",
      "801:\tlearn: 0.7740770\ttotal: 2h 34m 40s\tremaining: 38m 11s\n",
      "802:\tlearn: 0.7738595\ttotal: 2h 34m 52s\tremaining: 37m 59s\n",
      "803:\tlearn: 0.7738206\ttotal: 2h 35m 3s\tremaining: 37m 48s\n",
      "804:\tlearn: 0.7736337\ttotal: 2h 35m 14s\tremaining: 37m 36s\n",
      "805:\tlearn: 0.7732600\ttotal: 2h 35m 25s\tremaining: 37m 24s\n",
      "806:\tlearn: 0.7731140\ttotal: 2h 35m 37s\tremaining: 37m 13s\n",
      "807:\tlearn: 0.7729765\ttotal: 2h 35m 49s\tremaining: 37m 1s\n",
      "808:\tlearn: 0.7729425\ttotal: 2h 36m 1s\tremaining: 36m 50s\n",
      "809:\tlearn: 0.7727460\ttotal: 2h 36m 12s\tremaining: 36m 38s\n",
      "810:\tlearn: 0.7726962\ttotal: 2h 36m 23s\tremaining: 36m 26s\n",
      "811:\tlearn: 0.7725599\ttotal: 2h 36m 35s\tremaining: 36m 15s\n",
      "812:\tlearn: 0.7724641\ttotal: 2h 36m 46s\tremaining: 36m 3s\n",
      "813:\tlearn: 0.7724245\ttotal: 2h 36m 57s\tremaining: 35m 52s\n",
      "814:\tlearn: 0.7721496\ttotal: 2h 37m 9s\tremaining: 35m 40s\n",
      "815:\tlearn: 0.7720988\ttotal: 2h 37m 21s\tremaining: 35m 28s\n",
      "816:\tlearn: 0.7719841\ttotal: 2h 37m 33s\tremaining: 35m 17s\n",
      "817:\tlearn: 0.7719296\ttotal: 2h 37m 44s\tremaining: 35m 5s\n",
      "818:\tlearn: 0.7718131\ttotal: 2h 37m 55s\tremaining: 34m 54s\n",
      "819:\tlearn: 0.7717503\ttotal: 2h 38m 7s\tremaining: 34m 42s\n",
      "820:\tlearn: 0.7714703\ttotal: 2h 38m 19s\tremaining: 34m 31s\n",
      "821:\tlearn: 0.7714187\ttotal: 2h 38m 30s\tremaining: 34m 19s\n",
      "822:\tlearn: 0.7713787\ttotal: 2h 38m 42s\tremaining: 34m 7s\n",
      "823:\tlearn: 0.7708940\ttotal: 2h 38m 54s\tremaining: 33m 56s\n",
      "824:\tlearn: 0.7706313\ttotal: 2h 39m 5s\tremaining: 33m 44s\n",
      "825:\tlearn: 0.7702782\ttotal: 2h 39m 17s\tremaining: 33m 33s\n",
      "826:\tlearn: 0.7701578\ttotal: 2h 39m 28s\tremaining: 33m 21s\n",
      "827:\tlearn: 0.7701400\ttotal: 2h 39m 39s\tremaining: 33m 10s\n",
      "828:\tlearn: 0.7700890\ttotal: 2h 39m 51s\tremaining: 32m 58s\n",
      "829:\tlearn: 0.7700006\ttotal: 2h 40m 2s\tremaining: 32m 46s\n",
      "830:\tlearn: 0.7699386\ttotal: 2h 40m 14s\tremaining: 32m 35s\n"
     ]
    },
    {
     "name": "stdout",
     "output_type": "stream",
     "text": [
      "831:\tlearn: 0.7699066\ttotal: 2h 40m 25s\tremaining: 32m 23s\n",
      "832:\tlearn: 0.7698020\ttotal: 2h 40m 38s\tremaining: 32m 12s\n",
      "833:\tlearn: 0.7697404\ttotal: 2h 40m 49s\tremaining: 32m\n",
      "834:\tlearn: 0.7693474\ttotal: 2h 41m 1s\tremaining: 31m 49s\n",
      "835:\tlearn: 0.7693284\ttotal: 2h 41m 12s\tremaining: 31m 37s\n",
      "836:\tlearn: 0.7691360\ttotal: 2h 41m 24s\tremaining: 31m 25s\n",
      "837:\tlearn: 0.7691290\ttotal: 2h 41m 35s\tremaining: 31m 14s\n",
      "838:\tlearn: 0.7690769\ttotal: 2h 41m 47s\tremaining: 31m 2s\n",
      "839:\tlearn: 0.7690365\ttotal: 2h 41m 59s\tremaining: 30m 51s\n",
      "840:\tlearn: 0.7688783\ttotal: 2h 42m 10s\tremaining: 30m 39s\n",
      "841:\tlearn: 0.7688622\ttotal: 2h 42m 21s\tremaining: 30m 28s\n",
      "842:\tlearn: 0.7687357\ttotal: 2h 42m 33s\tremaining: 30m 16s\n",
      "843:\tlearn: 0.7686289\ttotal: 2h 42m 45s\tremaining: 30m 4s\n",
      "844:\tlearn: 0.7685866\ttotal: 2h 42m 57s\tremaining: 29m 53s\n",
      "845:\tlearn: 0.7685599\ttotal: 2h 43m 8s\tremaining: 29m 41s\n",
      "846:\tlearn: 0.7682881\ttotal: 2h 43m 19s\tremaining: 29m 30s\n",
      "847:\tlearn: 0.7682583\ttotal: 2h 43m 32s\tremaining: 29m 18s\n",
      "848:\tlearn: 0.7682287\ttotal: 2h 43m 43s\tremaining: 29m 7s\n",
      "849:\tlearn: 0.7680187\ttotal: 2h 43m 55s\tremaining: 28m 55s\n",
      "850:\tlearn: 0.7679178\ttotal: 2h 44m 7s\tremaining: 28m 44s\n",
      "851:\tlearn: 0.7678985\ttotal: 2h 44m 19s\tremaining: 28m 32s\n",
      "852:\tlearn: 0.7677643\ttotal: 2h 44m 31s\tremaining: 28m 21s\n",
      "853:\tlearn: 0.7676759\ttotal: 2h 44m 43s\tremaining: 28m 9s\n",
      "854:\tlearn: 0.7675505\ttotal: 2h 44m 54s\tremaining: 27m 57s\n",
      "855:\tlearn: 0.7675142\ttotal: 2h 45m 6s\tremaining: 27m 46s\n",
      "856:\tlearn: 0.7674149\ttotal: 2h 45m 17s\tremaining: 27m 34s\n",
      "857:\tlearn: 0.7673848\ttotal: 2h 45m 29s\tremaining: 27m 23s\n",
      "858:\tlearn: 0.7673444\ttotal: 2h 45m 41s\tremaining: 27m 11s\n",
      "859:\tlearn: 0.7673163\ttotal: 2h 45m 52s\tremaining: 27m\n",
      "860:\tlearn: 0.7672600\ttotal: 2h 46m 3s\tremaining: 26m 48s\n",
      "861:\tlearn: 0.7672400\ttotal: 2h 46m 15s\tremaining: 26m 37s\n",
      "862:\tlearn: 0.7670791\ttotal: 2h 46m 26s\tremaining: 26m 25s\n",
      "863:\tlearn: 0.7669812\ttotal: 2h 46m 38s\tremaining: 26m 13s\n",
      "864:\tlearn: 0.7668109\ttotal: 2h 46m 50s\tremaining: 26m 2s\n",
      "865:\tlearn: 0.7667556\ttotal: 2h 47m 1s\tremaining: 25m 50s\n",
      "866:\tlearn: 0.7667408\ttotal: 2h 47m 12s\tremaining: 25m 39s\n",
      "867:\tlearn: 0.7664510\ttotal: 2h 47m 24s\tremaining: 25m 27s\n",
      "868:\tlearn: 0.7662929\ttotal: 2h 47m 36s\tremaining: 25m 15s\n",
      "869:\tlearn: 0.7662541\ttotal: 2h 47m 47s\tremaining: 25m 4s\n",
      "870:\tlearn: 0.7661113\ttotal: 2h 47m 59s\tremaining: 24m 52s\n",
      "871:\tlearn: 0.7660680\ttotal: 2h 48m 11s\tremaining: 24m 41s\n",
      "872:\tlearn: 0.7660092\ttotal: 2h 48m 26s\tremaining: 24m 30s\n",
      "873:\tlearn: 0.7659056\ttotal: 2h 48m 37s\tremaining: 24m 18s\n",
      "874:\tlearn: 0.7658339\ttotal: 2h 48m 48s\tremaining: 24m 6s\n",
      "875:\tlearn: 0.7655156\ttotal: 2h 49m\tremaining: 23m 55s\n",
      "876:\tlearn: 0.7654095\ttotal: 2h 49m 12s\tremaining: 23m 43s\n",
      "877:\tlearn: 0.7653331\ttotal: 2h 49m 23s\tremaining: 23m 32s\n",
      "878:\tlearn: 0.7652187\ttotal: 2h 49m 35s\tremaining: 23m 20s\n",
      "879:\tlearn: 0.7651976\ttotal: 2h 49m 46s\tremaining: 23m 9s\n",
      "880:\tlearn: 0.7648398\ttotal: 2h 49m 57s\tremaining: 22m 57s\n",
      "881:\tlearn: 0.7645515\ttotal: 2h 50m 10s\tremaining: 22m 45s\n",
      "882:\tlearn: 0.7642386\ttotal: 2h 50m 21s\tremaining: 22m 34s\n",
      "883:\tlearn: 0.7637156\ttotal: 2h 50m 32s\tremaining: 22m 22s\n",
      "884:\tlearn: 0.7635994\ttotal: 2h 50m 44s\tremaining: 22m 11s\n",
      "885:\tlearn: 0.7633074\ttotal: 2h 50m 55s\tremaining: 21m 59s\n",
      "886:\tlearn: 0.7632765\ttotal: 2h 51m 7s\tremaining: 21m 47s\n",
      "887:\tlearn: 0.7632545\ttotal: 2h 51m 18s\tremaining: 21m 36s\n",
      "888:\tlearn: 0.7628408\ttotal: 2h 51m 30s\tremaining: 21m 24s\n",
      "889:\tlearn: 0.7627373\ttotal: 2h 51m 41s\tremaining: 21m 13s\n",
      "890:\tlearn: 0.7626508\ttotal: 2h 51m 53s\tremaining: 21m 1s\n",
      "891:\tlearn: 0.7625473\ttotal: 2h 52m 4s\tremaining: 20m 50s\n",
      "892:\tlearn: 0.7625097\ttotal: 2h 52m 15s\tremaining: 20m 38s\n",
      "893:\tlearn: 0.7622525\ttotal: 2h 52m 27s\tremaining: 20m 26s\n",
      "894:\tlearn: 0.7622338\ttotal: 2h 52m 40s\tremaining: 20m 15s\n",
      "895:\tlearn: 0.7621136\ttotal: 2h 52m 51s\tremaining: 20m 3s\n",
      "896:\tlearn: 0.7620985\ttotal: 2h 53m 3s\tremaining: 19m 52s\n",
      "897:\tlearn: 0.7620336\ttotal: 2h 53m 14s\tremaining: 19m 40s\n",
      "898:\tlearn: 0.7619633\ttotal: 2h 53m 25s\tremaining: 19m 29s\n",
      "899:\tlearn: 0.7618943\ttotal: 2h 53m 37s\tremaining: 19m 17s\n",
      "900:\tlearn: 0.7618716\ttotal: 2h 53m 49s\tremaining: 19m 5s\n",
      "901:\tlearn: 0.7617245\ttotal: 2h 54m\tremaining: 18m 54s\n",
      "902:\tlearn: 0.7614534\ttotal: 2h 54m 13s\tremaining: 18m 42s\n",
      "903:\tlearn: 0.7614220\ttotal: 2h 54m 25s\tremaining: 18m 31s\n",
      "904:\tlearn: 0.7614014\ttotal: 2h 54m 36s\tremaining: 18m 19s\n",
      "905:\tlearn: 0.7613481\ttotal: 2h 54m 49s\tremaining: 18m 8s\n",
      "906:\tlearn: 0.7609713\ttotal: 2h 55m 1s\tremaining: 17m 56s\n",
      "907:\tlearn: 0.7607212\ttotal: 2h 55m 12s\tremaining: 17m 45s\n",
      "908:\tlearn: 0.7606874\ttotal: 2h 55m 24s\tremaining: 17m 33s\n",
      "909:\tlearn: 0.7606542\ttotal: 2h 55m 36s\tremaining: 17m 22s\n",
      "910:\tlearn: 0.7605743\ttotal: 2h 55m 49s\tremaining: 17m 10s\n",
      "911:\tlearn: 0.7604973\ttotal: 2h 56m\tremaining: 16m 59s\n",
      "912:\tlearn: 0.7601473\ttotal: 2h 56m 11s\tremaining: 16m 47s\n",
      "913:\tlearn: 0.7600689\ttotal: 2h 56m 23s\tremaining: 16m 35s\n",
      "914:\tlearn: 0.7600397\ttotal: 2h 56m 35s\tremaining: 16m 24s\n",
      "915:\tlearn: 0.7600040\ttotal: 2h 56m 46s\tremaining: 16m 12s\n",
      "916:\tlearn: 0.7599720\ttotal: 2h 56m 58s\tremaining: 16m 1s\n",
      "917:\tlearn: 0.7598150\ttotal: 2h 57m 9s\tremaining: 15m 49s\n",
      "918:\tlearn: 0.7597286\ttotal: 2h 57m 20s\tremaining: 15m 37s\n",
      "919:\tlearn: 0.7595562\ttotal: 2h 57m 33s\tremaining: 15m 26s\n",
      "920:\tlearn: 0.7591816\ttotal: 2h 57m 44s\tremaining: 15m 14s\n",
      "921:\tlearn: 0.7589732\ttotal: 2h 57m 55s\tremaining: 15m 3s\n",
      "922:\tlearn: 0.7587466\ttotal: 2h 58m 7s\tremaining: 14m 51s\n",
      "923:\tlearn: 0.7585123\ttotal: 2h 58m 19s\tremaining: 14m 40s\n",
      "924:\tlearn: 0.7584552\ttotal: 2h 58m 31s\tremaining: 14m 28s\n",
      "925:\tlearn: 0.7582145\ttotal: 2h 58m 42s\tremaining: 14m 16s\n",
      "926:\tlearn: 0.7581538\ttotal: 2h 58m 53s\tremaining: 14m 5s\n",
      "927:\tlearn: 0.7579124\ttotal: 2h 59m 5s\tremaining: 13m 53s\n",
      "928:\tlearn: 0.7575576\ttotal: 2h 59m 17s\tremaining: 13m 42s\n",
      "929:\tlearn: 0.7575406\ttotal: 2h 59m 28s\tremaining: 13m 30s\n",
      "930:\tlearn: 0.7574394\ttotal: 2h 59m 40s\tremaining: 13m 18s\n",
      "931:\tlearn: 0.7572886\ttotal: 2h 59m 52s\tremaining: 13m 7s\n",
      "932:\tlearn: 0.7568911\ttotal: 3h 3s\tremaining: 12m 55s\n",
      "933:\tlearn: 0.7568012\ttotal: 3h 15s\tremaining: 12m 44s\n",
      "934:\tlearn: 0.7566987\ttotal: 3h 26s\tremaining: 12m 32s\n",
      "935:\tlearn: 0.7565902\ttotal: 3h 38s\tremaining: 12m 21s\n",
      "936:\tlearn: 0.7563238\ttotal: 3h 50s\tremaining: 12m 9s\n",
      "937:\tlearn: 0.7559467\ttotal: 3h 1m 1s\tremaining: 11m 57s\n",
      "938:\tlearn: 0.7559011\ttotal: 3h 1m 13s\tremaining: 11m 46s\n",
      "939:\tlearn: 0.7557260\ttotal: 3h 1m 24s\tremaining: 11m 34s\n",
      "940:\tlearn: 0.7557157\ttotal: 3h 1m 35s\tremaining: 11m 23s\n",
      "941:\tlearn: 0.7556981\ttotal: 3h 1m 47s\tremaining: 11m 11s\n",
      "942:\tlearn: 0.7556229\ttotal: 3h 1m 59s\tremaining: 11m\n",
      "943:\tlearn: 0.7555405\ttotal: 3h 2m 10s\tremaining: 10m 48s\n",
      "944:\tlearn: 0.7555168\ttotal: 3h 2m 22s\tremaining: 10m 36s\n",
      "945:\tlearn: 0.7553625\ttotal: 3h 2m 33s\tremaining: 10m 25s\n",
      "946:\tlearn: 0.7551047\ttotal: 3h 2m 44s\tremaining: 10m 13s\n",
      "947:\tlearn: 0.7548567\ttotal: 3h 2m 56s\tremaining: 10m 2s\n",
      "948:\tlearn: 0.7548242\ttotal: 3h 3m 8s\tremaining: 9m 50s\n",
      "949:\tlearn: 0.7547866\ttotal: 3h 3m 19s\tremaining: 9m 38s\n",
      "950:\tlearn: 0.7547354\ttotal: 3h 3m 31s\tremaining: 9m 27s\n",
      "951:\tlearn: 0.7546447\ttotal: 3h 3m 43s\tremaining: 9m 15s\n",
      "952:\tlearn: 0.7544296\ttotal: 3h 3m 54s\tremaining: 9m 4s\n",
      "953:\tlearn: 0.7542540\ttotal: 3h 4m 6s\tremaining: 8m 52s\n",
      "954:\tlearn: 0.7542407\ttotal: 3h 4m 17s\tremaining: 8m 41s\n",
      "955:\tlearn: 0.7541884\ttotal: 3h 4m 29s\tremaining: 8m 29s\n",
      "956:\tlearn: 0.7541378\ttotal: 3h 4m 40s\tremaining: 8m 17s\n",
      "957:\tlearn: 0.7539612\ttotal: 3h 4m 51s\tremaining: 8m 6s\n",
      "958:\tlearn: 0.7538854\ttotal: 3h 5m 3s\tremaining: 7m 54s\n",
      "959:\tlearn: 0.7533390\ttotal: 3h 5m 15s\tremaining: 7m 43s\n",
      "960:\tlearn: 0.7532855\ttotal: 3h 5m 26s\tremaining: 7m 31s\n",
      "961:\tlearn: 0.7532183\ttotal: 3h 5m 37s\tremaining: 7m 19s\n",
      "962:\tlearn: 0.7530760\ttotal: 3h 5m 48s\tremaining: 7m 8s\n",
      "963:\tlearn: 0.7529581\ttotal: 3h 6m\tremaining: 6m 56s\n",
      "964:\tlearn: 0.7529334\ttotal: 3h 6m 12s\tremaining: 6m 45s\n",
      "965:\tlearn: 0.7528512\ttotal: 3h 6m 23s\tremaining: 6m 33s\n",
      "966:\tlearn: 0.7528263\ttotal: 3h 6m 35s\tremaining: 6m 22s\n",
      "967:\tlearn: 0.7527164\ttotal: 3h 6m 46s\tremaining: 6m 10s\n",
      "968:\tlearn: 0.7525847\ttotal: 3h 6m 58s\tremaining: 5m 58s\n",
      "969:\tlearn: 0.7525675\ttotal: 3h 7m 9s\tremaining: 5m 47s\n",
      "970:\tlearn: 0.7524966\ttotal: 3h 7m 21s\tremaining: 5m 35s\n",
      "971:\tlearn: 0.7524623\ttotal: 3h 7m 32s\tremaining: 5m 24s\n",
      "972:\tlearn: 0.7524114\ttotal: 3h 7m 44s\tremaining: 5m 12s\n"
     ]
    },
    {
     "name": "stdout",
     "output_type": "stream",
     "text": [
      "973:\tlearn: 0.7523170\ttotal: 3h 7m 55s\tremaining: 5m\n",
      "974:\tlearn: 0.7522776\ttotal: 3h 8m 6s\tremaining: 4m 49s\n",
      "975:\tlearn: 0.7521309\ttotal: 3h 8m 18s\tremaining: 4m 37s\n",
      "976:\tlearn: 0.7521014\ttotal: 3h 8m 30s\tremaining: 4m 26s\n",
      "977:\tlearn: 0.7519844\ttotal: 3h 8m 41s\tremaining: 4m 14s\n",
      "978:\tlearn: 0.7517664\ttotal: 3h 8m 54s\tremaining: 4m 3s\n",
      "979:\tlearn: 0.7515803\ttotal: 3h 9m 5s\tremaining: 3m 51s\n",
      "980:\tlearn: 0.7515448\ttotal: 3h 9m 16s\tremaining: 3m 39s\n",
      "981:\tlearn: 0.7515036\ttotal: 3h 9m 28s\tremaining: 3m 28s\n",
      "982:\tlearn: 0.7513990\ttotal: 3h 9m 40s\tremaining: 3m 16s\n",
      "983:\tlearn: 0.7513681\ttotal: 3h 9m 51s\tremaining: 3m 5s\n",
      "984:\tlearn: 0.7512198\ttotal: 3h 10m 2s\tremaining: 2m 53s\n",
      "985:\tlearn: 0.7511127\ttotal: 3h 10m 14s\tremaining: 2m 42s\n",
      "986:\tlearn: 0.7507166\ttotal: 3h 10m 25s\tremaining: 2m 30s\n",
      "987:\tlearn: 0.7506344\ttotal: 3h 10m 37s\tremaining: 2m 18s\n",
      "988:\tlearn: 0.7501659\ttotal: 3h 10m 48s\tremaining: 2m 7s\n",
      "989:\tlearn: 0.7501574\ttotal: 3h 11m\tremaining: 1m 55s\n",
      "990:\tlearn: 0.7501048\ttotal: 3h 11m 11s\tremaining: 1m 44s\n",
      "991:\tlearn: 0.7500722\ttotal: 3h 11m 22s\tremaining: 1m 32s\n",
      "992:\tlearn: 0.7499538\ttotal: 3h 11m 33s\tremaining: 1m 21s\n",
      "993:\tlearn: 0.7499228\ttotal: 3h 11m 45s\tremaining: 1m 9s\n",
      "994:\tlearn: 0.7498976\ttotal: 3h 11m 57s\tremaining: 57.9s\n",
      "995:\tlearn: 0.7496533\ttotal: 3h 12m 8s\tremaining: 46.3s\n",
      "996:\tlearn: 0.7494619\ttotal: 3h 12m 20s\tremaining: 34.7s\n",
      "997:\tlearn: 0.7493171\ttotal: 3h 12m 31s\tremaining: 23.1s\n",
      "998:\tlearn: 0.7492963\ttotal: 3h 12m 42s\tremaining: 11.6s\n",
      "999:\tlearn: 0.7492707\ttotal: 3h 12m 53s\tremaining: 0us\n"
     ]
    },
    {
     "data": {
      "text/plain": [
       "<catboost.core.CatBoostClassifier at 0x2cff4e77710>"
      ]
     },
     "execution_count": 36,
     "metadata": {},
     "output_type": "execute_result"
    }
   ],
   "source": [
    "cat_model = CatBoostClassifier()\n",
    "cat_model.fit(X_train, y_train)"
   ]
  },
  {
   "cell_type": "code",
   "execution_count": 37,
   "metadata": {
    "execution": {
     "iopub.execute_input": "2023-10-26T10:52:37.194070Z",
     "iopub.status.busy": "2023-10-26T10:52:37.193607Z",
     "iopub.status.idle": "2023-10-26T10:52:37.300815Z",
     "shell.execute_reply": "2023-10-26T10:52:37.299884Z",
     "shell.execute_reply.started": "2023-10-26T10:52:37.194035Z"
    }
   },
   "outputs": [
    {
     "name": "stdout",
     "output_type": "stream",
     "text": [
      "Accuracy:  0.7635449402891263\n"
     ]
    }
   ],
   "source": [
    "predictions = cat_model.predict(X_test)\n",
    "print(\"Accuracy: \", accuracy_score(y_test, predictions))"
   ]
  },
  {
   "cell_type": "code",
   "execution_count": 41,
   "metadata": {
    "execution": {
     "iopub.execute_input": "2023-10-26T11:03:54.966805Z",
     "iopub.status.busy": "2023-10-26T11:03:54.966121Z",
     "iopub.status.idle": "2023-10-26T11:03:54.995682Z",
     "shell.execute_reply": "2023-10-26T11:03:54.994558Z",
     "shell.execute_reply.started": "2023-10-26T11:03:54.966770Z"
    }
   },
   "outputs": [],
   "source": [
    "le = LabelEncoder()\n",
    "y_train_encoded = le.fit_transform(y_train)\n",
    "y_test_encoded = le.fit_transform(y_test)"
   ]
  },
  {
   "cell_type": "code",
   "execution_count": 42,
   "metadata": {
    "execution": {
     "iopub.execute_input": "2023-10-26T11:04:04.847020Z",
     "iopub.status.busy": "2023-10-26T11:04:04.846364Z",
     "iopub.status.idle": "2023-10-26T11:07:25.662748Z",
     "shell.execute_reply": "2023-10-26T11:07:25.661781Z",
     "shell.execute_reply.started": "2023-10-26T11:04:04.846985Z"
    }
   },
   "outputs": [
    {
     "data": {
      "text/html": [
       "<style>#sk-container-id-5 {color: black;}#sk-container-id-5 pre{padding: 0;}#sk-container-id-5 div.sk-toggleable {background-color: white;}#sk-container-id-5 label.sk-toggleable__label {cursor: pointer;display: block;width: 100%;margin-bottom: 0;padding: 0.3em;box-sizing: border-box;text-align: center;}#sk-container-id-5 label.sk-toggleable__label-arrow:before {content: \"▸\";float: left;margin-right: 0.25em;color: #696969;}#sk-container-id-5 label.sk-toggleable__label-arrow:hover:before {color: black;}#sk-container-id-5 div.sk-estimator:hover label.sk-toggleable__label-arrow:before {color: black;}#sk-container-id-5 div.sk-toggleable__content {max-height: 0;max-width: 0;overflow: hidden;text-align: left;background-color: #f0f8ff;}#sk-container-id-5 div.sk-toggleable__content pre {margin: 0.2em;color: black;border-radius: 0.25em;background-color: #f0f8ff;}#sk-container-id-5 input.sk-toggleable__control:checked~div.sk-toggleable__content {max-height: 200px;max-width: 100%;overflow: auto;}#sk-container-id-5 input.sk-toggleable__control:checked~label.sk-toggleable__label-arrow:before {content: \"▾\";}#sk-container-id-5 div.sk-estimator input.sk-toggleable__control:checked~label.sk-toggleable__label {background-color: #d4ebff;}#sk-container-id-5 div.sk-label input.sk-toggleable__control:checked~label.sk-toggleable__label {background-color: #d4ebff;}#sk-container-id-5 input.sk-hidden--visually {border: 0;clip: rect(1px 1px 1px 1px);clip: rect(1px, 1px, 1px, 1px);height: 1px;margin: -1px;overflow: hidden;padding: 0;position: absolute;width: 1px;}#sk-container-id-5 div.sk-estimator {font-family: monospace;background-color: #f0f8ff;border: 1px dotted black;border-radius: 0.25em;box-sizing: border-box;margin-bottom: 0.5em;}#sk-container-id-5 div.sk-estimator:hover {background-color: #d4ebff;}#sk-container-id-5 div.sk-parallel-item::after {content: \"\";width: 100%;border-bottom: 1px solid gray;flex-grow: 1;}#sk-container-id-5 div.sk-label:hover label.sk-toggleable__label {background-color: #d4ebff;}#sk-container-id-5 div.sk-serial::before {content: \"\";position: absolute;border-left: 1px solid gray;box-sizing: border-box;top: 0;bottom: 0;left: 50%;z-index: 0;}#sk-container-id-5 div.sk-serial {display: flex;flex-direction: column;align-items: center;background-color: white;padding-right: 0.2em;padding-left: 0.2em;position: relative;}#sk-container-id-5 div.sk-item {position: relative;z-index: 1;}#sk-container-id-5 div.sk-parallel {display: flex;align-items: stretch;justify-content: center;background-color: white;position: relative;}#sk-container-id-5 div.sk-item::before, #sk-container-id-5 div.sk-parallel-item::before {content: \"\";position: absolute;border-left: 1px solid gray;box-sizing: border-box;top: 0;bottom: 0;left: 50%;z-index: -1;}#sk-container-id-5 div.sk-parallel-item {display: flex;flex-direction: column;z-index: 1;position: relative;background-color: white;}#sk-container-id-5 div.sk-parallel-item:first-child::after {align-self: flex-end;width: 50%;}#sk-container-id-5 div.sk-parallel-item:last-child::after {align-self: flex-start;width: 50%;}#sk-container-id-5 div.sk-parallel-item:only-child::after {width: 0;}#sk-container-id-5 div.sk-dashed-wrapped {border: 1px dashed gray;margin: 0 0.4em 0.5em 0.4em;box-sizing: border-box;padding-bottom: 0.4em;background-color: white;}#sk-container-id-5 div.sk-label label {font-family: monospace;font-weight: bold;display: inline-block;line-height: 1.2em;}#sk-container-id-5 div.sk-label-container {text-align: center;}#sk-container-id-5 div.sk-container {/* jupyter's `normalize.less` sets `[hidden] { display: none; }` but bootstrap.min.css set `[hidden] { display: none !important; }` so we also need the `!important` here to be able to override the default hidden behavior on the sphinx rendered scikit-learn.org. See: https://github.com/scikit-learn/scikit-learn/issues/21755 */display: inline-block !important;position: relative;}#sk-container-id-5 div.sk-text-repr-fallback {display: none;}</style><div id=\"sk-container-id-5\" class=\"sk-top-container\"><div class=\"sk-text-repr-fallback\"><pre>XGBClassifier(base_score=None, booster=None, callbacks=None,\n",
       "              colsample_bylevel=None, colsample_bynode=None,\n",
       "              colsample_bytree=None, early_stopping_rounds=None,\n",
       "              enable_categorical=False, eval_metric=None, feature_types=None,\n",
       "              gamma=None, gpu_id=None, grow_policy=None, importance_type=None,\n",
       "              interaction_constraints=None, learning_rate=None, max_bin=None,\n",
       "              max_cat_threshold=None, max_cat_to_onehot=None,\n",
       "              max_delta_step=None, max_depth=None, max_leaves=None,\n",
       "              min_child_weight=None, missing=nan, monotone_constraints=None,\n",
       "              n_estimators=100, n_jobs=None, num_parallel_tree=None,\n",
       "              objective=&#x27;multi:softprob&#x27;, predictor=None, ...)</pre><b>In a Jupyter environment, please rerun this cell to show the HTML representation or trust the notebook. <br />On GitHub, the HTML representation is unable to render, please try loading this page with nbviewer.org.</b></div><div class=\"sk-container\" hidden><div class=\"sk-item\"><div class=\"sk-estimator sk-toggleable\"><input class=\"sk-toggleable__control sk-hidden--visually\" id=\"sk-estimator-id-5\" type=\"checkbox\" checked><label for=\"sk-estimator-id-5\" class=\"sk-toggleable__label sk-toggleable__label-arrow\">XGBClassifier</label><div class=\"sk-toggleable__content\"><pre>XGBClassifier(base_score=None, booster=None, callbacks=None,\n",
       "              colsample_bylevel=None, colsample_bynode=None,\n",
       "              colsample_bytree=None, early_stopping_rounds=None,\n",
       "              enable_categorical=False, eval_metric=None, feature_types=None,\n",
       "              gamma=None, gpu_id=None, grow_policy=None, importance_type=None,\n",
       "              interaction_constraints=None, learning_rate=None, max_bin=None,\n",
       "              max_cat_threshold=None, max_cat_to_onehot=None,\n",
       "              max_delta_step=None, max_depth=None, max_leaves=None,\n",
       "              min_child_weight=None, missing=nan, monotone_constraints=None,\n",
       "              n_estimators=100, n_jobs=None, num_parallel_tree=None,\n",
       "              objective=&#x27;multi:softprob&#x27;, predictor=None, ...)</pre></div></div></div></div></div>"
      ],
      "text/plain": [
       "XGBClassifier(base_score=None, booster=None, callbacks=None,\n",
       "              colsample_bylevel=None, colsample_bynode=None,\n",
       "              colsample_bytree=None, early_stopping_rounds=None,\n",
       "              enable_categorical=False, eval_metric=None, feature_types=None,\n",
       "              gamma=None, gpu_id=None, grow_policy=None, importance_type=None,\n",
       "              interaction_constraints=None, learning_rate=None, max_bin=None,\n",
       "              max_cat_threshold=None, max_cat_to_onehot=None,\n",
       "              max_delta_step=None, max_depth=None, max_leaves=None,\n",
       "              min_child_weight=None, missing=nan, monotone_constraints=None,\n",
       "              n_estimators=100, n_jobs=None, num_parallel_tree=None,\n",
       "              objective='multi:softprob', predictor=None, ...)"
      ]
     },
     "execution_count": 42,
     "metadata": {},
     "output_type": "execute_result"
    }
   ],
   "source": [
    "xgb_model = XGBClassifier()\n",
    "xgb_model.fit(X_train, y_train_encoded)"
   ]
  },
  {
   "cell_type": "code",
   "execution_count": 43,
   "metadata": {
    "execution": {
     "iopub.execute_input": "2023-10-26T11:08:59.197330Z",
     "iopub.status.busy": "2023-10-26T11:08:59.196682Z",
     "iopub.status.idle": "2023-10-26T11:08:59.702818Z",
     "shell.execute_reply": "2023-10-26T11:08:59.702014Z",
     "shell.execute_reply.started": "2023-10-26T11:08:59.197296Z"
    }
   },
   "outputs": [
    {
     "name": "stdout",
     "output_type": "stream",
     "text": [
      "Accuracy:  0.7797611565053425\n"
     ]
    }
   ],
   "source": [
    "predictions = xgb_model.predict(X_test)\n",
    "print(\"Accuracy: \", accuracy_score(y_test_encoded, predictions))"
   ]
  },
  {
   "cell_type": "code",
   "execution_count": 44,
   "metadata": {
    "execution": {
     "iopub.execute_input": "2023-10-26T11:44:47.638386Z",
     "iopub.status.busy": "2023-10-26T11:44:47.637513Z",
     "iopub.status.idle": "2023-10-26T11:47:17.045976Z",
     "shell.execute_reply": "2023-10-26T11:47:17.044940Z",
     "shell.execute_reply.started": "2023-10-26T11:44:47.638348Z"
    }
   },
   "outputs": [
    {
     "data": {
      "text/html": [
       "<style>#sk-container-id-6 {color: black;}#sk-container-id-6 pre{padding: 0;}#sk-container-id-6 div.sk-toggleable {background-color: white;}#sk-container-id-6 label.sk-toggleable__label {cursor: pointer;display: block;width: 100%;margin-bottom: 0;padding: 0.3em;box-sizing: border-box;text-align: center;}#sk-container-id-6 label.sk-toggleable__label-arrow:before {content: \"▸\";float: left;margin-right: 0.25em;color: #696969;}#sk-container-id-6 label.sk-toggleable__label-arrow:hover:before {color: black;}#sk-container-id-6 div.sk-estimator:hover label.sk-toggleable__label-arrow:before {color: black;}#sk-container-id-6 div.sk-toggleable__content {max-height: 0;max-width: 0;overflow: hidden;text-align: left;background-color: #f0f8ff;}#sk-container-id-6 div.sk-toggleable__content pre {margin: 0.2em;color: black;border-radius: 0.25em;background-color: #f0f8ff;}#sk-container-id-6 input.sk-toggleable__control:checked~div.sk-toggleable__content {max-height: 200px;max-width: 100%;overflow: auto;}#sk-container-id-6 input.sk-toggleable__control:checked~label.sk-toggleable__label-arrow:before {content: \"▾\";}#sk-container-id-6 div.sk-estimator input.sk-toggleable__control:checked~label.sk-toggleable__label {background-color: #d4ebff;}#sk-container-id-6 div.sk-label input.sk-toggleable__control:checked~label.sk-toggleable__label {background-color: #d4ebff;}#sk-container-id-6 input.sk-hidden--visually {border: 0;clip: rect(1px 1px 1px 1px);clip: rect(1px, 1px, 1px, 1px);height: 1px;margin: -1px;overflow: hidden;padding: 0;position: absolute;width: 1px;}#sk-container-id-6 div.sk-estimator {font-family: monospace;background-color: #f0f8ff;border: 1px dotted black;border-radius: 0.25em;box-sizing: border-box;margin-bottom: 0.5em;}#sk-container-id-6 div.sk-estimator:hover {background-color: #d4ebff;}#sk-container-id-6 div.sk-parallel-item::after {content: \"\";width: 100%;border-bottom: 1px solid gray;flex-grow: 1;}#sk-container-id-6 div.sk-label:hover label.sk-toggleable__label {background-color: #d4ebff;}#sk-container-id-6 div.sk-serial::before {content: \"\";position: absolute;border-left: 1px solid gray;box-sizing: border-box;top: 0;bottom: 0;left: 50%;z-index: 0;}#sk-container-id-6 div.sk-serial {display: flex;flex-direction: column;align-items: center;background-color: white;padding-right: 0.2em;padding-left: 0.2em;position: relative;}#sk-container-id-6 div.sk-item {position: relative;z-index: 1;}#sk-container-id-6 div.sk-parallel {display: flex;align-items: stretch;justify-content: center;background-color: white;position: relative;}#sk-container-id-6 div.sk-item::before, #sk-container-id-6 div.sk-parallel-item::before {content: \"\";position: absolute;border-left: 1px solid gray;box-sizing: border-box;top: 0;bottom: 0;left: 50%;z-index: -1;}#sk-container-id-6 div.sk-parallel-item {display: flex;flex-direction: column;z-index: 1;position: relative;background-color: white;}#sk-container-id-6 div.sk-parallel-item:first-child::after {align-self: flex-end;width: 50%;}#sk-container-id-6 div.sk-parallel-item:last-child::after {align-self: flex-start;width: 50%;}#sk-container-id-6 div.sk-parallel-item:only-child::after {width: 0;}#sk-container-id-6 div.sk-dashed-wrapped {border: 1px dashed gray;margin: 0 0.4em 0.5em 0.4em;box-sizing: border-box;padding-bottom: 0.4em;background-color: white;}#sk-container-id-6 div.sk-label label {font-family: monospace;font-weight: bold;display: inline-block;line-height: 1.2em;}#sk-container-id-6 div.sk-label-container {text-align: center;}#sk-container-id-6 div.sk-container {/* jupyter's `normalize.less` sets `[hidden] { display: none; }` but bootstrap.min.css set `[hidden] { display: none !important; }` so we also need the `!important` here to be able to override the default hidden behavior on the sphinx rendered scikit-learn.org. See: https://github.com/scikit-learn/scikit-learn/issues/21755 */display: inline-block !important;position: relative;}#sk-container-id-6 div.sk-text-repr-fallback {display: none;}</style><div id=\"sk-container-id-6\" class=\"sk-top-container\"><div class=\"sk-text-repr-fallback\"><pre>SVC()</pre><b>In a Jupyter environment, please rerun this cell to show the HTML representation or trust the notebook. <br />On GitHub, the HTML representation is unable to render, please try loading this page with nbviewer.org.</b></div><div class=\"sk-container\" hidden><div class=\"sk-item\"><div class=\"sk-estimator sk-toggleable\"><input class=\"sk-toggleable__control sk-hidden--visually\" id=\"sk-estimator-id-6\" type=\"checkbox\" checked><label for=\"sk-estimator-id-6\" class=\"sk-toggleable__label sk-toggleable__label-arrow\">SVC</label><div class=\"sk-toggleable__content\"><pre>SVC()</pre></div></div></div></div></div>"
      ],
      "text/plain": [
       "SVC()"
      ]
     },
     "execution_count": 44,
     "metadata": {},
     "output_type": "execute_result"
    }
   ],
   "source": [
    "svc_model = SVC()\n",
    "svc_model.fit(X_train, y_train)"
   ]
  },
  {
   "cell_type": "code",
   "execution_count": 45,
   "metadata": {
    "execution": {
     "iopub.execute_input": "2023-10-26T11:56:40.030939Z",
     "iopub.status.busy": "2023-10-26T11:56:40.030503Z",
     "iopub.status.idle": "2023-10-26T11:57:19.419053Z",
     "shell.execute_reply": "2023-10-26T11:57:19.418010Z",
     "shell.execute_reply.started": "2023-10-26T11:56:40.030889Z"
    }
   },
   "outputs": [
    {
     "name": "stdout",
     "output_type": "stream",
     "text": [
      "Accuracy:  0.8001257071024512\n"
     ]
    }
   ],
   "source": [
    "predictions = svc_model.predict(X_test)\n",
    "print(\"Accuracy: \", accuracy_score(y_test, predictions))"
   ]
  },
  {
   "cell_type": "code",
   "execution_count": 46,
   "metadata": {
    "execution": {
     "iopub.execute_input": "2023-10-26T12:13:05.590410Z",
     "iopub.status.busy": "2023-10-26T12:13:05.590022Z",
     "iopub.status.idle": "2023-10-26T12:13:54.373999Z",
     "shell.execute_reply": "2023-10-26T12:13:54.373124Z",
     "shell.execute_reply.started": "2023-10-26T12:13:05.590377Z"
    }
   },
   "outputs": [],
   "source": [
    "test_predict = svc_model.predict(test_tfidf)"
   ]
  },
  {
   "cell_type": "code",
   "execution_count": 49,
   "metadata": {
    "execution": {
     "iopub.execute_input": "2023-10-26T12:17:51.347967Z",
     "iopub.status.busy": "2023-10-26T12:17:51.347250Z",
     "iopub.status.idle": "2023-10-26T12:17:51.379939Z",
     "shell.execute_reply": "2023-10-26T12:17:51.378991Z",
     "shell.execute_reply.started": "2023-10-26T12:17:51.347921Z"
    }
   },
   "outputs": [
    {
     "data": {
      "text/html": [
       "<div>\n",
       "<style scoped>\n",
       "    .dataframe tbody tr th:only-of-type {\n",
       "        vertical-align: middle;\n",
       "    }\n",
       "\n",
       "    .dataframe tbody tr th {\n",
       "        vertical-align: top;\n",
       "    }\n",
       "\n",
       "    .dataframe thead th {\n",
       "        text-align: right;\n",
       "    }\n",
       "</style>\n",
       "<table border=\"1\" class=\"dataframe\">\n",
       "  <thead>\n",
       "    <tr style=\"text-align: right;\">\n",
       "      <th></th>\n",
       "      <th>id</th>\n",
       "      <th>cuisine</th>\n",
       "    </tr>\n",
       "  </thead>\n",
       "  <tbody>\n",
       "    <tr>\n",
       "      <th>0</th>\n",
       "      <td>35203</td>\n",
       "      <td>italian</td>\n",
       "    </tr>\n",
       "    <tr>\n",
       "      <th>1</th>\n",
       "      <td>17600</td>\n",
       "      <td>italian</td>\n",
       "    </tr>\n",
       "    <tr>\n",
       "      <th>2</th>\n",
       "      <td>35200</td>\n",
       "      <td>italian</td>\n",
       "    </tr>\n",
       "    <tr>\n",
       "      <th>3</th>\n",
       "      <td>17602</td>\n",
       "      <td>italian</td>\n",
       "    </tr>\n",
       "    <tr>\n",
       "      <th>4</th>\n",
       "      <td>17605</td>\n",
       "      <td>italian</td>\n",
       "    </tr>\n",
       "    <tr>\n",
       "      <th>...</th>\n",
       "      <td>...</td>\n",
       "      <td>...</td>\n",
       "    </tr>\n",
       "    <tr>\n",
       "      <th>9939</th>\n",
       "      <td>46537</td>\n",
       "      <td>italian</td>\n",
       "    </tr>\n",
       "    <tr>\n",
       "      <th>9940</th>\n",
       "      <td>30854</td>\n",
       "      <td>italian</td>\n",
       "    </tr>\n",
       "    <tr>\n",
       "      <th>9941</th>\n",
       "      <td>15430</td>\n",
       "      <td>italian</td>\n",
       "    </tr>\n",
       "    <tr>\n",
       "      <th>9942</th>\n",
       "      <td>46530</td>\n",
       "      <td>italian</td>\n",
       "    </tr>\n",
       "    <tr>\n",
       "      <th>9943</th>\n",
       "      <td>30849</td>\n",
       "      <td>italian</td>\n",
       "    </tr>\n",
       "  </tbody>\n",
       "</table>\n",
       "<p>9944 rows × 2 columns</p>\n",
       "</div>"
      ],
      "text/plain": [
       "         id  cuisine\n",
       "0     35203  italian\n",
       "1     17600  italian\n",
       "2     35200  italian\n",
       "3     17602  italian\n",
       "4     17605  italian\n",
       "...     ...      ...\n",
       "9939  46537  italian\n",
       "9940  30854  italian\n",
       "9941  15430  italian\n",
       "9942  46530  italian\n",
       "9943  30849  italian\n",
       "\n",
       "[9944 rows x 2 columns]"
      ]
     },
     "execution_count": 49,
     "metadata": {},
     "output_type": "execute_result"
    }
   ],
   "source": [
    "pd.read_csv('sample_submission.csv')"
   ]
  },
  {
   "cell_type": "code",
   "execution_count": 47,
   "metadata": {},
   "outputs": [],
   "source": [
    "test_df = pd.DataFrame(test_predict, columns=['cuisine'])"
   ]
  },
  {
   "cell_type": "code",
   "execution_count": 48,
   "metadata": {
    "execution": {
     "iopub.execute_input": "2023-10-26T12:26:17.869648Z",
     "iopub.status.busy": "2023-10-26T12:26:17.868910Z",
     "iopub.status.idle": "2023-10-26T12:26:17.882740Z",
     "shell.execute_reply": "2023-10-26T12:26:17.881721Z",
     "shell.execute_reply.started": "2023-10-26T12:26:17.869615Z"
    }
   },
   "outputs": [
    {
     "data": {
      "text/html": [
       "<div>\n",
       "<style scoped>\n",
       "    .dataframe tbody tr th:only-of-type {\n",
       "        vertical-align: middle;\n",
       "    }\n",
       "\n",
       "    .dataframe tbody tr th {\n",
       "        vertical-align: top;\n",
       "    }\n",
       "\n",
       "    .dataframe thead th {\n",
       "        text-align: right;\n",
       "    }\n",
       "</style>\n",
       "<table border=\"1\" class=\"dataframe\">\n",
       "  <thead>\n",
       "    <tr style=\"text-align: right;\">\n",
       "      <th></th>\n",
       "      <th>id</th>\n",
       "      <th>cuisine</th>\n",
       "    </tr>\n",
       "  </thead>\n",
       "  <tbody>\n",
       "    <tr>\n",
       "      <th>0</th>\n",
       "      <td>18009</td>\n",
       "      <td>greek</td>\n",
       "    </tr>\n",
       "    <tr>\n",
       "      <th>1</th>\n",
       "      <td>28583</td>\n",
       "      <td>southern_us</td>\n",
       "    </tr>\n",
       "    <tr>\n",
       "      <th>2</th>\n",
       "      <td>41580</td>\n",
       "      <td>filipino</td>\n",
       "    </tr>\n",
       "    <tr>\n",
       "      <th>3</th>\n",
       "      <td>29752</td>\n",
       "      <td>indian</td>\n",
       "    </tr>\n",
       "    <tr>\n",
       "      <th>4</th>\n",
       "      <td>35687</td>\n",
       "      <td>indian</td>\n",
       "    </tr>\n",
       "    <tr>\n",
       "      <th>...</th>\n",
       "      <td>...</td>\n",
       "      <td>...</td>\n",
       "    </tr>\n",
       "    <tr>\n",
       "      <th>9939</th>\n",
       "      <td>30246</td>\n",
       "      <td>mexican</td>\n",
       "    </tr>\n",
       "    <tr>\n",
       "      <th>9940</th>\n",
       "      <td>36028</td>\n",
       "      <td>italian</td>\n",
       "    </tr>\n",
       "    <tr>\n",
       "      <th>9941</th>\n",
       "      <td>22339</td>\n",
       "      <td>french</td>\n",
       "    </tr>\n",
       "    <tr>\n",
       "      <th>9942</th>\n",
       "      <td>42525</td>\n",
       "      <td>indian</td>\n",
       "    </tr>\n",
       "    <tr>\n",
       "      <th>9943</th>\n",
       "      <td>1443</td>\n",
       "      <td>southern_us</td>\n",
       "    </tr>\n",
       "  </tbody>\n",
       "</table>\n",
       "<p>9944 rows × 2 columns</p>\n",
       "</div>"
      ],
      "text/plain": [
       "         id      cuisine\n",
       "0     18009        greek\n",
       "1     28583  southern_us\n",
       "2     41580     filipino\n",
       "3     29752       indian\n",
       "4     35687       indian\n",
       "...     ...          ...\n",
       "9939  30246      mexican\n",
       "9940  36028      italian\n",
       "9941  22339       french\n",
       "9942  42525       indian\n",
       "9943   1443  southern_us\n",
       "\n",
       "[9944 rows x 2 columns]"
      ]
     },
     "execution_count": 48,
     "metadata": {},
     "output_type": "execute_result"
    }
   ],
   "source": [
    "test_df = pd.DataFrame(test_predict, columns=['cuisine'])\n",
    "sub_df = pd.concat([test_id, test_df], axis = 1, ignore_index= True )\n",
    "sub_df.columns = ['id', 'cuisine']\n",
    "sub_df"
   ]
  },
  {
   "cell_type": "code",
   "execution_count": null,
   "metadata": {
    "execution": {
     "iopub.execute_input": "2023-10-26T13:07:25.076476Z",
     "iopub.status.busy": "2023-10-26T13:07:25.075698Z",
     "iopub.status.idle": "2023-10-26T13:07:25.113181Z",
     "shell.execute_reply": "2023-10-26T13:07:25.111859Z",
     "shell.execute_reply.started": "2023-10-26T13:07:25.076436Z"
    }
   },
   "outputs": [],
   "source": [
    "sub_df.to_csv('submission_file.csv', index= False)"
   ]
  },
  {
   "cell_type": "markdown",
   "metadata": {
    "execution": {
     "iopub.execute_input": "2023-10-26T13:07:28.856924Z",
     "iopub.status.busy": "2023-10-26T13:07:28.856044Z",
     "iopub.status.idle": "2023-10-26T13:07:28.863517Z",
     "shell.execute_reply": "2023-10-26T13:07:28.862354Z",
     "shell.execute_reply.started": "2023-10-26T13:07:28.856887Z"
    }
   },
   "source": [
    "# using optuna for hyper parameter tuning\n",
    "def objective(trial):\n",
    "    C = trial.suggest_float('C', 1e-5, 1e5)\n",
    "    kernel = trial.suggest_categorical(\"kernel\", [\"linear\", \"poly\", \"rbf\"])\n",
    "    degree = trial.suggest_int('degree', 1, 5)\n",
    "    \n",
    "    clf = SVC(kernel=kernel, gamma=\"scale\", random_state=0, C=C,degree=degree)\n",
    "    \n",
    "    svc_op_model = clf.fit(X_train, y_train)\n",
    "    svc_op_model.predict(X_test)\n",
    "    \n",
    "    accuracy = accuracy_score(y_test, predictions)\n",
    "    return accuracy"
   ]
  },
  {
   "cell_type": "markdown",
   "metadata": {
    "execution": {
     "iopub.execute_input": "2023-10-26T13:07:36.256286Z",
     "iopub.status.busy": "2023-10-26T13:07:36.255306Z"
    }
   },
   "source": [
    "study = optuna.create_study(direction='maximize')\n",
    "study.optimize(objective, n_trials=10)"
   ]
  },
  {
   "cell_type": "code",
   "execution_count": 50,
   "metadata": {
    "execution": {
     "iopub.execute_input": "2023-10-26T11:18:56.497768Z",
     "iopub.status.busy": "2023-10-26T11:18:56.497346Z",
     "iopub.status.idle": "2023-10-26T11:19:49.239004Z",
     "shell.execute_reply": "2023-10-26T11:19:49.237941Z",
     "shell.execute_reply.started": "2023-10-26T11:18:56.497729Z"
    }
   },
   "outputs": [
    {
     "data": {
      "text/html": [
       "<style>#sk-container-id-7 {color: black;}#sk-container-id-7 pre{padding: 0;}#sk-container-id-7 div.sk-toggleable {background-color: white;}#sk-container-id-7 label.sk-toggleable__label {cursor: pointer;display: block;width: 100%;margin-bottom: 0;padding: 0.3em;box-sizing: border-box;text-align: center;}#sk-container-id-7 label.sk-toggleable__label-arrow:before {content: \"▸\";float: left;margin-right: 0.25em;color: #696969;}#sk-container-id-7 label.sk-toggleable__label-arrow:hover:before {color: black;}#sk-container-id-7 div.sk-estimator:hover label.sk-toggleable__label-arrow:before {color: black;}#sk-container-id-7 div.sk-toggleable__content {max-height: 0;max-width: 0;overflow: hidden;text-align: left;background-color: #f0f8ff;}#sk-container-id-7 div.sk-toggleable__content pre {margin: 0.2em;color: black;border-radius: 0.25em;background-color: #f0f8ff;}#sk-container-id-7 input.sk-toggleable__control:checked~div.sk-toggleable__content {max-height: 200px;max-width: 100%;overflow: auto;}#sk-container-id-7 input.sk-toggleable__control:checked~label.sk-toggleable__label-arrow:before {content: \"▾\";}#sk-container-id-7 div.sk-estimator input.sk-toggleable__control:checked~label.sk-toggleable__label {background-color: #d4ebff;}#sk-container-id-7 div.sk-label input.sk-toggleable__control:checked~label.sk-toggleable__label {background-color: #d4ebff;}#sk-container-id-7 input.sk-hidden--visually {border: 0;clip: rect(1px 1px 1px 1px);clip: rect(1px, 1px, 1px, 1px);height: 1px;margin: -1px;overflow: hidden;padding: 0;position: absolute;width: 1px;}#sk-container-id-7 div.sk-estimator {font-family: monospace;background-color: #f0f8ff;border: 1px dotted black;border-radius: 0.25em;box-sizing: border-box;margin-bottom: 0.5em;}#sk-container-id-7 div.sk-estimator:hover {background-color: #d4ebff;}#sk-container-id-7 div.sk-parallel-item::after {content: \"\";width: 100%;border-bottom: 1px solid gray;flex-grow: 1;}#sk-container-id-7 div.sk-label:hover label.sk-toggleable__label {background-color: #d4ebff;}#sk-container-id-7 div.sk-serial::before {content: \"\";position: absolute;border-left: 1px solid gray;box-sizing: border-box;top: 0;bottom: 0;left: 50%;z-index: 0;}#sk-container-id-7 div.sk-serial {display: flex;flex-direction: column;align-items: center;background-color: white;padding-right: 0.2em;padding-left: 0.2em;position: relative;}#sk-container-id-7 div.sk-item {position: relative;z-index: 1;}#sk-container-id-7 div.sk-parallel {display: flex;align-items: stretch;justify-content: center;background-color: white;position: relative;}#sk-container-id-7 div.sk-item::before, #sk-container-id-7 div.sk-parallel-item::before {content: \"\";position: absolute;border-left: 1px solid gray;box-sizing: border-box;top: 0;bottom: 0;left: 50%;z-index: -1;}#sk-container-id-7 div.sk-parallel-item {display: flex;flex-direction: column;z-index: 1;position: relative;background-color: white;}#sk-container-id-7 div.sk-parallel-item:first-child::after {align-self: flex-end;width: 50%;}#sk-container-id-7 div.sk-parallel-item:last-child::after {align-self: flex-start;width: 50%;}#sk-container-id-7 div.sk-parallel-item:only-child::after {width: 0;}#sk-container-id-7 div.sk-dashed-wrapped {border: 1px dashed gray;margin: 0 0.4em 0.5em 0.4em;box-sizing: border-box;padding-bottom: 0.4em;background-color: white;}#sk-container-id-7 div.sk-label label {font-family: monospace;font-weight: bold;display: inline-block;line-height: 1.2em;}#sk-container-id-7 div.sk-label-container {text-align: center;}#sk-container-id-7 div.sk-container {/* jupyter's `normalize.less` sets `[hidden] { display: none; }` but bootstrap.min.css set `[hidden] { display: none !important; }` so we also need the `!important` here to be able to override the default hidden behavior on the sphinx rendered scikit-learn.org. See: https://github.com/scikit-learn/scikit-learn/issues/21755 */display: inline-block !important;position: relative;}#sk-container-id-7 div.sk-text-repr-fallback {display: none;}</style><div id=\"sk-container-id-7\" class=\"sk-top-container\"><div class=\"sk-text-repr-fallback\"><pre>RandomForestClassifier()</pre><b>In a Jupyter environment, please rerun this cell to show the HTML representation or trust the notebook. <br />On GitHub, the HTML representation is unable to render, please try loading this page with nbviewer.org.</b></div><div class=\"sk-container\" hidden><div class=\"sk-item\"><div class=\"sk-estimator sk-toggleable\"><input class=\"sk-toggleable__control sk-hidden--visually\" id=\"sk-estimator-id-7\" type=\"checkbox\" checked><label for=\"sk-estimator-id-7\" class=\"sk-toggleable__label sk-toggleable__label-arrow\">RandomForestClassifier</label><div class=\"sk-toggleable__content\"><pre>RandomForestClassifier()</pre></div></div></div></div></div>"
      ],
      "text/plain": [
       "RandomForestClassifier()"
      ]
     },
     "execution_count": 50,
     "metadata": {},
     "output_type": "execute_result"
    }
   ],
   "source": [
    "rf_model = RandomForestClassifier()\n",
    "rf_model.fit(X_train, y_train)"
   ]
  },
  {
   "cell_type": "code",
   "execution_count": 51,
   "metadata": {
    "execution": {
     "iopub.execute_input": "2023-10-26T11:20:00.329265Z",
     "iopub.status.busy": "2023-10-26T11:20:00.328386Z",
     "iopub.status.idle": "2023-10-26T11:20:00.742015Z",
     "shell.execute_reply": "2023-10-26T11:20:00.740974Z",
     "shell.execute_reply.started": "2023-10-26T11:20:00.329224Z"
    }
   },
   "outputs": [
    {
     "name": "stdout",
     "output_type": "stream",
     "text": [
      "Accuracy:  0.7474544311753614\n"
     ]
    }
   ],
   "source": [
    "predictions = rf_model.predict(X_test)\n",
    "print(\"Accuracy: \", accuracy_score(y_test, predictions))"
   ]
  },
  {
   "cell_type": "code",
   "execution_count": null,
   "metadata": {},
   "outputs": [],
   "source": []
  }
 ],
 "metadata": {
  "kernelspec": {
   "display_name": "Python 3 (ipykernel)",
   "language": "python",
   "name": "python3"
  },
  "language_info": {
   "codemirror_mode": {
    "name": "ipython",
    "version": 3
   },
   "file_extension": ".py",
   "mimetype": "text/x-python",
   "name": "python",
   "nbconvert_exporter": "python",
   "pygments_lexer": "ipython3",
   "version": "3.11.2"
  }
 },
 "nbformat": 4,
 "nbformat_minor": 4
}
